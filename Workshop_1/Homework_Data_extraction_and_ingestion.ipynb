{
  "cells": [
    {
      "cell_type": "markdown",
      "metadata": {
        "id": "mrTFv5nPClXh"
      },
      "source": [
        "# **Homework**: Data talks club data engineering zoomcamp Data loading workshop\n",
        "\n",
        "Hello folks, let's practice what we learned - Loading data with the best practices of data engineering.\n",
        "\n",
        "Here are the exercises we will do\n",
        "\n",
        "\n"
      ]
    },
    {
      "cell_type": "markdown",
      "metadata": {
        "id": "wLF4iXf-NR7t"
      },
      "source": [
        "# 1. Use a generator\n",
        "\n",
        "Remember the concept of generator? Let's practice using them to futher our understanding of how they work.\n",
        "\n",
        "Let's define a generator and then run it as practice.\n",
        "\n",
        "**Answer the following questions:**\n",
        "\n",
        "- **Question 1: What is the sum of the outputs of the generator for limit = 5?**\n",
        "- **Question 2: What is the 13th number yielded**\n",
        "\n",
        "I suggest practicing these questions without GPT as the purpose is to further your learning."
      ]
    },
    {
      "cell_type": "code",
      "execution_count": 2,
      "metadata": {
        "colab": {
          "base_uri": "https://localhost:8080/"
        },
        "id": "wLng-bDJN4jf",
        "outputId": "723ed92d-11b7-449b-b7f1-939553ef4d63"
      },
      "outputs": [
        {
          "name": "stdout",
          "output_type": "stream",
          "text": [
            "1.0\n",
            "1.4142135623730951\n",
            "1.7320508075688772\n",
            "2.0\n",
            "2.23606797749979\n"
          ]
        }
      ],
      "source": [
        "def square_root_generator(limit):\n",
        "    n = 1\n",
        "    while n <= limit:\n",
        "        yield n ** 0.5\n",
        "        n += 1\n",
        "\n",
        "# Example usage:\n",
        "limit = 5\n",
        "generator = square_root_generator(limit)\n",
        "\n",
        "for sqrt_value in generator:\n",
        "    print(sqrt_value)\n"
      ]
    },
    {
      "cell_type": "markdown",
      "metadata": {
        "id": "xbe3q55zN43j"
      },
      "source": []
    },
    {
      "cell_type": "markdown",
      "metadata": {
        "id": "vjWhILzGJMpK"
      },
      "source": [
        "# 2. Append a generator to a table with existing data\n",
        "\n",
        "\n",
        "Below you have 2 generators. You will be tasked to load them to duckdb and answer some questions from the data\n",
        "\n",
        "1. Load the first generator and calculate the sum of ages of all people. Make sure to only load it once.\n",
        "2. Append the second generator to the same table as the first.\n",
        "3. **After correctly appending the data, calculate the sum of all ages of people.**\n",
        "\n",
        "\n"
      ]
    },
    {
      "cell_type": "code",
      "execution_count": 3,
      "metadata": {
        "colab": {
          "base_uri": "https://localhost:8080/"
        },
        "id": "2MoaQcdLBEk6",
        "outputId": "ca63b084-4767-4025-8491-d5068fec0b63"
      },
      "outputs": [
        {
          "name": "stdout",
          "output_type": "stream",
          "text": [
            "{'ID': 1, 'Name': 'Person_1', 'Age': 26, 'City': 'City_A'}\n",
            "{'ID': 2, 'Name': 'Person_2', 'Age': 27, 'City': 'City_A'}\n",
            "{'ID': 3, 'Name': 'Person_3', 'Age': 28, 'City': 'City_A'}\n",
            "{'ID': 4, 'Name': 'Person_4', 'Age': 29, 'City': 'City_A'}\n",
            "{'ID': 5, 'Name': 'Person_5', 'Age': 30, 'City': 'City_A'}\n",
            "{'ID': 3, 'Name': 'Person_3', 'Age': 33, 'City': 'City_B', 'Occupation': 'Job_3'}\n",
            "{'ID': 4, 'Name': 'Person_4', 'Age': 34, 'City': 'City_B', 'Occupation': 'Job_4'}\n",
            "{'ID': 5, 'Name': 'Person_5', 'Age': 35, 'City': 'City_B', 'Occupation': 'Job_5'}\n",
            "{'ID': 6, 'Name': 'Person_6', 'Age': 36, 'City': 'City_B', 'Occupation': 'Job_6'}\n",
            "{'ID': 7, 'Name': 'Person_7', 'Age': 37, 'City': 'City_B', 'Occupation': 'Job_7'}\n",
            "{'ID': 8, 'Name': 'Person_8', 'Age': 38, 'City': 'City_B', 'Occupation': 'Job_8'}\n"
          ]
        }
      ],
      "source": [
        "def people_1():\n",
        "    for i in range(1, 6):\n",
        "        yield {\"ID\": i, \"Name\": f\"Person_{i}\", \"Age\": 25 + i, \"City\": \"City_A\"}\n",
        "\n",
        "for person in people_1():\n",
        "    print(person)\n",
        "\n",
        "\n",
        "def people_2():\n",
        "    for i in range(3, 9):\n",
        "        yield {\"ID\": i, \"Name\": f\"Person_{i}\", \"Age\": 30 + i, \"City\": \"City_B\", \"Occupation\": f\"Job_{i}\"}\n",
        "\n",
        "\n",
        "for person in people_2():\n",
        "    print(person)\n"
      ]
    },
    {
      "cell_type": "markdown",
      "metadata": {
        "id": "vtdTIm4fvQCN"
      },
      "source": []
    },
    {
      "cell_type": "markdown",
      "metadata": {
        "id": "pY4cFAWOSwN1"
      },
      "source": [
        "# 3. Merge a generator\n",
        "\n",
        "Re-use the generators from Exercise 2.\n",
        "\n",
        "A table's primary key needs to be created from the start, so load your data to a new table with primary key ID.\n",
        "\n",
        "Load your first generator first, and then load the second one with merge. Since they have overlapping IDs, some of the records from the first load should be replaced by the ones from the second load.\n",
        "\n",
        "After loading, you should have a total of 8 records, and ID 3 should have age 33.\n",
        "\n",
        "Question: **Calculate the sum of ages of all the people loaded as described above.**\n"
      ]
    },
    {
      "cell_type": "markdown",
      "metadata": {
        "id": "kKB2GTB9oVjr"
      },
      "source": [
        "# Solution: First make sure that the following modules are installed:"
      ]
    },
    {
      "cell_type": "code",
      "execution_count": 4,
      "metadata": {
        "id": "xTVvtyqrfVNq"
      },
      "outputs": [
        {
          "name": "stdout",
          "output_type": "stream",
          "text": [
            "Defaulting to user installation because normal site-packages is not writeable\n",
            "Collecting dlt[duckdb]\n",
            "  Downloading dlt-0.4.3-py3-none-any.whl.metadata (9.7 kB)\n",
            "Collecting PyYAML>=5.4.1 (from dlt[duckdb])\n",
            "  Downloading PyYAML-6.0.1-cp312-cp312-win_amd64.whl.metadata (2.1 kB)\n",
            "Collecting SQLAlchemy>=1.4.0 (from dlt[duckdb])\n",
            "  Downloading SQLAlchemy-2.0.25-cp312-cp312-win_amd64.whl.metadata (9.8 kB)\n",
            "Collecting astunparse>=1.6.3 (from dlt[duckdb])\n",
            "  Downloading astunparse-1.6.3-py2.py3-none-any.whl (12 kB)\n",
            "Collecting click>=7.1 (from dlt[duckdb])\n",
            "  Downloading click-8.1.7-py3-none-any.whl.metadata (3.0 kB)\n",
            "Collecting duckdb<0.10.0,>=0.6.1 (from dlt[duckdb])\n",
            "  Downloading duckdb-0.9.2.tar.gz (10.7 MB)\n",
            "     ---------------------------------------- 0.0/10.7 MB ? eta -:--:--\n",
            "     ---------------------------------------- 0.0/10.7 MB ? eta -:--:--\n",
            "     --------------------------------------- 0.0/10.7 MB 660.6 kB/s eta 0:00:17\n",
            "     --------------------------------------- 0.1/10.7 MB 657.6 kB/s eta 0:00:17\n",
            "     --------------------------------------- 0.1/10.7 MB 656.4 kB/s eta 0:00:17\n",
            "      -------------------------------------- 0.2/10.7 MB 756.6 kB/s eta 0:00:14\n",
            "      -------------------------------------- 0.2/10.7 MB 831.5 kB/s eta 0:00:13\n",
            "      -------------------------------------- 0.2/10.7 MB 831.5 kB/s eta 0:00:13\n",
            "     - ------------------------------------- 0.3/10.7 MB 835.9 kB/s eta 0:00:13\n",
            "     - ------------------------------------- 0.3/10.7 MB 884.2 kB/s eta 0:00:12\n",
            "     - ------------------------------------- 0.4/10.7 MB 948.6 kB/s eta 0:00:11\n",
            "     - ------------------------------------- 0.4/10.7 MB 897.1 kB/s eta 0:00:12\n",
            "     - ------------------------------------- 0.4/10.7 MB 897.1 kB/s eta 0:00:12\n",
            "     - ------------------------------------- 0.5/10.7 MB 801.7 kB/s eta 0:00:13\n",
            "     - ------------------------------------- 0.5/10.7 MB 807.1 kB/s eta 0:00:13\n",
            "     -- ------------------------------------ 0.6/10.7 MB 839.3 kB/s eta 0:00:13\n",
            "     -- ------------------------------------ 0.6/10.7 MB 874.0 kB/s eta 0:00:12\n",
            "     -- ------------------------------------ 0.7/10.7 MB 892.9 kB/s eta 0:00:12\n",
            "     -- ------------------------------------ 0.8/10.7 MB 939.1 kB/s eta 0:00:11\n",
            "     -- ------------------------------------ 0.8/10.7 MB 945.8 kB/s eta 0:00:11\n",
            "     -- ------------------------------------ 0.8/10.7 MB 945.8 kB/s eta 0:00:11\n",
            "     --- ----------------------------------- 0.9/10.7 MB 907.1 kB/s eta 0:00:11\n",
            "     --- ----------------------------------- 1.0/10.7 MB 967.8 kB/s eta 0:00:11\n",
            "     ---- ----------------------------------- 1.1/10.7 MB 1.0 MB/s eta 0:00:10\n",
            "     ---- ----------------------------------- 1.2/10.7 MB 1.1 MB/s eta 0:00:09\n",
            "     ---- ----------------------------------- 1.3/10.7 MB 1.2 MB/s eta 0:00:09\n",
            "     ----- ---------------------------------- 1.4/10.7 MB 1.2 MB/s eta 0:00:08\n",
            "     ----- ---------------------------------- 1.5/10.7 MB 1.2 MB/s eta 0:00:08\n",
            "     ------ --------------------------------- 1.6/10.7 MB 1.3 MB/s eta 0:00:08\n",
            "     ------ --------------------------------- 1.7/10.7 MB 1.3 MB/s eta 0:00:08\n",
            "     ------ --------------------------------- 1.9/10.7 MB 1.4 MB/s eta 0:00:07\n",
            "     ------- -------------------------------- 1.9/10.7 MB 1.4 MB/s eta 0:00:07\n",
            "     ------- -------------------------------- 2.1/10.7 MB 1.4 MB/s eta 0:00:07\n",
            "     -------- ------------------------------- 2.2/10.7 MB 1.5 MB/s eta 0:00:06\n",
            "     -------- ------------------------------- 2.4/10.7 MB 1.5 MB/s eta 0:00:06\n",
            "     --------- ------------------------------ 2.5/10.7 MB 1.5 MB/s eta 0:00:06\n",
            "     --------- ------------------------------ 2.6/10.7 MB 1.6 MB/s eta 0:00:06\n",
            "     ---------- ----------------------------- 2.7/10.7 MB 1.6 MB/s eta 0:00:05\n",
            "     ---------- ----------------------------- 2.9/10.7 MB 1.7 MB/s eta 0:00:05\n",
            "     ----------- ---------------------------- 3.0/10.7 MB 1.7 MB/s eta 0:00:05\n",
            "     ----------- ---------------------------- 3.2/10.7 MB 1.7 MB/s eta 0:00:05\n",
            "     ------------ --------------------------- 3.4/10.7 MB 1.8 MB/s eta 0:00:05\n",
            "     ------------- -------------------------- 3.5/10.7 MB 1.8 MB/s eta 0:00:04\n",
            "     ------------- -------------------------- 3.7/10.7 MB 1.9 MB/s eta 0:00:04\n",
            "     -------------- ------------------------- 3.9/10.7 MB 1.9 MB/s eta 0:00:04\n",
            "     -------------- ------------------------- 4.0/10.7 MB 1.9 MB/s eta 0:00:04\n",
            "     --------------- ------------------------ 4.1/10.7 MB 2.0 MB/s eta 0:00:04\n",
            "     ---------------- ----------------------- 4.3/10.7 MB 2.0 MB/s eta 0:00:04\n",
            "     ---------------- ----------------------- 4.5/10.7 MB 2.0 MB/s eta 0:00:04\n",
            "     ---------------- ----------------------- 4.5/10.7 MB 2.0 MB/s eta 0:00:04\n",
            "     ---------------- ----------------------- 4.5/10.7 MB 2.0 MB/s eta 0:00:04\n",
            "     ---------------- ----------------------- 4.5/10.7 MB 2.0 MB/s eta 0:00:04\n",
            "     ----------------- ---------------------- 4.7/10.7 MB 2.0 MB/s eta 0:00:04\n",
            "     ------------------ --------------------- 5.0/10.7 MB 2.1 MB/s eta 0:00:03\n",
            "     ------------------ --------------------- 5.0/10.7 MB 2.1 MB/s eta 0:00:03\n",
            "     ------------------ --------------------- 5.0/10.7 MB 2.1 MB/s eta 0:00:03\n",
            "     ------------------- -------------------- 5.2/10.7 MB 2.0 MB/s eta 0:00:03\n",
            "     ------------------- -------------------- 5.2/10.7 MB 2.0 MB/s eta 0:00:03\n",
            "     -------------------- ------------------- 5.5/10.7 MB 2.1 MB/s eta 0:00:03\n",
            "     --------------------- ------------------ 5.6/10.7 MB 2.1 MB/s eta 0:00:03\n",
            "     --------------------- ------------------ 5.7/10.7 MB 2.1 MB/s eta 0:00:03\n",
            "     --------------------- ------------------ 5.8/10.7 MB 2.1 MB/s eta 0:00:03\n",
            "     ---------------------- ----------------- 5.9/10.7 MB 2.1 MB/s eta 0:00:03\n",
            "     ---------------------- ----------------- 6.0/10.7 MB 2.1 MB/s eta 0:00:03\n",
            "     ---------------------- ----------------- 6.1/10.7 MB 2.1 MB/s eta 0:00:03\n",
            "     ----------------------- ---------------- 6.2/10.7 MB 2.1 MB/s eta 0:00:03\n",
            "     ----------------------- ---------------- 6.3/10.7 MB 2.1 MB/s eta 0:00:03\n",
            "     ------------------------ --------------- 6.4/10.7 MB 2.1 MB/s eta 0:00:03\n",
            "     ------------------------ --------------- 6.5/10.7 MB 2.1 MB/s eta 0:00:02\n",
            "     ------------------------ --------------- 6.6/10.7 MB 2.1 MB/s eta 0:00:02\n",
            "     ------------------------- -------------- 6.7/10.7 MB 2.1 MB/s eta 0:00:02\n",
            "     ------------------------- -------------- 6.8/10.7 MB 2.1 MB/s eta 0:00:02\n",
            "     ------------------------- -------------- 6.9/10.7 MB 2.1 MB/s eta 0:00:02\n",
            "     -------------------------- ------------- 7.0/10.7 MB 2.1 MB/s eta 0:00:02\n",
            "     -------------------------- ------------- 7.1/10.7 MB 2.1 MB/s eta 0:00:02\n",
            "     --------------------------- ------------ 7.3/10.7 MB 2.1 MB/s eta 0:00:02\n",
            "     --------------------------- ------------ 7.3/10.7 MB 2.1 MB/s eta 0:00:02\n",
            "     ---------------------------- ----------- 7.5/10.7 MB 2.1 MB/s eta 0:00:02\n",
            "     ---------------------------- ----------- 7.5/10.7 MB 2.1 MB/s eta 0:00:02\n",
            "     ---------------------------- ----------- 7.7/10.7 MB 2.1 MB/s eta 0:00:02\n",
            "     ---------------------------- ----------- 7.7/10.7 MB 2.1 MB/s eta 0:00:02\n",
            "     ----------------------------- ---------- 7.7/10.7 MB 2.1 MB/s eta 0:00:02\n",
            "     ----------------------------- ---------- 7.9/10.7 MB 2.1 MB/s eta 0:00:02\n",
            "     ----------------------------- ---------- 7.9/10.7 MB 2.1 MB/s eta 0:00:02\n",
            "     ------------------------------ --------- 8.1/10.7 MB 2.1 MB/s eta 0:00:02\n",
            "     ------------------------------ --------- 8.2/10.7 MB 2.1 MB/s eta 0:00:02\n",
            "     ------------------------------- -------- 8.3/10.7 MB 2.1 MB/s eta 0:00:02\n",
            "     ------------------------------- -------- 8.4/10.7 MB 2.1 MB/s eta 0:00:02\n",
            "     ------------------------------- -------- 8.5/10.7 MB 2.1 MB/s eta 0:00:02\n",
            "     -------------------------------- ------- 8.6/10.7 MB 2.1 MB/s eta 0:00:01\n",
            "     -------------------------------- ------- 8.8/10.7 MB 2.1 MB/s eta 0:00:01\n",
            "     --------------------------------- ------ 8.8/10.7 MB 2.1 MB/s eta 0:00:01\n",
            "     --------------------------------- ------ 9.0/10.7 MB 2.1 MB/s eta 0:00:01\n",
            "     ---------------------------------- ----- 9.1/10.7 MB 2.1 MB/s eta 0:00:01\n",
            "     ---------------------------------- ----- 9.2/10.7 MB 2.1 MB/s eta 0:00:01\n",
            "     ---------------------------------- ----- 9.3/10.7 MB 2.1 MB/s eta 0:00:01\n",
            "     ----------------------------------- ---- 9.3/10.7 MB 2.1 MB/s eta 0:00:01\n",
            "     ----------------------------------- ---- 9.4/10.7 MB 2.1 MB/s eta 0:00:01\n",
            "     ----------------------------------- ---- 9.6/10.7 MB 2.1 MB/s eta 0:00:01\n",
            "     ------------------------------------ --- 9.7/10.7 MB 2.1 MB/s eta 0:00:01\n",
            "     ------------------------------------ --- 9.8/10.7 MB 2.1 MB/s eta 0:00:01\n",
            "     ------------------------------------- -- 9.9/10.7 MB 2.1 MB/s eta 0:00:01\n",
            "     ------------------------------------- -- 10.0/10.7 MB 2.1 MB/s eta 0:00:01\n",
            "     -------------------------------------- - 10.1/10.7 MB 2.1 MB/s eta 0:00:01\n",
            "     -------------------------------------- - 10.3/10.7 MB 2.2 MB/s eta 0:00:01\n",
            "     -------------------------------------- - 10.4/10.7 MB 2.2 MB/s eta 0:00:01\n",
            "     ---------------------------------------  10.5/10.7 MB 2.3 MB/s eta 0:00:01\n",
            "     ---------------------------------------  10.6/10.7 MB 2.3 MB/s eta 0:00:01\n",
            "     ---------------------------------------- 10.7/10.7 MB 2.3 MB/s eta 0:00:00\n",
            "  Installing build dependencies: started\n",
            "  Installing build dependencies: finished with status 'done'\n",
            "  Getting requirements to build wheel: started\n",
            "  Getting requirements to build wheel: finished with status 'done'\n",
            "  Installing backend dependencies: started\n",
            "  Installing backend dependencies: finished with status 'done'\n",
            "  Preparing metadata (pyproject.toml): started\n",
            "  Preparing metadata (pyproject.toml): finished with status 'done'\n",
            "Collecting fsspec>=2022.4.0 (from dlt[duckdb])\n",
            "  Downloading fsspec-2024.2.0-py3-none-any.whl.metadata (6.8 kB)\n",
            "Collecting gitpython>=3.1.29 (from dlt[duckdb])\n",
            "  Downloading GitPython-3.1.41-py3-none-any.whl.metadata (14 kB)\n",
            "Collecting giturlparse>=0.10.0 (from dlt[duckdb])\n",
            "  Downloading giturlparse-0.12.0-py2.py3-none-any.whl.metadata (4.5 kB)\n",
            "Collecting hexbytes>=0.2.2 (from dlt[duckdb])\n",
            "  Downloading hexbytes-1.0.0-py3-none-any.whl.metadata (5.3 kB)\n",
            "Collecting humanize>=4.4.0 (from dlt[duckdb])\n",
            "  Downloading humanize-4.9.0-py3-none-any.whl.metadata (7.9 kB)\n",
            "Collecting jsonpath-ng>=1.5.3 (from dlt[duckdb])\n",
            "  Downloading jsonpath_ng-1.6.1-py3-none-any.whl.metadata (18 kB)\n",
            "Collecting makefun>=1.15.0 (from dlt[duckdb])\n",
            "  Downloading makefun-1.15.2-py2.py3-none-any.whl.metadata (3.0 kB)\n",
            "Collecting orjson>=3.6.7 (from dlt[duckdb])\n",
            "  Downloading orjson-3.9.13-cp312-none-win_amd64.whl.metadata (50 kB)\n",
            "     ---------------------------------------- 0.0/50.6 kB ? eta -:--:--\n",
            "     ---------------------------------------- 50.6/50.6 kB 1.3 MB/s eta 0:00:00\n",
            "Requirement already satisfied: packaging>=21.1 in c:\\users\\saifk\\appdata\\local\\packages\\pythonsoftwarefoundation.python.3.12_qbz5n2kfra8p0\\localcache\\local-packages\\python312\\site-packages (from dlt[duckdb]) (23.2)\n",
            "Collecting pathvalidate>=2.5.2 (from dlt[duckdb])\n",
            "  Downloading pathvalidate-3.2.0-py3-none-any.whl.metadata (11 kB)\n",
            "Collecting pendulum>=2.1.2 (from dlt[duckdb])\n",
            "  Downloading pendulum-3.0.0-cp312-none-win_amd64.whl.metadata (7.0 kB)\n",
            "Collecting pytz>=2022.6 (from dlt[duckdb])\n",
            "  Downloading pytz-2024.1-py2.py3-none-any.whl.metadata (22 kB)\n",
            "Collecting requests>=2.26.0 (from dlt[duckdb])\n",
            "  Downloading requests-2.31.0-py3-none-any.whl.metadata (4.6 kB)\n",
            "Collecting requirements-parser>=0.5.0 (from dlt[duckdb])\n",
            "  Downloading requirements_parser-0.5.0-py3-none-any.whl (18 kB)\n",
            "Collecting semver>=2.13.0 (from dlt[duckdb])\n",
            "  Downloading semver-3.0.2-py3-none-any.whl.metadata (5.0 kB)\n",
            "Collecting setuptools>=65.6.0 (from dlt[duckdb])\n",
            "  Using cached setuptools-69.0.3-py3-none-any.whl.metadata (6.3 kB)\n",
            "Collecting simplejson>=3.17.5 (from dlt[duckdb])\n",
            "  Downloading simplejson-3.19.2-cp312-cp312-win_amd64.whl.metadata (3.2 kB)\n",
            "Collecting tenacity>=8.0.2 (from dlt[duckdb])\n",
            "  Downloading tenacity-8.2.3-py3-none-any.whl.metadata (1.0 kB)\n",
            "Collecting tomlkit>=0.11.3 (from dlt[duckdb])\n",
            "  Downloading tomlkit-0.12.3-py3-none-any.whl.metadata (2.7 kB)\n",
            "Collecting typing-extensions>=4.0.0 (from dlt[duckdb])\n",
            "  Downloading typing_extensions-4.9.0-py3-none-any.whl.metadata (3.0 kB)\n",
            "Collecting tzdata>=2022.1 (from dlt[duckdb])\n",
            "  Downloading tzdata-2023.4-py2.py3-none-any.whl.metadata (1.4 kB)\n",
            "Collecting win-precise-time>=1.4.2 (from dlt[duckdb])\n",
            "  Downloading win_precise_time-1.4.2-cp312-cp312-win_amd64.whl.metadata (3.0 kB)\n",
            "Collecting wheel<1.0,>=0.23.0 (from astunparse>=1.6.3->dlt[duckdb])\n",
            "  Using cached wheel-0.42.0-py3-none-any.whl.metadata (2.2 kB)\n",
            "Requirement already satisfied: six<2.0,>=1.6.1 in c:\\users\\saifk\\appdata\\local\\packages\\pythonsoftwarefoundation.python.3.12_qbz5n2kfra8p0\\localcache\\local-packages\\python312\\site-packages (from astunparse>=1.6.3->dlt[duckdb]) (1.16.0)\n",
            "Requirement already satisfied: colorama in c:\\users\\saifk\\appdata\\local\\packages\\pythonsoftwarefoundation.python.3.12_qbz5n2kfra8p0\\localcache\\local-packages\\python312\\site-packages (from click>=7.1->dlt[duckdb]) (0.4.6)\n",
            "Collecting gitdb<5,>=4.0.1 (from gitpython>=3.1.29->dlt[duckdb])\n",
            "  Downloading gitdb-4.0.11-py3-none-any.whl.metadata (1.2 kB)\n",
            "Collecting ply (from jsonpath-ng>=1.5.3->dlt[duckdb])\n",
            "  Downloading ply-3.11-py2.py3-none-any.whl (49 kB)\n",
            "     ---------------------------------------- 0.0/49.6 kB ? eta -:--:--\n",
            "     ---------------------------------------- 49.6/49.6 kB 2.5 MB/s eta 0:00:00\n",
            "Requirement already satisfied: python-dateutil>=2.6 in c:\\users\\saifk\\appdata\\local\\packages\\pythonsoftwarefoundation.python.3.12_qbz5n2kfra8p0\\localcache\\local-packages\\python312\\site-packages (from pendulum>=2.1.2->dlt[duckdb]) (2.8.2)\n",
            "Collecting time-machine>=2.6.0 (from pendulum>=2.1.2->dlt[duckdb])\n",
            "  Downloading time_machine-2.13.0-cp312-cp312-win_amd64.whl.metadata (21 kB)\n",
            "Collecting charset-normalizer<4,>=2 (from requests>=2.26.0->dlt[duckdb])\n",
            "  Downloading charset_normalizer-3.3.2-cp312-cp312-win_amd64.whl.metadata (34 kB)\n",
            "Collecting idna<4,>=2.5 (from requests>=2.26.0->dlt[duckdb])\n",
            "  Downloading idna-3.6-py3-none-any.whl.metadata (9.9 kB)\n",
            "Collecting urllib3<3,>=1.21.1 (from requests>=2.26.0->dlt[duckdb])\n",
            "  Downloading urllib3-2.2.0-py3-none-any.whl.metadata (6.4 kB)\n",
            "Collecting certifi>=2017.4.17 (from requests>=2.26.0->dlt[duckdb])\n",
            "  Downloading certifi-2024.2.2-py3-none-any.whl.metadata (2.2 kB)\n",
            "Collecting types-setuptools>=57.0.0 (from requirements-parser>=0.5.0->dlt[duckdb])\n",
            "  Downloading types_setuptools-69.0.0.20240125-py3-none-any.whl.metadata (1.6 kB)\n",
            "Collecting greenlet!=0.4.17 (from SQLAlchemy>=1.4.0->dlt[duckdb])\n",
            "  Downloading greenlet-3.0.3-cp312-cp312-win_amd64.whl.metadata (3.9 kB)\n",
            "Collecting smmap<6,>=3.0.1 (from gitdb<5,>=4.0.1->gitpython>=3.1.29->dlt[duckdb])\n",
            "  Downloading smmap-5.0.1-py3-none-any.whl.metadata (4.3 kB)\n",
            "Downloading click-8.1.7-py3-none-any.whl (97 kB)\n",
            "   ---------------------------------------- 0.0/97.9 kB ? eta -:--:--\n",
            "   ------------------------------------- -- 92.2/97.9 kB 2.6 MB/s eta 0:00:01\n",
            "   ---------------------------------------- 97.9/97.9 kB 1.9 MB/s eta 0:00:00\n",
            "Downloading fsspec-2024.2.0-py3-none-any.whl (170 kB)\n",
            "   ---------------------------------------- 0.0/170.9 kB ? eta -:--:--\n",
            "   --------------------------------- ------ 143.4/170.9 kB 2.9 MB/s eta 0:00:01\n",
            "   ---------------------------------------- 170.9/170.9 kB 3.5 MB/s eta 0:00:00\n",
            "Downloading GitPython-3.1.41-py3-none-any.whl (196 kB)\n",
            "   ---------------------------------------- 0.0/196.4 kB ? eta -:--:--\n",
            "   ------------------------- -------------- 122.9/196.4 kB 3.6 MB/s eta 0:00:01\n",
            "   ---------------------------------------- 196.4/196.4 kB 3.0 MB/s eta 0:00:00\n",
            "Downloading giturlparse-0.12.0-py2.py3-none-any.whl (15 kB)\n",
            "Downloading hexbytes-1.0.0-py3-none-any.whl (5.9 kB)\n",
            "Downloading humanize-4.9.0-py3-none-any.whl (126 kB)\n",
            "   ---------------------------------------- 0.0/126.8 kB ? eta -:--:--\n",
            "   -------------------------------------- - 122.9/126.8 kB 3.6 MB/s eta 0:00:01\n",
            "   ---------------------------------------- 126.8/126.8 kB 2.5 MB/s eta 0:00:00\n",
            "Downloading jsonpath_ng-1.6.1-py3-none-any.whl (29 kB)\n",
            "Downloading makefun-1.15.2-py2.py3-none-any.whl (22 kB)\n",
            "Downloading orjson-3.9.13-cp312-none-win_amd64.whl (134 kB)\n",
            "   ---------------------------------------- 0.0/134.3 kB ? eta -:--:--\n",
            "   --------------------------- ------------ 92.2/134.3 kB 5.1 MB/s eta 0:00:01\n",
            "   ---------------------------------------- 134.3/134.3 kB 2.6 MB/s eta 0:00:00\n",
            "Downloading pathvalidate-3.2.0-py3-none-any.whl (23 kB)\n",
            "Downloading pendulum-3.0.0-cp312-none-win_amd64.whl (293 kB)\n",
            "   ---------------------------------------- 0.0/293.5 kB ? eta -:--:--\n",
            "   ----------------------- ---------------- 174.1/293.5 kB 3.5 MB/s eta 0:00:01\n",
            "   --------------------------- ------------ 204.8/293.5 kB 3.1 MB/s eta 0:00:01\n",
            "   ---------------------------------------  286.7/293.5 kB 2.0 MB/s eta 0:00:01\n",
            "   ---------------------------------------- 293.5/293.5 kB 2.0 MB/s eta 0:00:00\n",
            "Downloading pytz-2024.1-py2.py3-none-any.whl (505 kB)\n",
            "   ---------------------------------------- 0.0/505.5 kB ? eta -:--:--\n",
            "   --- ------------------------------------ 41.0/505.5 kB 1.9 MB/s eta 0:00:01\n",
            "   --------- ------------------------------ 122.9/505.5 kB 1.8 MB/s eta 0:00:01\n",
            "   ---------------------- ----------------- 286.7/505.5 kB 2.2 MB/s eta 0:00:01\n",
            "   ----------------------------- ---------- 368.6/505.5 kB 2.1 MB/s eta 0:00:01\n",
            "   -------------------------------------- - 481.3/505.5 kB 2.3 MB/s eta 0:00:01\n",
            "   ---------------------------------------- 505.5/505.5 kB 2.0 MB/s eta 0:00:00\n",
            "Downloading PyYAML-6.0.1-cp312-cp312-win_amd64.whl (138 kB)\n",
            "   ---------------------------------------- 0.0/138.7 kB ? eta -:--:--\n",
            "   -------------------------- ------------- 92.2/138.7 kB 2.6 MB/s eta 0:00:01\n",
            "   ---------------------------------------- 138.7/138.7 kB 1.6 MB/s eta 0:00:00\n",
            "Downloading requests-2.31.0-py3-none-any.whl (62 kB)\n",
            "   ---------------------------------------- 0.0/62.6 kB ? eta -:--:--\n",
            "   ---------------------------------------- 62.6/62.6 kB 1.7 MB/s eta 0:00:00\n",
            "Downloading semver-3.0.2-py3-none-any.whl (17 kB)\n",
            "Using cached setuptools-69.0.3-py3-none-any.whl (819 kB)\n",
            "Downloading simplejson-3.19.2-cp312-cp312-win_amd64.whl (75 kB)\n",
            "   ---------------------------------------- 0.0/75.4 kB ? eta -:--:--\n",
            "   -------------------------------- ------- 61.4/75.4 kB 3.2 MB/s eta 0:00:01\n",
            "   ---------------------------------------- 75.4/75.4 kB 2.1 MB/s eta 0:00:00\n",
            "Downloading SQLAlchemy-2.0.25-cp312-cp312-win_amd64.whl (2.1 MB)\n",
            "   ---------------------------------------- 0.0/2.1 MB ? eta -:--:--\n",
            "   - -------------------------------------- 0.1/2.1 MB 2.6 MB/s eta 0:00:01\n",
            "   --- ------------------------------------ 0.2/2.1 MB 3.1 MB/s eta 0:00:01\n",
            "   ------ --------------------------------- 0.3/2.1 MB 3.0 MB/s eta 0:00:01\n",
            "   ------- -------------------------------- 0.4/2.1 MB 2.9 MB/s eta 0:00:01\n",
            "   --------- ------------------------------ 0.5/2.1 MB 2.5 MB/s eta 0:00:01\n",
            "   ------------ --------------------------- 0.7/2.1 MB 2.6 MB/s eta 0:00:01\n",
            "   -------------- ------------------------- 0.7/2.1 MB 2.6 MB/s eta 0:00:01\n",
            "   ---------------- ----------------------- 0.9/2.1 MB 2.5 MB/s eta 0:00:01\n",
            "   ------------------ --------------------- 1.0/2.1 MB 2.5 MB/s eta 0:00:01\n",
            "   --------------------- ------------------ 1.1/2.1 MB 2.5 MB/s eta 0:00:01\n",
            "   ---------------------- ----------------- 1.2/2.1 MB 2.5 MB/s eta 0:00:01\n",
            "   ------------------------ --------------- 1.3/2.1 MB 2.4 MB/s eta 0:00:01\n",
            "   ------------------------ --------------- 1.3/2.1 MB 2.4 MB/s eta 0:00:01\n",
            "   ------------------------ --------------- 1.3/2.1 MB 2.4 MB/s eta 0:00:01\n",
            "   ------------------------------ --------- 1.6/2.1 MB 2.4 MB/s eta 0:00:01\n",
            "   ------------------------------ --------- 1.6/2.1 MB 2.4 MB/s eta 0:00:01\n",
            "   ------------------------------- -------- 1.6/2.1 MB 2.2 MB/s eta 0:00:01\n",
            "   ------------------------------- -------- 1.6/2.1 MB 2.2 MB/s eta 0:00:01\n",
            "   ------------------------------- -------- 1.6/2.1 MB 2.2 MB/s eta 0:00:01\n",
            "   -------------------------------- ------- 1.7/2.1 MB 1.9 MB/s eta 0:00:01\n",
            "   ---------------------------------- ----- 1.8/2.1 MB 1.9 MB/s eta 0:00:01\n",
            "   ---------------------------------- ----- 1.8/2.1 MB 1.8 MB/s eta 0:00:01\n",
            "   ---------------------------------- ----- 1.8/2.1 MB 1.8 MB/s eta 0:00:01\n",
            "   ---------------------------------- ----- 1.8/2.1 MB 1.8 MB/s eta 0:00:01\n",
            "   ------------------------------------ --- 1.9/2.1 MB 1.7 MB/s eta 0:00:01\n",
            "   ------------------------------------ --- 1.9/2.1 MB 1.7 MB/s eta 0:00:01\n",
            "   ------------------------------------ --- 1.9/2.1 MB 1.7 MB/s eta 0:00:01\n",
            "   ------------------------------------ --- 1.9/2.1 MB 1.5 MB/s eta 0:00:01\n",
            "   ------------------------------------ --- 1.9/2.1 MB 1.5 MB/s eta 0:00:01\n",
            "   ------------------------------------ --- 1.9/2.1 MB 1.5 MB/s eta 0:00:01\n",
            "   ------------------------------------ --- 1.9/2.1 MB 1.5 MB/s eta 0:00:01\n",
            "   ---------------------------------------- 2.1/2.1 MB 1.4 MB/s eta 0:00:00\n",
            "Downloading tenacity-8.2.3-py3-none-any.whl (24 kB)\n",
            "Downloading tomlkit-0.12.3-py3-none-any.whl (37 kB)\n",
            "Downloading typing_extensions-4.9.0-py3-none-any.whl (32 kB)\n",
            "Downloading tzdata-2023.4-py2.py3-none-any.whl (346 kB)\n",
            "   ---------------------------------------- 0.0/346.6 kB ? eta -:--:--\n",
            "   --- ------------------------------------ 30.7/346.6 kB ? eta -:--:--\n",
            "   -------- ------------------------------ 71.7/346.6 kB 975.2 kB/s eta 0:00:01\n",
            "   ------------- -------------------------- 112.6/346.6 kB 1.1 MB/s eta 0:00:01\n",
            "   ---------------- ----------------------- 143.4/346.6 kB 1.1 MB/s eta 0:00:01\n",
            "   ---------------------- --------------- 204.8/346.6 kB 958.4 kB/s eta 0:00:01\n",
            "   ------------------------ ------------- 225.3/346.6 kB 981.9 kB/s eta 0:00:01\n",
            "   ------------------------------- ------ 286.7/346.6 kB 930.9 kB/s eta 0:00:01\n",
            "   --------------------------------- ---- 307.2/346.6 kB 948.8 kB/s eta 0:00:01\n",
            "   -------------------------------------- 346.6/346.6 kB 896.9 kB/s eta 0:00:00\n",
            "Downloading win_precise_time-1.4.2-cp312-cp312-win_amd64.whl (14 kB)\n",
            "Downloading dlt-0.4.3-py3-none-any.whl (540 kB)\n",
            "   ---------------------------------------- 0.0/540.2 kB ? eta -:--:--\n",
            "   -- ------------------------------------ 41.0/540.2 kB 960.0 kB/s eta 0:00:01\n",
            "   ---- ----------------------------------- 61.4/540.2 kB 1.1 MB/s eta 0:00:01\n",
            "   ------ -------------------------------- 92.2/540.2 kB 744.7 kB/s eta 0:00:01\n",
            "   ---------- --------------------------- 153.6/540.2 kB 913.1 kB/s eta 0:00:01\n",
            "   ------------- ------------------------ 194.6/540.2 kB 841.6 kB/s eta 0:00:01\n",
            "   ---------------- --------------------- 235.5/540.2 kB 901.1 kB/s eta 0:00:01\n",
            "   -------------------- ----------------- 286.7/540.2 kB 930.9 kB/s eta 0:00:01\n",
            "   --------------------- ---------------- 307.2/540.2 kB 948.8 kB/s eta 0:00:01\n",
            "   ------------------------- ------------ 368.6/540.2 kB 916.6 kB/s eta 0:00:01\n",
            "   ---------------------------- --------- 409.6/540.2 kB 911.8 kB/s eta 0:00:01\n",
            "   ------------------------------ ------- 430.1/540.2 kB 924.8 kB/s eta 0:00:01\n",
            "   -------------------------------- ----- 460.8/540.2 kB 873.2 kB/s eta 0:00:01\n",
            "   -------------------------------------  532.5/540.2 kB 902.0 kB/s eta 0:00:01\n",
            "   -------------------------------------- 540.2/540.2 kB 868.8 kB/s eta 0:00:00\n",
            "Downloading certifi-2024.2.2-py3-none-any.whl (163 kB)\n",
            "   ---------------------------------------- 0.0/163.8 kB ? eta -:--:--\n",
            "   --------- ----------------------------- 41.0/163.8 kB 991.0 kB/s eta 0:00:01\n",
            "   -------------------- ------------------- 81.9/163.8 kB 1.2 MB/s eta 0:00:01\n",
            "   ----------------------------------- ---- 143.4/163.8 kB 1.1 MB/s eta 0:00:01\n",
            "   ---------------------------------------- 163.8/163.8 kB 1.1 MB/s eta 0:00:00\n",
            "Downloading charset_normalizer-3.3.2-cp312-cp312-win_amd64.whl (100 kB)\n",
            "   ---------------------------------------- 0.0/100.4 kB ? eta -:--:--\n",
            "   -------------------- ------------------- 51.2/100.4 kB 1.3 MB/s eta 0:00:01\n",
            "   ---------------------------- ----------- 71.7/100.4 kB 1.3 MB/s eta 0:00:01\n",
            "   -------------------------------------- 100.4/100.4 kB 827.1 kB/s eta 0:00:00\n",
            "Downloading gitdb-4.0.11-py3-none-any.whl (62 kB)\n",
            "   ---------------------------------------- 0.0/62.7 kB ? eta -:--:--\n",
            "   ------------------- -------------------- 30.7/62.7 kB 1.3 MB/s eta 0:00:01\n",
            "   ---------------------------------------- 62.7/62.7 kB 1.1 MB/s eta 0:00:00\n",
            "Downloading greenlet-3.0.3-cp312-cp312-win_amd64.whl (293 kB)\n",
            "   ---------------------------------------- 0.0/293.6 kB ? eta -:--:--\n",
            "   ----- --------------------------------- 41.0/293.6 kB 991.0 kB/s eta 0:00:01\n",
            "   ------------ --------------------------- 92.2/293.6 kB 1.1 MB/s eta 0:00:01\n",
            "   -------------------- ------------------- 153.6/293.6 kB 1.0 MB/s eta 0:00:01\n",
            "   ----------------------- ---------------- 174.1/293.6 kB 1.2 MB/s eta 0:00:01\n",
            "   -------------------------------- ------- 235.5/293.6 kB 1.0 MB/s eta 0:00:01\n",
            "   ------------------------------------- -- 276.5/293.6 kB 1.0 MB/s eta 0:00:01\n",
            "   -------------------------------------- 293.6/293.6 kB 954.2 kB/s eta 0:00:00\n",
            "Downloading idna-3.6-py3-none-any.whl (61 kB)\n",
            "   ---------------------------------------- 0.0/61.6 kB ? eta -:--:--\n",
            "   ------------------- -------------------- 30.7/61.6 kB 1.3 MB/s eta 0:00:01\n",
            "   ---------------------------------------- 61.6/61.6 kB 1.1 MB/s eta 0:00:00\n",
            "Downloading time_machine-2.13.0-cp312-cp312-win_amd64.whl (19 kB)\n",
            "Downloading types_setuptools-69.0.0.20240125-py3-none-any.whl (51 kB)\n",
            "   ---------------------------------------- 0.0/51.3 kB ? eta -:--:--\n",
            "   ----------------------- ---------------- 30.7/51.3 kB ? eta -:--:--\n",
            "   ---------------------------------------- 51.3/51.3 kB 1.3 MB/s eta 0:00:00\n",
            "Downloading urllib3-2.2.0-py3-none-any.whl (120 kB)\n",
            "   ---------------------------------------- 0.0/120.9 kB ? eta -:--:--\n",
            "   ------------- ------------------------- 41.0/120.9 kB 991.0 kB/s eta 0:00:01\n",
            "   --------------------------- ------------ 81.9/120.9 kB 1.5 MB/s eta 0:00:01\n",
            "   ---------------------------------------- 120.9/120.9 kB 1.2 MB/s eta 0:00:00\n",
            "Using cached wheel-0.42.0-py3-none-any.whl (65 kB)\n",
            "Downloading smmap-5.0.1-py3-none-any.whl (24 kB)\n",
            "Building wheels for collected packages: duckdb\n",
            "  Building wheel for duckdb (pyproject.toml): started\n",
            "  Building wheel for duckdb (pyproject.toml): finished with status 'error'\n",
            "Failed to build duckdb\n"
          ]
        },
        {
          "name": "stderr",
          "output_type": "stream",
          "text": [
            "  error: subprocess-exited-with-error\n",
            "  \n",
            "  × Building wheel for duckdb (pyproject.toml) did not run successfully.\n",
            "  │ exit code: 1\n",
            "  ╰─> [308 lines of output]\n",
            "      running bdist_wheel\n",
            "      running build\n",
            "      running build_py\n",
            "      creating build\n",
            "      creating build\\lib.win-amd64-cpython-312\n",
            "      creating build\\lib.win-amd64-cpython-312\\duckdb\n",
            "      copying duckdb\\bytes_io_wrapper.py -> build\\lib.win-amd64-cpython-312\\duckdb\n",
            "      copying duckdb\\filesystem.py -> build\\lib.win-amd64-cpython-312\\duckdb\n",
            "      copying duckdb\\udf.py -> build\\lib.win-amd64-cpython-312\\duckdb\n",
            "      copying duckdb\\__init__.py -> build\\lib.win-amd64-cpython-312\\duckdb\n",
            "      creating build\\lib.win-amd64-cpython-312\\duckdb\\typing\n",
            "      copying duckdb\\typing\\__init__.py -> build\\lib.win-amd64-cpython-312\\duckdb\\typing\n",
            "      creating build\\lib.win-amd64-cpython-312\\duckdb\\query_graph\n",
            "      copying duckdb\\query_graph\\__main__.py -> build\\lib.win-amd64-cpython-312\\duckdb\\query_graph\n",
            "      creating build\\lib.win-amd64-cpython-312\\duckdb\\functional\n",
            "      copying duckdb\\functional\\__init__.py -> build\\lib.win-amd64-cpython-312\\duckdb\\functional\n",
            "      creating build\\lib.win-amd64-cpython-312\\duckdb\\value\n",
            "      copying duckdb\\value\\constant.py -> build\\lib.win-amd64-cpython-312\\duckdb\\value\n",
            "      creating build\\lib.win-amd64-cpython-312\\adbc_driver_duckdb\n",
            "      copying adbc_driver_duckdb\\dbapi.py -> build\\lib.win-amd64-cpython-312\\adbc_driver_duckdb\n",
            "      copying adbc_driver_duckdb\\__init__.py -> build\\lib.win-amd64-cpython-312\\adbc_driver_duckdb\n",
            "      creating build\\lib.win-amd64-cpython-312\\duckdb\\experimental\n",
            "      creating build\\lib.win-amd64-cpython-312\\duckdb\\experimental\\spark\n",
            "      copying duckdb\\experimental\\spark\\conf.py -> build\\lib.win-amd64-cpython-312\\duckdb\\experimental\\spark\n",
            "      copying duckdb\\experimental\\spark\\context.py -> build\\lib.win-amd64-cpython-312\\duckdb\\experimental\\spark\n",
            "      copying duckdb\\experimental\\spark\\exception.py -> build\\lib.win-amd64-cpython-312\\duckdb\\experimental\\spark\n",
            "      copying duckdb\\experimental\\spark\\_globals.py -> build\\lib.win-amd64-cpython-312\\duckdb\\experimental\\spark\n",
            "      copying duckdb\\experimental\\spark\\_typing.py -> build\\lib.win-amd64-cpython-312\\duckdb\\experimental\\spark\n",
            "      copying duckdb\\experimental\\spark\\__init__.py -> build\\lib.win-amd64-cpython-312\\duckdb\\experimental\\spark\n",
            "      creating build\\lib.win-amd64-cpython-312\\duckdb\\experimental\\spark\\sql\n",
            "      copying duckdb\\experimental\\spark\\sql\\catalog.py -> build\\lib.win-amd64-cpython-312\\duckdb\\experimental\\spark\\sql\n",
            "      copying duckdb\\experimental\\spark\\sql\\column.py -> build\\lib.win-amd64-cpython-312\\duckdb\\experimental\\spark\\sql\n",
            "      copying duckdb\\experimental\\spark\\sql\\conf.py -> build\\lib.win-amd64-cpython-312\\duckdb\\experimental\\spark\\sql\n",
            "      copying duckdb\\experimental\\spark\\sql\\dataframe.py -> build\\lib.win-amd64-cpython-312\\duckdb\\experimental\\spark\\sql\n",
            "      copying duckdb\\experimental\\spark\\sql\\functions.py -> build\\lib.win-amd64-cpython-312\\duckdb\\experimental\\spark\\sql\n",
            "      copying duckdb\\experimental\\spark\\sql\\group.py -> build\\lib.win-amd64-cpython-312\\duckdb\\experimental\\spark\\sql\n",
            "      copying duckdb\\experimental\\spark\\sql\\readwriter.py -> build\\lib.win-amd64-cpython-312\\duckdb\\experimental\\spark\\sql\n",
            "      copying duckdb\\experimental\\spark\\sql\\session.py -> build\\lib.win-amd64-cpython-312\\duckdb\\experimental\\spark\\sql\n",
            "      copying duckdb\\experimental\\spark\\sql\\streaming.py -> build\\lib.win-amd64-cpython-312\\duckdb\\experimental\\spark\\sql\n",
            "      copying duckdb\\experimental\\spark\\sql\\types.py -> build\\lib.win-amd64-cpython-312\\duckdb\\experimental\\spark\\sql\n",
            "      copying duckdb\\experimental\\spark\\sql\\type_utils.py -> build\\lib.win-amd64-cpython-312\\duckdb\\experimental\\spark\\sql\n",
            "      copying duckdb\\experimental\\spark\\sql\\udf.py -> build\\lib.win-amd64-cpython-312\\duckdb\\experimental\\spark\\sql\n",
            "      copying duckdb\\experimental\\spark\\sql\\_typing.py -> build\\lib.win-amd64-cpython-312\\duckdb\\experimental\\spark\\sql\n",
            "      copying duckdb\\experimental\\spark\\sql\\__init__.py -> build\\lib.win-amd64-cpython-312\\duckdb\\experimental\\spark\\sql\n",
            "      creating build\\lib.win-amd64-cpython-312\\duckdb\\experimental\\spark\\errors\n",
            "      copying duckdb\\experimental\\spark\\errors\\error_classes.py -> build\\lib.win-amd64-cpython-312\\duckdb\\experimental\\spark\\errors\n",
            "      copying duckdb\\experimental\\spark\\errors\\utils.py -> build\\lib.win-amd64-cpython-312\\duckdb\\experimental\\spark\\errors\n",
            "      copying duckdb\\experimental\\spark\\errors\\__init__.py -> build\\lib.win-amd64-cpython-312\\duckdb\\experimental\\spark\\errors\n",
            "      creating build\\lib.win-amd64-cpython-312\\duckdb\\experimental\\spark\\errors\\exceptions\n",
            "      copying duckdb\\experimental\\spark\\errors\\exceptions\\base.py -> build\\lib.win-amd64-cpython-312\\duckdb\\experimental\\spark\\errors\\exceptions\n",
            "      copying duckdb\\experimental\\spark\\errors\\exceptions\\__init__.py -> build\\lib.win-amd64-cpython-312\\duckdb\\experimental\\spark\\errors\\exceptions\n",
            "      running egg_info\n",
            "      writing duckdb.egg-info\\PKG-INFO\n",
            "      writing dependency_links to duckdb.egg-info\\dependency_links.txt\n",
            "      writing top-level names to duckdb.egg-info\\top_level.txt\n",
            "      listing git files failed - pretending there aren't any\n",
            "      reading manifest file 'duckdb.egg-info\\SOURCES.txt'\n",
            "      reading manifest template 'MANIFEST.in'\n",
            "      warning: no files found matching '*.h' under directory 'duckdb'\n",
            "      warning: no files found matching '*.hpp' under directory 'duckdb'\n",
            "      warning: no files found matching '*.cpp' under directory 'duckdb'\n",
            "      warning: no files found matching '*.h' under directory 'src'\n",
            "      warning: manifest_maker: MANIFEST.in, line 6: 'recursive-include' expects <dir> <pattern1> <pattern2> ...\n",
            "      \n",
            "      writing manifest file 'duckdb.egg-info\\SOURCES.txt'\n",
            "      E:\\Development\\VSCode\\VSCode-win32-x64-1.85.1\\data\\tmp\\pip-build-env-wsmxan2c\\overlay\\Lib\\site-packages\\setuptools\\command\\build_py.py:207: _Warning: Package 'duckdb-stubs.value' is absent from the `packages` configuration.\n",
            "      !!\n",
            "      \n",
            "              ********************************************************************************\n",
            "              ############################\n",
            "              # Package would be ignored #\n",
            "              ############################\n",
            "              Python recognizes 'duckdb-stubs.value' as an importable package[^1],\n",
            "              but it is absent from setuptools' `packages` configuration.\n",
            "      \n",
            "              This leads to an ambiguous overall configuration. If you want to distribute this\n",
            "              package, please make sure that 'duckdb-stubs.value' is explicitly added\n",
            "              to the `packages` configuration field.\n",
            "      \n",
            "              Alternatively, you can also rely on setuptools' discovery methods\n",
            "              (for example by using `find_namespace_packages(...)`/`find_namespace:`\n",
            "              instead of `find_packages(...)`/`find:`).\n",
            "      \n",
            "              You can read more about \"package discovery\" on setuptools documentation page:\n",
            "      \n",
            "              - https://setuptools.pypa.io/en/latest/userguide/package_discovery.html\n",
            "      \n",
            "              If you don't want 'duckdb-stubs.value' to be distributed and are\n",
            "              already explicitly excluding 'duckdb-stubs.value' via\n",
            "              `find_namespace_packages(...)/find_namespace` or `find_packages(...)/find`,\n",
            "              you can try to use `exclude_package_data`, or `include-package-data=False` in\n",
            "              combination with a more fine grained `package-data` configuration.\n",
            "      \n",
            "              You can read more about \"package data files\" on setuptools documentation page:\n",
            "      \n",
            "              - https://setuptools.pypa.io/en/latest/userguide/datafiles.html\n",
            "      \n",
            "      \n",
            "              [^1]: For Python, any directory (with suitable naming) can be imported,\n",
            "                    even if it does not contain any `.py` files.\n",
            "                    On the other hand, currently there is no concept of package data\n",
            "                    directory, all directories are treated like packages.\n",
            "              ********************************************************************************\n",
            "      \n",
            "      !!\n",
            "        check.warn(importable)\n",
            "      E:\\Development\\VSCode\\VSCode-win32-x64-1.85.1\\data\\tmp\\pip-build-env-wsmxan2c\\overlay\\Lib\\site-packages\\setuptools\\command\\build_py.py:207: _Warning: Package 'duckdb-stubs.value.constant' is absent from the `packages` configuration.\n",
            "      !!\n",
            "      \n",
            "              ********************************************************************************\n",
            "              ############################\n",
            "              # Package would be ignored #\n",
            "              ############################\n",
            "              Python recognizes 'duckdb-stubs.value.constant' as an importable package[^1],\n",
            "              but it is absent from setuptools' `packages` configuration.\n",
            "      \n",
            "              This leads to an ambiguous overall configuration. If you want to distribute this\n",
            "              package, please make sure that 'duckdb-stubs.value.constant' is explicitly added\n",
            "              to the `packages` configuration field.\n",
            "      \n",
            "              Alternatively, you can also rely on setuptools' discovery methods\n",
            "              (for example by using `find_namespace_packages(...)`/`find_namespace:`\n",
            "              instead of `find_packages(...)`/`find:`).\n",
            "      \n",
            "              You can read more about \"package discovery\" on setuptools documentation page:\n",
            "      \n",
            "              - https://setuptools.pypa.io/en/latest/userguide/package_discovery.html\n",
            "      \n",
            "              If you don't want 'duckdb-stubs.value.constant' to be distributed and are\n",
            "              already explicitly excluding 'duckdb-stubs.value.constant' via\n",
            "              `find_namespace_packages(...)/find_namespace` or `find_packages(...)/find`,\n",
            "              you can try to use `exclude_package_data`, or `include-package-data=False` in\n",
            "              combination with a more fine grained `package-data` configuration.\n",
            "      \n",
            "              You can read more about \"package data files\" on setuptools documentation page:\n",
            "      \n",
            "              - https://setuptools.pypa.io/en/latest/userguide/datafiles.html\n",
            "      \n",
            "      \n",
            "              [^1]: For Python, any directory (with suitable naming) can be imported,\n",
            "                    even if it does not contain any `.py` files.\n",
            "                    On the other hand, currently there is no concept of package data\n",
            "                    directory, all directories are treated like packages.\n",
            "              ********************************************************************************\n",
            "      \n",
            "      !!\n",
            "        check.warn(importable)\n",
            "      E:\\Development\\VSCode\\VSCode-win32-x64-1.85.1\\data\\tmp\\pip-build-env-wsmxan2c\\overlay\\Lib\\site-packages\\setuptools\\command\\build_py.py:207: _Warning: Package 'duckdb.experimental' is absent from the `packages` configuration.\n",
            "      !!\n",
            "      \n",
            "              ********************************************************************************\n",
            "              ############################\n",
            "              # Package would be ignored #\n",
            "              ############################\n",
            "              Python recognizes 'duckdb.experimental' as an importable package[^1],\n",
            "              but it is absent from setuptools' `packages` configuration.\n",
            "      \n",
            "              This leads to an ambiguous overall configuration. If you want to distribute this\n",
            "              package, please make sure that 'duckdb.experimental' is explicitly added\n",
            "              to the `packages` configuration field.\n",
            "      \n",
            "              Alternatively, you can also rely on setuptools' discovery methods\n",
            "              (for example by using `find_namespace_packages(...)`/`find_namespace:`\n",
            "              instead of `find_packages(...)`/`find:`).\n",
            "      \n",
            "              You can read more about \"package discovery\" on setuptools documentation page:\n",
            "      \n",
            "              - https://setuptools.pypa.io/en/latest/userguide/package_discovery.html\n",
            "      \n",
            "              If you don't want 'duckdb.experimental' to be distributed and are\n",
            "              already explicitly excluding 'duckdb.experimental' via\n",
            "              `find_namespace_packages(...)/find_namespace` or `find_packages(...)/find`,\n",
            "              you can try to use `exclude_package_data`, or `include-package-data=False` in\n",
            "              combination with a more fine grained `package-data` configuration.\n",
            "      \n",
            "              You can read more about \"package data files\" on setuptools documentation page:\n",
            "      \n",
            "              - https://setuptools.pypa.io/en/latest/userguide/datafiles.html\n",
            "      \n",
            "      \n",
            "              [^1]: For Python, any directory (with suitable naming) can be imported,\n",
            "                    even if it does not contain any `.py` files.\n",
            "                    On the other hand, currently there is no concept of package data\n",
            "                    directory, all directories are treated like packages.\n",
            "              ********************************************************************************\n",
            "      \n",
            "      !!\n",
            "        check.warn(importable)\n",
            "      copying duckdb\\experimental\\__init__.py -> build\\lib.win-amd64-cpython-312\\duckdb\\experimental\n",
            "      creating build\\lib.win-amd64-cpython-312\\duckdb-stubs\n",
            "      copying duckdb-stubs\\__init__.pyi -> build\\lib.win-amd64-cpython-312\\duckdb-stubs\n",
            "      creating build\\lib.win-amd64-cpython-312\\duckdb-stubs\\value\n",
            "      copying duckdb-stubs\\value\\__init__.pyi -> build\\lib.win-amd64-cpython-312\\duckdb-stubs\\value\n",
            "      creating build\\lib.win-amd64-cpython-312\\duckdb-stubs\\value\\constant\n",
            "      copying duckdb-stubs\\value\\constant\\__init__.pyi -> build\\lib.win-amd64-cpython-312\\duckdb-stubs\\value\\constant\n",
            "      creating build\\lib.win-amd64-cpython-312\\duckdb-stubs\\functional\n",
            "      copying duckdb-stubs\\functional\\__init__.pyi -> build\\lib.win-amd64-cpython-312\\duckdb-stubs\\functional\n",
            "      creating build\\lib.win-amd64-cpython-312\\duckdb-stubs\\typing\n",
            "      copying duckdb-stubs\\typing\\__init__.pyi -> build\\lib.win-amd64-cpython-312\\duckdb-stubs\\typing\n",
            "      copying duckdb\\experimental\\spark\\LICENSE -> build\\lib.win-amd64-cpython-312\\duckdb\\experimental\\spark\n",
            "      running build_ext\n",
            "      building 'duckdb.duckdb' extension\n",
            "      creating build\\temp.win-amd64-cpython-312\n",
            "      creating build\\temp.win-amd64-cpython-312\\Release\n",
            "      creating build\\temp.win-amd64-cpython-312\\Release\\duckdb_build\n",
            "      creating build\\temp.win-amd64-cpython-312\\Release\\duckdb_build\\extension\n",
            "      creating build\\temp.win-amd64-cpython-312\\Release\\duckdb_build\\extension\\fts\n",
            "      creating build\\temp.win-amd64-cpython-312\\Release\\duckdb_build\\extension\\icu\n",
            "      creating build\\temp.win-amd64-cpython-312\\Release\\duckdb_build\\extension\\icu\\third_party\n",
            "      creating build\\temp.win-amd64-cpython-312\\Release\\duckdb_build\\extension\\icu\\third_party\\icu\n",
            "      creating build\\temp.win-amd64-cpython-312\\Release\\duckdb_build\\extension\\icu\\third_party\\icu\\stubdata\n",
            "      creating build\\temp.win-amd64-cpython-312\\Release\\duckdb_build\\extension\\jemalloc\n",
            "      creating build\\temp.win-amd64-cpython-312\\Release\\duckdb_build\\extension\\jemalloc\\jemalloc\n",
            "      creating build\\temp.win-amd64-cpython-312\\Release\\duckdb_build\\extension\\jemalloc\\jemalloc\\src\n",
            "      creating build\\temp.win-amd64-cpython-312\\Release\\duckdb_build\\extension\\json\n",
            "      creating build\\temp.win-amd64-cpython-312\\Release\\duckdb_build\\extension\\json\\yyjson\n",
            "      creating build\\temp.win-amd64-cpython-312\\Release\\duckdb_build\\extension\\parquet\n",
            "      creating build\\temp.win-amd64-cpython-312\\Release\\duckdb_build\\extension\\tpcds\n",
            "      creating build\\temp.win-amd64-cpython-312\\Release\\duckdb_build\\extension\\tpcds\\dsdgen\n",
            "      creating build\\temp.win-amd64-cpython-312\\Release\\duckdb_build\\extension\\tpcds\\dsdgen\\dsdgen-c\n",
            "      creating build\\temp.win-amd64-cpython-312\\Release\\duckdb_build\\extension\\tpch\n",
            "      creating build\\temp.win-amd64-cpython-312\\Release\\duckdb_build\\extension\\tpch\\dbgen\n",
            "      creating build\\temp.win-amd64-cpython-312\\Release\\duckdb_build\\src\n",
            "      creating build\\temp.win-amd64-cpython-312\\Release\\duckdb_build\\src\\common\n",
            "      creating build\\temp.win-amd64-cpython-312\\Release\\duckdb_build\\src\\common\\vector_operations\n",
            "      creating build\\temp.win-amd64-cpython-312\\Release\\duckdb_build\\src\\verification\n",
            "      creating build\\temp.win-amd64-cpython-312\\Release\\duckdb_build\\third_party\n",
            "      creating build\\temp.win-amd64-cpython-312\\Release\\duckdb_build\\third_party\\fastpforlib\n",
            "      creating build\\temp.win-amd64-cpython-312\\Release\\duckdb_build\\third_party\\fmt\n",
            "      creating build\\temp.win-amd64-cpython-312\\Release\\duckdb_build\\third_party\\fsst\n",
            "      creating build\\temp.win-amd64-cpython-312\\Release\\duckdb_build\\third_party\\hyperloglog\n",
            "      creating build\\temp.win-amd64-cpython-312\\Release\\duckdb_build\\third_party\\libpg_query\n",
            "      creating build\\temp.win-amd64-cpython-312\\Release\\duckdb_build\\third_party\\mbedtls\n",
            "      creating build\\temp.win-amd64-cpython-312\\Release\\duckdb_build\\third_party\\mbedtls\\library\n",
            "      creating build\\temp.win-amd64-cpython-312\\Release\\duckdb_build\\third_party\\miniz\n",
            "      creating build\\temp.win-amd64-cpython-312\\Release\\duckdb_build\\third_party\\parquet\n",
            "      creating build\\temp.win-amd64-cpython-312\\Release\\duckdb_build\\third_party\\re2\n",
            "      creating build\\temp.win-amd64-cpython-312\\Release\\duckdb_build\\third_party\\re2\\re2\n",
            "      creating build\\temp.win-amd64-cpython-312\\Release\\duckdb_build\\third_party\\re2\\util\n",
            "      creating build\\temp.win-amd64-cpython-312\\Release\\duckdb_build\\third_party\\snappy\n",
            "      creating build\\temp.win-amd64-cpython-312\\Release\\duckdb_build\\third_party\\snowball\n",
            "      creating build\\temp.win-amd64-cpython-312\\Release\\duckdb_build\\third_party\\snowball\\libstemmer\n",
            "      creating build\\temp.win-amd64-cpython-312\\Release\\duckdb_build\\third_party\\snowball\\runtime\n",
            "      creating build\\temp.win-amd64-cpython-312\\Release\\duckdb_build\\third_party\\snowball\\src_c\n",
            "      creating build\\temp.win-amd64-cpython-312\\Release\\duckdb_build\\third_party\\thrift\n",
            "      creating build\\temp.win-amd64-cpython-312\\Release\\duckdb_build\\third_party\\thrift\\thrift\n",
            "      creating build\\temp.win-amd64-cpython-312\\Release\\duckdb_build\\third_party\\thrift\\thrift\\protocol\n",
            "      creating build\\temp.win-amd64-cpython-312\\Release\\duckdb_build\\third_party\\thrift\\thrift\\transport\n",
            "      creating build\\temp.win-amd64-cpython-312\\Release\\duckdb_build\\third_party\\utf8proc\n",
            "      creating build\\temp.win-amd64-cpython-312\\Release\\duckdb_build\\third_party\\zstd\n",
            "      creating build\\temp.win-amd64-cpython-312\\Release\\duckdb_build\\third_party\\zstd\\common\n",
            "      creating build\\temp.win-amd64-cpython-312\\Release\\duckdb_build\\third_party\\zstd\\compress\n",
            "      creating build\\temp.win-amd64-cpython-312\\Release\\duckdb_build\\third_party\\zstd\\decompress\n",
            "      creating build\\temp.win-amd64-cpython-312\\Release\\src\n",
            "      creating build\\temp.win-amd64-cpython-312\\Release\\src\\arrow\n",
            "      creating build\\temp.win-amd64-cpython-312\\Release\\src\\common\n",
            "      creating build\\temp.win-amd64-cpython-312\\Release\\src\\functional\n",
            "      creating build\\temp.win-amd64-cpython-312\\Release\\src\\jupyter\n",
            "      creating build\\temp.win-amd64-cpython-312\\Release\\src\\native\n",
            "      creating build\\temp.win-amd64-cpython-312\\Release\\src\\numpy\n",
            "      creating build\\temp.win-amd64-cpython-312\\Release\\src\\pandas\n",
            "      creating build\\temp.win-amd64-cpython-312\\Release\\src\\pybind11\n",
            "      creating build\\temp.win-amd64-cpython-312\\Release\\src\\pyconnection\n",
            "      creating build\\temp.win-amd64-cpython-312\\Release\\src\\pyduckdb\n",
            "      creating build\\temp.win-amd64-cpython-312\\Release\\src\\pyexpression\n",
            "      creating build\\temp.win-amd64-cpython-312\\Release\\src\\pyrelation\n",
            "      creating build\\temp.win-amd64-cpython-312\\Release\\src\\typing\n",
            "      \"C:\\Program Files\\Microsoft Visual Studio\\2022\\Community\\VC\\Tools\\MSVC\\14.36.32532\\bin\\HostX86\\x64\\cl.exe\" /c /nologo /O2 /W3 /GL /DNDEBUG /MD -Iduckdb_build/src/include -Iduckdb_build/third_party/fmt/include -Iduckdb_build/third_party/fsst -Iduckdb_build/third_party/re2 -Iduckdb_build/third_party/miniz -Iduckdb_build/third_party/utf8proc/include -Iduckdb_build/third_party/utf8proc -Iduckdb_build/third_party/hyperloglog -Iduckdb_build/third_party/fastpforlib -Iduckdb_build/third_party/tdigest -Iduckdb_build/third_party/libpg_query/include -Iduckdb_build/third_party/libpg_query -Iduckdb_build/third_party/concurrentqueue -Iduckdb_build/third_party/pcg -Iduckdb_build/third_party/httplib -Iduckdb_build/third_party/fast_float -Iduckdb_build/third_party/mbedtls -Iduckdb_build/third_party/mbedtls/include -Iduckdb_build/third_party/mbedtls/library -Iduckdb_build/third_party/jaro_winkler -Iduckdb_build/third_party/jaro_winkler/details -Iduckdb_build/extension/parquet/include -Iduckdb_build/third_party/parquet -Iduckdb_build/third_party/snappy -Iduckdb_build/third_party/thrift -Iduckdb_build/third_party/zstd/include -Iduckdb_build/extension/icu/include -Iduckdb_build/extension/icu/third_party/icu/common -Iduckdb_build/extension/icu/third_party/icu/i18n -Iduckdb_build/extension/fts/include -Iduckdb_build/third_party/snowball/libstemmer -Iduckdb_build/third_party/snowball/runtime -Iduckdb_build/third_party/snowball/src_c -Iduckdb_build/extension/tpch/include -Iduckdb_build/extension/tpch/dbgen/include -Iduckdb_build/extension/tpcds/include -Iduckdb_build/extension/tpcds/dsdgen/include -Iduckdb_build/extension/tpcds/dsdgen/include/dsdgen-c -Iduckdb_build/extension/json/include -Iduckdb_build/extension/json/yyjson/include -Iduckdb_build/extension/jemalloc/include -Iduckdb_build/extension/jemalloc/jemalloc/include -Iduckdb_build -IE:\\Development\\VSCode\\VSCode-win32-x64-1.85.1\\data\\tmp\\pip-install-kvm49whl\\duckdb_66870ca60f534608bc310c98b75db617\\src\\include -IE:\\Development\\VSCode\\VSCode-win32-x64-1.85.1\\data\\tmp\\pip-build-env-wsmxan2c\\normal\\Lib\\site-packages\\pybind11\\include -IE:\\Development\\VSCode\\VSCode-win32-x64-1.85.1\\data\\tmp\\pip-build-env-wsmxan2c\\normal\\Lib\\site-packages\\pybind11\\include \"-IC:\\Program Files\\WindowsApps\\PythonSoftwareFoundation.Python.3.12_3.12.752.0_x64__qbz5n2kfra8p0\\include\" \"-IC:\\Program Files\\WindowsApps\\PythonSoftwareFoundation.Python.3.12_3.12.752.0_x64__qbz5n2kfra8p0\\Include\" \"-IC:\\Program Files\\Microsoft Visual Studio\\2022\\Community\\VC\\Tools\\MSVC\\14.36.32532\\include\" \"-IC:\\Program Files\\Microsoft Visual Studio\\2022\\Community\\VC\\Auxiliary\\VS\\include\" \"-IC:\\Program Files (x86)\\Windows Kits\\10\\include\\10.0.20348.0\\ucrt\" \"-IC:\\Program Files (x86)\\Windows Kits\\10\\\\include\\10.0.20348.0\\\\um\" \"-IC:\\Program Files (x86)\\Windows Kits\\10\\\\include\\10.0.20348.0\\\\shared\" \"-IC:\\Program Files (x86)\\Windows Kits\\10\\\\include\\10.0.20348.0\\\\winrt\" \"-IC:\\Program Files (x86)\\Windows Kits\\10\\\\include\\10.0.20348.0\\\\cppwinrt\" /EHsc /Tpduckdb_build/extension/fts/fts_extension.cpp /Fobuild\\temp.win-amd64-cpython-312\\Release\\duckdb_build/extension/fts/fts_extension.obj /wd4244 /wd4267 /wd4200 /wd26451 /wd26495 /D_CRT_SECURE_NO_WARNINGS /utf-8 -DDUCKDB_PYTHON_LIB_NAME=duckdb -DDUCKDB_BUILD_LIBRARY -DWIN32 -DDUCKDB_EXTENSION_PARQUET_LINKED -DDUCKDB_EXTENSION_ICU_LINKED -DDUCKDB_EXTENSION_FTS_LINKED -DDUCKDB_EXTENSION_TPCH_LINKED -DDUCKDB_EXTENSION_JSON_LINKED -DDUCKDB_EXTENSION_AUTOLOAD_DEFAULT=1 -DDUCKDB_EXTENSION_AUTOINSTALL_DEFAULT=1\n",
            "      fts_extension.cpp\n",
            "      \"C:\\Program Files\\Microsoft Visual Studio\\2022\\Community\\VC\\Tools\\MSVC\\14.36.32532\\bin\\HostX86\\x64\\cl.exe\" /c /nologo /O2 /W3 /GL /DNDEBUG /MD -Iduckdb_build/src/include -Iduckdb_build/third_party/fmt/include -Iduckdb_build/third_party/fsst -Iduckdb_build/third_party/re2 -Iduckdb_build/third_party/miniz -Iduckdb_build/third_party/utf8proc/include -Iduckdb_build/third_party/utf8proc -Iduckdb_build/third_party/hyperloglog -Iduckdb_build/third_party/fastpforlib -Iduckdb_build/third_party/tdigest -Iduckdb_build/third_party/libpg_query/include -Iduckdb_build/third_party/libpg_query -Iduckdb_build/third_party/concurrentqueue -Iduckdb_build/third_party/pcg -Iduckdb_build/third_party/httplib -Iduckdb_build/third_party/fast_float -Iduckdb_build/third_party/mbedtls -Iduckdb_build/third_party/mbedtls/include -Iduckdb_build/third_party/mbedtls/library -Iduckdb_build/third_party/jaro_winkler -Iduckdb_build/third_party/jaro_winkler/details -Iduckdb_build/extension/parquet/include -Iduckdb_build/third_party/parquet -Iduckdb_build/third_party/snappy -Iduckdb_build/third_party/thrift -Iduckdb_build/third_party/zstd/include -Iduckdb_build/extension/icu/include -Iduckdb_build/extension/icu/third_party/icu/common -Iduckdb_build/extension/icu/third_party/icu/i18n -Iduckdb_build/extension/fts/include -Iduckdb_build/third_party/snowball/libstemmer -Iduckdb_build/third_party/snowball/runtime -Iduckdb_build/third_party/snowball/src_c -Iduckdb_build/extension/tpch/include -Iduckdb_build/extension/tpch/dbgen/include -Iduckdb_build/extension/tpcds/include -Iduckdb_build/extension/tpcds/dsdgen/include -Iduckdb_build/extension/tpcds/dsdgen/include/dsdgen-c -Iduckdb_build/extension/json/include -Iduckdb_build/extension/json/yyjson/include -Iduckdb_build/extension/jemalloc/include -Iduckdb_build/extension/jemalloc/jemalloc/include -Iduckdb_build -IE:\\Development\\VSCode\\VSCode-win32-x64-1.85.1\\data\\tmp\\pip-install-kvm49whl\\duckdb_66870ca60f534608bc310c98b75db617\\src\\include -IE:\\Development\\VSCode\\VSCode-win32-x64-1.85.1\\data\\tmp\\pip-build-env-wsmxan2c\\normal\\Lib\\site-packages\\pybind11\\include -IE:\\Development\\VSCode\\VSCode-win32-x64-1.85.1\\data\\tmp\\pip-build-env-wsmxan2c\\normal\\Lib\\site-packages\\pybind11\\include \"-IC:\\Program Files\\WindowsApps\\PythonSoftwareFoundation.Python.3.12_3.12.752.0_x64__qbz5n2kfra8p0\\include\" \"-IC:\\Program Files\\WindowsApps\\PythonSoftwareFoundation.Python.3.12_3.12.752.0_x64__qbz5n2kfra8p0\\Include\" \"-IC:\\Program Files\\Microsoft Visual Studio\\2022\\Community\\VC\\Tools\\MSVC\\14.36.32532\\include\" \"-IC:\\Program Files\\Microsoft Visual Studio\\2022\\Community\\VC\\Auxiliary\\VS\\include\" \"-IC:\\Program Files (x86)\\Windows Kits\\10\\include\\10.0.20348.0\\ucrt\" \"-IC:\\Program Files (x86)\\Windows Kits\\10\\\\include\\10.0.20348.0\\\\um\" \"-IC:\\Program Files (x86)\\Windows Kits\\10\\\\include\\10.0.20348.0\\\\shared\" \"-IC:\\Program Files (x86)\\Windows Kits\\10\\\\include\\10.0.20348.0\\\\winrt\" \"-IC:\\Program Files (x86)\\Windows Kits\\10\\\\include\\10.0.20348.0\\\\cppwinrt\" /EHsc /Tpduckdb_build/extension/fts/fts_indexing.cpp /Fobuild\\temp.win-amd64-cpython-312\\Release\\duckdb_build/extension/fts/fts_indexing.obj /wd4244 /wd4267 /wd4200 /wd26451 /wd26495 /D_CRT_SECURE_NO_WARNINGS /utf-8 -DDUCKDB_PYTHON_LIB_NAME=duckdb -DDUCKDB_BUILD_LIBRARY -DWIN32 -DDUCKDB_EXTENSION_PARQUET_LINKED -DDUCKDB_EXTENSION_ICU_LINKED -DDUCKDB_EXTENSION_FTS_LINKED -DDUCKDB_EXTENSION_TPCH_LINKED -DDUCKDB_EXTENSION_JSON_LINKED -DDUCKDB_EXTENSION_AUTOLOAD_DEFAULT=1 -DDUCKDB_EXTENSION_AUTOINSTALL_DEFAULT=1\n",
            "      fts_indexing.cpp\n",
            "      \"C:\\Program Files\\Microsoft Visual Studio\\2022\\Community\\VC\\Tools\\MSVC\\14.36.32532\\bin\\HostX86\\x64\\cl.exe\" /c /nologo /O2 /W3 /GL /DNDEBUG /MD -Iduckdb_build/src/include -Iduckdb_build/third_party/fmt/include -Iduckdb_build/third_party/fsst -Iduckdb_build/third_party/re2 -Iduckdb_build/third_party/miniz -Iduckdb_build/third_party/utf8proc/include -Iduckdb_build/third_party/utf8proc -Iduckdb_build/third_party/hyperloglog -Iduckdb_build/third_party/fastpforlib -Iduckdb_build/third_party/tdigest -Iduckdb_build/third_party/libpg_query/include -Iduckdb_build/third_party/libpg_query -Iduckdb_build/third_party/concurrentqueue -Iduckdb_build/third_party/pcg -Iduckdb_build/third_party/httplib -Iduckdb_build/third_party/fast_float -Iduckdb_build/third_party/mbedtls -Iduckdb_build/third_party/mbedtls/include -Iduckdb_build/third_party/mbedtls/library -Iduckdb_build/third_party/jaro_winkler -Iduckdb_build/third_party/jaro_winkler/details -Iduckdb_build/extension/parquet/include -Iduckdb_build/third_party/parquet -Iduckdb_build/third_party/snappy -Iduckdb_build/third_party/thrift -Iduckdb_build/third_party/zstd/include -Iduckdb_build/extension/icu/include -Iduckdb_build/extension/icu/third_party/icu/common -Iduckdb_build/extension/icu/third_party/icu/i18n -Iduckdb_build/extension/fts/include -Iduckdb_build/third_party/snowball/libstemmer -Iduckdb_build/third_party/snowball/runtime -Iduckdb_build/third_party/snowball/src_c -Iduckdb_build/extension/tpch/include -Iduckdb_build/extension/tpch/dbgen/include -Iduckdb_build/extension/tpcds/include -Iduckdb_build/extension/tpcds/dsdgen/include -Iduckdb_build/extension/tpcds/dsdgen/include/dsdgen-c -Iduckdb_build/extension/json/include -Iduckdb_build/extension/json/yyjson/include -Iduckdb_build/extension/jemalloc/include -Iduckdb_build/extension/jemalloc/jemalloc/include -Iduckdb_build -IE:\\Development\\VSCode\\VSCode-win32-x64-1.85.1\\data\\tmp\\pip-install-kvm49whl\\duckdb_66870ca60f534608bc310c98b75db617\\src\\include -IE:\\Development\\VSCode\\VSCode-win32-x64-1.85.1\\data\\tmp\\pip-build-env-wsmxan2c\\normal\\Lib\\site-packages\\pybind11\\include -IE:\\Development\\VSCode\\VSCode-win32-x64-1.85.1\\data\\tmp\\pip-build-env-wsmxan2c\\normal\\Lib\\site-packages\\pybind11\\include \"-IC:\\Program Files\\WindowsApps\\PythonSoftwareFoundation.Python.3.12_3.12.752.0_x64__qbz5n2kfra8p0\\include\" \"-IC:\\Program Files\\WindowsApps\\PythonSoftwareFoundation.Python.3.12_3.12.752.0_x64__qbz5n2kfra8p0\\Include\" \"-IC:\\Program Files\\Microsoft Visual Studio\\2022\\Community\\VC\\Tools\\MSVC\\14.36.32532\\include\" \"-IC:\\Program Files\\Microsoft Visual Studio\\2022\\Community\\VC\\Auxiliary\\VS\\include\" \"-IC:\\Program Files (x86)\\Windows Kits\\10\\include\\10.0.20348.0\\ucrt\" \"-IC:\\Program Files (x86)\\Windows Kits\\10\\\\include\\10.0.20348.0\\\\um\" \"-IC:\\Program Files (x86)\\Windows Kits\\10\\\\include\\10.0.20348.0\\\\shared\" \"-IC:\\Program Files (x86)\\Windows Kits\\10\\\\include\\10.0.20348.0\\\\winrt\" \"-IC:\\Program Files (x86)\\Windows Kits\\10\\\\include\\10.0.20348.0\\\\cppwinrt\" /EHsc /Tpduckdb_build/extension/icu/./icu-dateadd.cpp /Fobuild\\temp.win-amd64-cpython-312\\Release\\duckdb_build/extension/icu/./icu-dateadd.obj /wd4244 /wd4267 /wd4200 /wd26451 /wd26495 /D_CRT_SECURE_NO_WARNINGS /utf-8 -DDUCKDB_PYTHON_LIB_NAME=duckdb -DDUCKDB_BUILD_LIBRARY -DWIN32 -DDUCKDB_EXTENSION_PARQUET_LINKED -DDUCKDB_EXTENSION_ICU_LINKED -DDUCKDB_EXTENSION_FTS_LINKED -DDUCKDB_EXTENSION_TPCH_LINKED -DDUCKDB_EXTENSION_JSON_LINKED -DDUCKDB_EXTENSION_AUTOLOAD_DEFAULT=1 -DDUCKDB_EXTENSION_AUTOINSTALL_DEFAULT=1\n",
            "      icu-dateadd.cpp\n",
            "      \"C:\\Program Files\\Microsoft Visual Studio\\2022\\Community\\VC\\Tools\\MSVC\\14.36.32532\\bin\\HostX86\\x64\\cl.exe\" /c /nologo /O2 /W3 /GL /DNDEBUG /MD -Iduckdb_build/src/include -Iduckdb_build/third_party/fmt/include -Iduckdb_build/third_party/fsst -Iduckdb_build/third_party/re2 -Iduckdb_build/third_party/miniz -Iduckdb_build/third_party/utf8proc/include -Iduckdb_build/third_party/utf8proc -Iduckdb_build/third_party/hyperloglog -Iduckdb_build/third_party/fastpforlib -Iduckdb_build/third_party/tdigest -Iduckdb_build/third_party/libpg_query/include -Iduckdb_build/third_party/libpg_query -Iduckdb_build/third_party/concurrentqueue -Iduckdb_build/third_party/pcg -Iduckdb_build/third_party/httplib -Iduckdb_build/third_party/fast_float -Iduckdb_build/third_party/mbedtls -Iduckdb_build/third_party/mbedtls/include -Iduckdb_build/third_party/mbedtls/library -Iduckdb_build/third_party/jaro_winkler -Iduckdb_build/third_party/jaro_winkler/details -Iduckdb_build/extension/parquet/include -Iduckdb_build/third_party/parquet -Iduckdb_build/third_party/snappy -Iduckdb_build/third_party/thrift -Iduckdb_build/third_party/zstd/include -Iduckdb_build/extension/icu/include -Iduckdb_build/extension/icu/third_party/icu/common -Iduckdb_build/extension/icu/third_party/icu/i18n -Iduckdb_build/extension/fts/include -Iduckdb_build/third_party/snowball/libstemmer -Iduckdb_build/third_party/snowball/runtime -Iduckdb_build/third_party/snowball/src_c -Iduckdb_build/extension/tpch/include -Iduckdb_build/extension/tpch/dbgen/include -Iduckdb_build/extension/tpcds/include -Iduckdb_build/extension/tpcds/dsdgen/include -Iduckdb_build/extension/tpcds/dsdgen/include/dsdgen-c -Iduckdb_build/extension/json/include -Iduckdb_build/extension/json/yyjson/include -Iduckdb_build/extension/jemalloc/include -Iduckdb_build/extension/jemalloc/jemalloc/include -Iduckdb_build -IE:\\Development\\VSCode\\VSCode-win32-x64-1.85.1\\data\\tmp\\pip-install-kvm49whl\\duckdb_66870ca60f534608bc310c98b75db617\\src\\include -IE:\\Development\\VSCode\\VSCode-win32-x64-1.85.1\\data\\tmp\\pip-build-env-wsmxan2c\\normal\\Lib\\site-packages\\pybind11\\include -IE:\\Development\\VSCode\\VSCode-win32-x64-1.85.1\\data\\tmp\\pip-build-env-wsmxan2c\\normal\\Lib\\site-packages\\pybind11\\include \"-IC:\\Program Files\\WindowsApps\\PythonSoftwareFoundation.Python.3.12_3.12.752.0_x64__qbz5n2kfra8p0\\include\" \"-IC:\\Program Files\\WindowsApps\\PythonSoftwareFoundation.Python.3.12_3.12.752.0_x64__qbz5n2kfra8p0\\Include\" \"-IC:\\Program Files\\Microsoft Visual Studio\\2022\\Community\\VC\\Tools\\MSVC\\14.36.32532\\include\" \"-IC:\\Program Files\\Microsoft Visual Studio\\2022\\Community\\VC\\Auxiliary\\VS\\include\" \"-IC:\\Program Files (x86)\\Windows Kits\\10\\include\\10.0.20348.0\\ucrt\" \"-IC:\\Program Files (x86)\\Windows Kits\\10\\\\include\\10.0.20348.0\\\\um\" \"-IC:\\Program Files (x86)\\Windows Kits\\10\\\\include\\10.0.20348.0\\\\shared\" \"-IC:\\Program Files (x86)\\Windows Kits\\10\\\\include\\10.0.20348.0\\\\winrt\" \"-IC:\\Program Files (x86)\\Windows Kits\\10\\\\include\\10.0.20348.0\\\\cppwinrt\" /EHsc /Tpduckdb_build/extension/icu/./icu-datefunc.cpp /Fobuild\\temp.win-amd64-cpython-312\\Release\\duckdb_build/extension/icu/./icu-datefunc.obj /wd4244 /wd4267 /wd4200 /wd26451 /wd26495 /D_CRT_SECURE_NO_WARNINGS /utf-8 -DDUCKDB_PYTHON_LIB_NAME=duckdb -DDUCKDB_BUILD_LIBRARY -DWIN32 -DDUCKDB_EXTENSION_PARQUET_LINKED -DDUCKDB_EXTENSION_ICU_LINKED -DDUCKDB_EXTENSION_FTS_LINKED -DDUCKDB_EXTENSION_TPCH_LINKED -DDUCKDB_EXTENSION_JSON_LINKED -DDUCKDB_EXTENSION_AUTOLOAD_DEFAULT=1 -DDUCKDB_EXTENSION_AUTOINSTALL_DEFAULT=1\n",
            "      icu-datefunc.cpp\n",
            "      \"C:\\Program Files\\Microsoft Visual Studio\\2022\\Community\\VC\\Tools\\MSVC\\14.36.32532\\bin\\HostX86\\x64\\cl.exe\" /c /nologo /O2 /W3 /GL /DNDEBUG /MD -Iduckdb_build/src/include -Iduckdb_build/third_party/fmt/include -Iduckdb_build/third_party/fsst -Iduckdb_build/third_party/re2 -Iduckdb_build/third_party/miniz -Iduckdb_build/third_party/utf8proc/include -Iduckdb_build/third_party/utf8proc -Iduckdb_build/third_party/hyperloglog -Iduckdb_build/third_party/fastpforlib -Iduckdb_build/third_party/tdigest -Iduckdb_build/third_party/libpg_query/include -Iduckdb_build/third_party/libpg_query -Iduckdb_build/third_party/concurrentqueue -Iduckdb_build/third_party/pcg -Iduckdb_build/third_party/httplib -Iduckdb_build/third_party/fast_float -Iduckdb_build/third_party/mbedtls -Iduckdb_build/third_party/mbedtls/include -Iduckdb_build/third_party/mbedtls/library -Iduckdb_build/third_party/jaro_winkler -Iduckdb_build/third_party/jaro_winkler/details -Iduckdb_build/extension/parquet/include -Iduckdb_build/third_party/parquet -Iduckdb_build/third_party/snappy -Iduckdb_build/third_party/thrift -Iduckdb_build/third_party/zstd/include -Iduckdb_build/extension/icu/include -Iduckdb_build/extension/icu/third_party/icu/common -Iduckdb_build/extension/icu/third_party/icu/i18n -Iduckdb_build/extension/fts/include -Iduckdb_build/third_party/snowball/libstemmer -Iduckdb_build/third_party/snowball/runtime -Iduckdb_build/third_party/snowball/src_c -Iduckdb_build/extension/tpch/include -Iduckdb_build/extension/tpch/dbgen/include -Iduckdb_build/extension/tpcds/include -Iduckdb_build/extension/tpcds/dsdgen/include -Iduckdb_build/extension/tpcds/dsdgen/include/dsdgen-c -Iduckdb_build/extension/json/include -Iduckdb_build/extension/json/yyjson/include -Iduckdb_build/extension/jemalloc/include -Iduckdb_build/extension/jemalloc/jemalloc/include -Iduckdb_build -IE:\\Development\\VSCode\\VSCode-win32-x64-1.85.1\\data\\tmp\\pip-install-kvm49whl\\duckdb_66870ca60f534608bc310c98b75db617\\src\\include -IE:\\Development\\VSCode\\VSCode-win32-x64-1.85.1\\data\\tmp\\pip-build-env-wsmxan2c\\normal\\Lib\\site-packages\\pybind11\\include -IE:\\Development\\VSCode\\VSCode-win32-x64-1.85.1\\data\\tmp\\pip-build-env-wsmxan2c\\normal\\Lib\\site-packages\\pybind11\\include \"-IC:\\Program Files\\WindowsApps\\PythonSoftwareFoundation.Python.3.12_3.12.752.0_x64__qbz5n2kfra8p0\\include\" \"-IC:\\Program Files\\WindowsApps\\PythonSoftwareFoundation.Python.3.12_3.12.752.0_x64__qbz5n2kfra8p0\\Include\" \"-IC:\\Program Files\\Microsoft Visual Studio\\2022\\Community\\VC\\Tools\\MSVC\\14.36.32532\\include\" \"-IC:\\Program Files\\Microsoft Visual Studio\\2022\\Community\\VC\\Auxiliary\\VS\\include\" \"-IC:\\Program Files (x86)\\Windows Kits\\10\\include\\10.0.20348.0\\ucrt\" \"-IC:\\Program Files (x86)\\Windows Kits\\10\\\\include\\10.0.20348.0\\\\um\" \"-IC:\\Program Files (x86)\\Windows Kits\\10\\\\include\\10.0.20348.0\\\\shared\" \"-IC:\\Program Files (x86)\\Windows Kits\\10\\\\include\\10.0.20348.0\\\\winrt\" \"-IC:\\Program Files (x86)\\Windows Kits\\10\\\\include\\10.0.20348.0\\\\cppwinrt\" /EHsc /Tpduckdb_build/extension/icu/./icu-datepart.cpp /Fobuild\\temp.win-amd64-cpython-312\\Release\\duckdb_build/extension/icu/./icu-datepart.obj /wd4244 /wd4267 /wd4200 /wd26451 /wd26495 /D_CRT_SECURE_NO_WARNINGS /utf-8 -DDUCKDB_PYTHON_LIB_NAME=duckdb -DDUCKDB_BUILD_LIBRARY -DWIN32 -DDUCKDB_EXTENSION_PARQUET_LINKED -DDUCKDB_EXTENSION_ICU_LINKED -DDUCKDB_EXTENSION_FTS_LINKED -DDUCKDB_EXTENSION_TPCH_LINKED -DDUCKDB_EXTENSION_JSON_LINKED -DDUCKDB_EXTENSION_AUTOLOAD_DEFAULT=1 -DDUCKDB_EXTENSION_AUTOINSTALL_DEFAULT=1\n",
            "      icu-datepart.cpp\n",
            "      \"C:\\Program Files\\Microsoft Visual Studio\\2022\\Community\\VC\\Tools\\MSVC\\14.36.32532\\bin\\HostX86\\x64\\cl.exe\" /c /nologo /O2 /W3 /GL /DNDEBUG /MD -Iduckdb_build/src/include -Iduckdb_build/third_party/fmt/include -Iduckdb_build/third_party/fsst -Iduckdb_build/third_party/re2 -Iduckdb_build/third_party/miniz -Iduckdb_build/third_party/utf8proc/include -Iduckdb_build/third_party/utf8proc -Iduckdb_build/third_party/hyperloglog -Iduckdb_build/third_party/fastpforlib -Iduckdb_build/third_party/tdigest -Iduckdb_build/third_party/libpg_query/include -Iduckdb_build/third_party/libpg_query -Iduckdb_build/third_party/concurrentqueue -Iduckdb_build/third_party/pcg -Iduckdb_build/third_party/httplib -Iduckdb_build/third_party/fast_float -Iduckdb_build/third_party/mbedtls -Iduckdb_build/third_party/mbedtls/include -Iduckdb_build/third_party/mbedtls/library -Iduckdb_build/third_party/jaro_winkler -Iduckdb_build/third_party/jaro_winkler/details -Iduckdb_build/extension/parquet/include -Iduckdb_build/third_party/parquet -Iduckdb_build/third_party/snappy -Iduckdb_build/third_party/thrift -Iduckdb_build/third_party/zstd/include -Iduckdb_build/extension/icu/include -Iduckdb_build/extension/icu/third_party/icu/common -Iduckdb_build/extension/icu/third_party/icu/i18n -Iduckdb_build/extension/fts/include -Iduckdb_build/third_party/snowball/libstemmer -Iduckdb_build/third_party/snowball/runtime -Iduckdb_build/third_party/snowball/src_c -Iduckdb_build/extension/tpch/include -Iduckdb_build/extension/tpch/dbgen/include -Iduckdb_build/extension/tpcds/include -Iduckdb_build/extension/tpcds/dsdgen/include -Iduckdb_build/extension/tpcds/dsdgen/include/dsdgen-c -Iduckdb_build/extension/json/include -Iduckdb_build/extension/json/yyjson/include -Iduckdb_build/extension/jemalloc/include -Iduckdb_build/extension/jemalloc/jemalloc/include -Iduckdb_build -IE:\\Development\\VSCode\\VSCode-win32-x64-1.85.1\\data\\tmp\\pip-install-kvm49whl\\duckdb_66870ca60f534608bc310c98b75db617\\src\\include -IE:\\Development\\VSCode\\VSCode-win32-x64-1.85.1\\data\\tmp\\pip-build-env-wsmxan2c\\normal\\Lib\\site-packages\\pybind11\\include -IE:\\Development\\VSCode\\VSCode-win32-x64-1.85.1\\data\\tmp\\pip-build-env-wsmxan2c\\normal\\Lib\\site-packages\\pybind11\\include \"-IC:\\Program Files\\WindowsApps\\PythonSoftwareFoundation.Python.3.12_3.12.752.0_x64__qbz5n2kfra8p0\\include\" \"-IC:\\Program Files\\WindowsApps\\PythonSoftwareFoundation.Python.3.12_3.12.752.0_x64__qbz5n2kfra8p0\\Include\" \"-IC:\\Program Files\\Microsoft Visual Studio\\2022\\Community\\VC\\Tools\\MSVC\\14.36.32532\\include\" \"-IC:\\Program Files\\Microsoft Visual Studio\\2022\\Community\\VC\\Auxiliary\\VS\\include\" \"-IC:\\Program Files (x86)\\Windows Kits\\10\\include\\10.0.20348.0\\ucrt\" \"-IC:\\Program Files (x86)\\Windows Kits\\10\\\\include\\10.0.20348.0\\\\um\" \"-IC:\\Program Files (x86)\\Windows Kits\\10\\\\include\\10.0.20348.0\\\\shared\" \"-IC:\\Program Files (x86)\\Windows Kits\\10\\\\include\\10.0.20348.0\\\\winrt\" \"-IC:\\Program Files (x86)\\Windows Kits\\10\\\\include\\10.0.20348.0\\\\cppwinrt\" /EHsc /Tpduckdb_build/extension/icu/./icu-datesub.cpp /Fobuild\\temp.win-amd64-cpython-312\\Release\\duckdb_build/extension/icu/./icu-datesub.obj /wd4244 /wd4267 /wd4200 /wd26451 /wd26495 /D_CRT_SECURE_NO_WARNINGS /utf-8 -DDUCKDB_PYTHON_LIB_NAME=duckdb -DDUCKDB_BUILD_LIBRARY -DWIN32 -DDUCKDB_EXTENSION_PARQUET_LINKED -DDUCKDB_EXTENSION_ICU_LINKED -DDUCKDB_EXTENSION_FTS_LINKED -DDUCKDB_EXTENSION_TPCH_LINKED -DDUCKDB_EXTENSION_JSON_LINKED -DDUCKDB_EXTENSION_AUTOLOAD_DEFAULT=1 -DDUCKDB_EXTENSION_AUTOINSTALL_DEFAULT=1\n",
            "      icu-datesub.cpp\n",
            "      \"C:\\Program Files\\Microsoft Visual Studio\\2022\\Community\\VC\\Tools\\MSVC\\14.36.32532\\bin\\HostX86\\x64\\cl.exe\" /c /nologo /O2 /W3 /GL /DNDEBUG /MD -Iduckdb_build/src/include -Iduckdb_build/third_party/fmt/include -Iduckdb_build/third_party/fsst -Iduckdb_build/third_party/re2 -Iduckdb_build/third_party/miniz -Iduckdb_build/third_party/utf8proc/include -Iduckdb_build/third_party/utf8proc -Iduckdb_build/third_party/hyperloglog -Iduckdb_build/third_party/fastpforlib -Iduckdb_build/third_party/tdigest -Iduckdb_build/third_party/libpg_query/include -Iduckdb_build/third_party/libpg_query -Iduckdb_build/third_party/concurrentqueue -Iduckdb_build/third_party/pcg -Iduckdb_build/third_party/httplib -Iduckdb_build/third_party/fast_float -Iduckdb_build/third_party/mbedtls -Iduckdb_build/third_party/mbedtls/include -Iduckdb_build/third_party/mbedtls/library -Iduckdb_build/third_party/jaro_winkler -Iduckdb_build/third_party/jaro_winkler/details -Iduckdb_build/extension/parquet/include -Iduckdb_build/third_party/parquet -Iduckdb_build/third_party/snappy -Iduckdb_build/third_party/thrift -Iduckdb_build/third_party/zstd/include -Iduckdb_build/extension/icu/include -Iduckdb_build/extension/icu/third_party/icu/common -Iduckdb_build/extension/icu/third_party/icu/i18n -Iduckdb_build/extension/fts/include -Iduckdb_build/third_party/snowball/libstemmer -Iduckdb_build/third_party/snowball/runtime -Iduckdb_build/third_party/snowball/src_c -Iduckdb_build/extension/tpch/include -Iduckdb_build/extension/tpch/dbgen/include -Iduckdb_build/extension/tpcds/include -Iduckdb_build/extension/tpcds/dsdgen/include -Iduckdb_build/extension/tpcds/dsdgen/include/dsdgen-c -Iduckdb_build/extension/json/include -Iduckdb_build/extension/json/yyjson/include -Iduckdb_build/extension/jemalloc/include -Iduckdb_build/extension/jemalloc/jemalloc/include -Iduckdb_build -IE:\\Development\\VSCode\\VSCode-win32-x64-1.85.1\\data\\tmp\\pip-install-kvm49whl\\duckdb_66870ca60f534608bc310c98b75db617\\src\\include -IE:\\Development\\VSCode\\VSCode-win32-x64-1.85.1\\data\\tmp\\pip-build-env-wsmxan2c\\normal\\Lib\\site-packages\\pybind11\\include -IE:\\Development\\VSCode\\VSCode-win32-x64-1.85.1\\data\\tmp\\pip-build-env-wsmxan2c\\normal\\Lib\\site-packages\\pybind11\\include \"-IC:\\Program Files\\WindowsApps\\PythonSoftwareFoundation.Python.3.12_3.12.752.0_x64__qbz5n2kfra8p0\\include\" \"-IC:\\Program Files\\WindowsApps\\PythonSoftwareFoundation.Python.3.12_3.12.752.0_x64__qbz5n2kfra8p0\\Include\" \"-IC:\\Program Files\\Microsoft Visual Studio\\2022\\Community\\VC\\Tools\\MSVC\\14.36.32532\\include\" \"-IC:\\Program Files\\Microsoft Visual Studio\\2022\\Community\\VC\\Auxiliary\\VS\\include\" \"-IC:\\Program Files (x86)\\Windows Kits\\10\\include\\10.0.20348.0\\ucrt\" \"-IC:\\Program Files (x86)\\Windows Kits\\10\\\\include\\10.0.20348.0\\\\um\" \"-IC:\\Program Files (x86)\\Windows Kits\\10\\\\include\\10.0.20348.0\\\\shared\" \"-IC:\\Program Files (x86)\\Windows Kits\\10\\\\include\\10.0.20348.0\\\\winrt\" \"-IC:\\Program Files (x86)\\Windows Kits\\10\\\\include\\10.0.20348.0\\\\cppwinrt\" /EHsc /Tpduckdb_build/extension/icu/./icu-datetrunc.cpp /Fobuild\\temp.win-amd64-cpython-312\\Release\\duckdb_build/extension/icu/./icu-datetrunc.obj /wd4244 /wd4267 /wd4200 /wd26451 /wd26495 /D_CRT_SECURE_NO_WARNINGS /utf-8 -DDUCKDB_PYTHON_LIB_NAME=duckdb -DDUCKDB_BUILD_LIBRARY -DWIN32 -DDUCKDB_EXTENSION_PARQUET_LINKED -DDUCKDB_EXTENSION_ICU_LINKED -DDUCKDB_EXTENSION_FTS_LINKED -DDUCKDB_EXTENSION_TPCH_LINKED -DDUCKDB_EXTENSION_JSON_LINKED -DDUCKDB_EXTENSION_AUTOLOAD_DEFAULT=1 -DDUCKDB_EXTENSION_AUTOINSTALL_DEFAULT=1\n",
            "      icu-datetrunc.cpp\n",
            "      \"C:\\Program Files\\Microsoft Visual Studio\\2022\\Community\\VC\\Tools\\MSVC\\14.36.32532\\bin\\HostX86\\x64\\cl.exe\" /c /nologo /O2 /W3 /GL /DNDEBUG /MD -Iduckdb_build/src/include -Iduckdb_build/third_party/fmt/include -Iduckdb_build/third_party/fsst -Iduckdb_build/third_party/re2 -Iduckdb_build/third_party/miniz -Iduckdb_build/third_party/utf8proc/include -Iduckdb_build/third_party/utf8proc -Iduckdb_build/third_party/hyperloglog -Iduckdb_build/third_party/fastpforlib -Iduckdb_build/third_party/tdigest -Iduckdb_build/third_party/libpg_query/include -Iduckdb_build/third_party/libpg_query -Iduckdb_build/third_party/concurrentqueue -Iduckdb_build/third_party/pcg -Iduckdb_build/third_party/httplib -Iduckdb_build/third_party/fast_float -Iduckdb_build/third_party/mbedtls -Iduckdb_build/third_party/mbedtls/include -Iduckdb_build/third_party/mbedtls/library -Iduckdb_build/third_party/jaro_winkler -Iduckdb_build/third_party/jaro_winkler/details -Iduckdb_build/extension/parquet/include -Iduckdb_build/third_party/parquet -Iduckdb_build/third_party/snappy -Iduckdb_build/third_party/thrift -Iduckdb_build/third_party/zstd/include -Iduckdb_build/extension/icu/include -Iduckdb_build/extension/icu/third_party/icu/common -Iduckdb_build/extension/icu/third_party/icu/i18n -Iduckdb_build/extension/fts/include -Iduckdb_build/third_party/snowball/libstemmer -Iduckdb_build/third_party/snowball/runtime -Iduckdb_build/third_party/snowball/src_c -Iduckdb_build/extension/tpch/include -Iduckdb_build/extension/tpch/dbgen/include -Iduckdb_build/extension/tpcds/include -Iduckdb_build/extension/tpcds/dsdgen/include -Iduckdb_build/extension/tpcds/dsdgen/include/dsdgen-c -Iduckdb_build/extension/json/include -Iduckdb_build/extension/json/yyjson/include -Iduckdb_build/extension/jemalloc/include -Iduckdb_build/extension/jemalloc/jemalloc/include -Iduckdb_build -IE:\\Development\\VSCode\\VSCode-win32-x64-1.85.1\\data\\tmp\\pip-install-kvm49whl\\duckdb_66870ca60f534608bc310c98b75db617\\src\\include -IE:\\Development\\VSCode\\VSCode-win32-x64-1.85.1\\data\\tmp\\pip-build-env-wsmxan2c\\normal\\Lib\\site-packages\\pybind11\\include -IE:\\Development\\VSCode\\VSCode-win32-x64-1.85.1\\data\\tmp\\pip-build-env-wsmxan2c\\normal\\Lib\\site-packages\\pybind11\\include \"-IC:\\Program Files\\WindowsApps\\PythonSoftwareFoundation.Python.3.12_3.12.752.0_x64__qbz5n2kfra8p0\\include\" \"-IC:\\Program Files\\WindowsApps\\PythonSoftwareFoundation.Python.3.12_3.12.752.0_x64__qbz5n2kfra8p0\\Include\" \"-IC:\\Program Files\\Microsoft Visual Studio\\2022\\Community\\VC\\Tools\\MSVC\\14.36.32532\\include\" \"-IC:\\Program Files\\Microsoft Visual Studio\\2022\\Community\\VC\\Auxiliary\\VS\\include\" \"-IC:\\Program Files (x86)\\Windows Kits\\10\\include\\10.0.20348.0\\ucrt\" \"-IC:\\Program Files (x86)\\Windows Kits\\10\\\\include\\10.0.20348.0\\\\um\" \"-IC:\\Program Files (x86)\\Windows Kits\\10\\\\include\\10.0.20348.0\\\\shared\" \"-IC:\\Program Files (x86)\\Windows Kits\\10\\\\include\\10.0.20348.0\\\\winrt\" \"-IC:\\Program Files (x86)\\Windows Kits\\10\\\\include\\10.0.20348.0\\\\cppwinrt\" /EHsc /Tpduckdb_build/extension/icu/./icu-list-range.cpp /Fobuild\\temp.win-amd64-cpython-312\\Release\\duckdb_build/extension/icu/./icu-list-range.obj /wd4244 /wd4267 /wd4200 /wd26451 /wd26495 /D_CRT_SECURE_NO_WARNINGS /utf-8 -DDUCKDB_PYTHON_LIB_NAME=duckdb -DDUCKDB_BUILD_LIBRARY -DWIN32 -DDUCKDB_EXTENSION_PARQUET_LINKED -DDUCKDB_EXTENSION_ICU_LINKED -DDUCKDB_EXTENSION_FTS_LINKED -DDUCKDB_EXTENSION_TPCH_LINKED -DDUCKDB_EXTENSION_JSON_LINKED -DDUCKDB_EXTENSION_AUTOLOAD_DEFAULT=1 -DDUCKDB_EXTENSION_AUTOINSTALL_DEFAULT=1\n",
            "      icu-list-range.cpp\n",
            "      \"C:\\Program Files\\Microsoft Visual Studio\\2022\\Community\\VC\\Tools\\MSVC\\14.36.32532\\bin\\HostX86\\x64\\cl.exe\" /c /nologo /O2 /W3 /GL /DNDEBUG /MD -Iduckdb_build/src/include -Iduckdb_build/third_party/fmt/include -Iduckdb_build/third_party/fsst -Iduckdb_build/third_party/re2 -Iduckdb_build/third_party/miniz -Iduckdb_build/third_party/utf8proc/include -Iduckdb_build/third_party/utf8proc -Iduckdb_build/third_party/hyperloglog -Iduckdb_build/third_party/fastpforlib -Iduckdb_build/third_party/tdigest -Iduckdb_build/third_party/libpg_query/include -Iduckdb_build/third_party/libpg_query -Iduckdb_build/third_party/concurrentqueue -Iduckdb_build/third_party/pcg -Iduckdb_build/third_party/httplib -Iduckdb_build/third_party/fast_float -Iduckdb_build/third_party/mbedtls -Iduckdb_build/third_party/mbedtls/include -Iduckdb_build/third_party/mbedtls/library -Iduckdb_build/third_party/jaro_winkler -Iduckdb_build/third_party/jaro_winkler/details -Iduckdb_build/extension/parquet/include -Iduckdb_build/third_party/parquet -Iduckdb_build/third_party/snappy -Iduckdb_build/third_party/thrift -Iduckdb_build/third_party/zstd/include -Iduckdb_build/extension/icu/include -Iduckdb_build/extension/icu/third_party/icu/common -Iduckdb_build/extension/icu/third_party/icu/i18n -Iduckdb_build/extension/fts/include -Iduckdb_build/third_party/snowball/libstemmer -Iduckdb_build/third_party/snowball/runtime -Iduckdb_build/third_party/snowball/src_c -Iduckdb_build/extension/tpch/include -Iduckdb_build/extension/tpch/dbgen/include -Iduckdb_build/extension/tpcds/include -Iduckdb_build/extension/tpcds/dsdgen/include -Iduckdb_build/extension/tpcds/dsdgen/include/dsdgen-c -Iduckdb_build/extension/json/include -Iduckdb_build/extension/json/yyjson/include -Iduckdb_build/extension/jemalloc/include -Iduckdb_build/extension/jemalloc/jemalloc/include -Iduckdb_build -IE:\\Development\\VSCode\\VSCode-win32-x64-1.85.1\\data\\tmp\\pip-install-kvm49whl\\duckdb_66870ca60f534608bc310c98b75db617\\src\\include -IE:\\Development\\VSCode\\VSCode-win32-x64-1.85.1\\data\\tmp\\pip-build-env-wsmxan2c\\normal\\Lib\\site-packages\\pybind11\\include -IE:\\Development\\VSCode\\VSCode-win32-x64-1.85.1\\data\\tmp\\pip-build-env-wsmxan2c\\normal\\Lib\\site-packages\\pybind11\\include \"-IC:\\Program Files\\WindowsApps\\PythonSoftwareFoundation.Python.3.12_3.12.752.0_x64__qbz5n2kfra8p0\\include\" \"-IC:\\Program Files\\WindowsApps\\PythonSoftwareFoundation.Python.3.12_3.12.752.0_x64__qbz5n2kfra8p0\\Include\" \"-IC:\\Program Files\\Microsoft Visual Studio\\2022\\Community\\VC\\Tools\\MSVC\\14.36.32532\\include\" \"-IC:\\Program Files\\Microsoft Visual Studio\\2022\\Community\\VC\\Auxiliary\\VS\\include\" \"-IC:\\Program Files (x86)\\Windows Kits\\10\\include\\10.0.20348.0\\ucrt\" \"-IC:\\Program Files (x86)\\Windows Kits\\10\\\\include\\10.0.20348.0\\\\um\" \"-IC:\\Program Files (x86)\\Windows Kits\\10\\\\include\\10.0.20348.0\\\\shared\" \"-IC:\\Program Files (x86)\\Windows Kits\\10\\\\include\\10.0.20348.0\\\\winrt\" \"-IC:\\Program Files (x86)\\Windows Kits\\10\\\\include\\10.0.20348.0\\\\cppwinrt\" /EHsc /Tpduckdb_build/extension/icu/./icu-makedate.cpp /Fobuild\\temp.win-amd64-cpython-312\\Release\\duckdb_build/extension/icu/./icu-makedate.obj /wd4244 /wd4267 /wd4200 /wd26451 /wd26495 /D_CRT_SECURE_NO_WARNINGS /utf-8 -DDUCKDB_PYTHON_LIB_NAME=duckdb -DDUCKDB_BUILD_LIBRARY -DWIN32 -DDUCKDB_EXTENSION_PARQUET_LINKED -DDUCKDB_EXTENSION_ICU_LINKED -DDUCKDB_EXTENSION_FTS_LINKED -DDUCKDB_EXTENSION_TPCH_LINKED -DDUCKDB_EXTENSION_JSON_LINKED -DDUCKDB_EXTENSION_AUTOLOAD_DEFAULT=1 -DDUCKDB_EXTENSION_AUTOINSTALL_DEFAULT=1\n",
            "      icu-makedate.cpp\n",
            "      \"C:\\Program Files\\Microsoft Visual Studio\\2022\\Community\\VC\\Tools\\MSVC\\14.36.32532\\bin\\HostX86\\x64\\cl.exe\" /c /nologo /O2 /W3 /GL /DNDEBUG /MD -Iduckdb_build/src/include -Iduckdb_build/third_party/fmt/include -Iduckdb_build/third_party/fsst -Iduckdb_build/third_party/re2 -Iduckdb_build/third_party/miniz -Iduckdb_build/third_party/utf8proc/include -Iduckdb_build/third_party/utf8proc -Iduckdb_build/third_party/hyperloglog -Iduckdb_build/third_party/fastpforlib -Iduckdb_build/third_party/tdigest -Iduckdb_build/third_party/libpg_query/include -Iduckdb_build/third_party/libpg_query -Iduckdb_build/third_party/concurrentqueue -Iduckdb_build/third_party/pcg -Iduckdb_build/third_party/httplib -Iduckdb_build/third_party/fast_float -Iduckdb_build/third_party/mbedtls -Iduckdb_build/third_party/mbedtls/include -Iduckdb_build/third_party/mbedtls/library -Iduckdb_build/third_party/jaro_winkler -Iduckdb_build/third_party/jaro_winkler/details -Iduckdb_build/extension/parquet/include -Iduckdb_build/third_party/parquet -Iduckdb_build/third_party/snappy -Iduckdb_build/third_party/thrift -Iduckdb_build/third_party/zstd/include -Iduckdb_build/extension/icu/include -Iduckdb_build/extension/icu/third_party/icu/common -Iduckdb_build/extension/icu/third_party/icu/i18n -Iduckdb_build/extension/fts/include -Iduckdb_build/third_party/snowball/libstemmer -Iduckdb_build/third_party/snowball/runtime -Iduckdb_build/third_party/snowball/src_c -Iduckdb_build/extension/tpch/include -Iduckdb_build/extension/tpch/dbgen/include -Iduckdb_build/extension/tpcds/include -Iduckdb_build/extension/tpcds/dsdgen/include -Iduckdb_build/extension/tpcds/dsdgen/include/dsdgen-c -Iduckdb_build/extension/json/include -Iduckdb_build/extension/json/yyjson/include -Iduckdb_build/extension/jemalloc/include -Iduckdb_build/extension/jemalloc/jemalloc/include -Iduckdb_build -IE:\\Development\\VSCode\\VSCode-win32-x64-1.85.1\\data\\tmp\\pip-install-kvm49whl\\duckdb_66870ca60f534608bc310c98b75db617\\src\\include -IE:\\Development\\VSCode\\VSCode-win32-x64-1.85.1\\data\\tmp\\pip-build-env-wsmxan2c\\normal\\Lib\\site-packages\\pybind11\\include -IE:\\Development\\VSCode\\VSCode-win32-x64-1.85.1\\data\\tmp\\pip-build-env-wsmxan2c\\normal\\Lib\\site-packages\\pybind11\\include \"-IC:\\Program Files\\WindowsApps\\PythonSoftwareFoundation.Python.3.12_3.12.752.0_x64__qbz5n2kfra8p0\\include\" \"-IC:\\Program Files\\WindowsApps\\PythonSoftwareFoundation.Python.3.12_3.12.752.0_x64__qbz5n2kfra8p0\\Include\" \"-IC:\\Program Files\\Microsoft Visual Studio\\2022\\Community\\VC\\Tools\\MSVC\\14.36.32532\\include\" \"-IC:\\Program Files\\Microsoft Visual Studio\\2022\\Community\\VC\\Auxiliary\\VS\\include\" \"-IC:\\Program Files (x86)\\Windows Kits\\10\\include\\10.0.20348.0\\ucrt\" \"-IC:\\Program Files (x86)\\Windows Kits\\10\\\\include\\10.0.20348.0\\\\um\" \"-IC:\\Program Files (x86)\\Windows Kits\\10\\\\include\\10.0.20348.0\\\\shared\" \"-IC:\\Program Files (x86)\\Windows Kits\\10\\\\include\\10.0.20348.0\\\\winrt\" \"-IC:\\Program Files (x86)\\Windows Kits\\10\\\\include\\10.0.20348.0\\\\cppwinrt\" /EHsc /Tpduckdb_build/extension/icu/./icu-strptime.cpp /Fobuild\\temp.win-amd64-cpython-312\\Release\\duckdb_build/extension/icu/./icu-strptime.obj /wd4244 /wd4267 /wd4200 /wd26451 /wd26495 /D_CRT_SECURE_NO_WARNINGS /utf-8 -DDUCKDB_PYTHON_LIB_NAME=duckdb -DDUCKDB_BUILD_LIBRARY -DWIN32 -DDUCKDB_EXTENSION_PARQUET_LINKED -DDUCKDB_EXTENSION_ICU_LINKED -DDUCKDB_EXTENSION_FTS_LINKED -DDUCKDB_EXTENSION_TPCH_LINKED -DDUCKDB_EXTENSION_JSON_LINKED -DDUCKDB_EXTENSION_AUTOLOAD_DEFAULT=1 -DDUCKDB_EXTENSION_AUTOINSTALL_DEFAULT=1\n",
            "      icu-strptime.cpp\n",
            "      \"C:\\Program Files\\Microsoft Visual Studio\\2022\\Community\\VC\\Tools\\MSVC\\14.36.32532\\bin\\HostX86\\x64\\cl.exe\" /c /nologo /O2 /W3 /GL /DNDEBUG /MD -Iduckdb_build/src/include -Iduckdb_build/third_party/fmt/include -Iduckdb_build/third_party/fsst -Iduckdb_build/third_party/re2 -Iduckdb_build/third_party/miniz -Iduckdb_build/third_party/utf8proc/include -Iduckdb_build/third_party/utf8proc -Iduckdb_build/third_party/hyperloglog -Iduckdb_build/third_party/fastpforlib -Iduckdb_build/third_party/tdigest -Iduckdb_build/third_party/libpg_query/include -Iduckdb_build/third_party/libpg_query -Iduckdb_build/third_party/concurrentqueue -Iduckdb_build/third_party/pcg -Iduckdb_build/third_party/httplib -Iduckdb_build/third_party/fast_float -Iduckdb_build/third_party/mbedtls -Iduckdb_build/third_party/mbedtls/include -Iduckdb_build/third_party/mbedtls/library -Iduckdb_build/third_party/jaro_winkler -Iduckdb_build/third_party/jaro_winkler/details -Iduckdb_build/extension/parquet/include -Iduckdb_build/third_party/parquet -Iduckdb_build/third_party/snappy -Iduckdb_build/third_party/thrift -Iduckdb_build/third_party/zstd/include -Iduckdb_build/extension/icu/include -Iduckdb_build/extension/icu/third_party/icu/common -Iduckdb_build/extension/icu/third_party/icu/i18n -Iduckdb_build/extension/fts/include -Iduckdb_build/third_party/snowball/libstemmer -Iduckdb_build/third_party/snowball/runtime -Iduckdb_build/third_party/snowball/src_c -Iduckdb_build/extension/tpch/include -Iduckdb_build/extension/tpch/dbgen/include -Iduckdb_build/extension/tpcds/include -Iduckdb_build/extension/tpcds/dsdgen/include -Iduckdb_build/extension/tpcds/dsdgen/include/dsdgen-c -Iduckdb_build/extension/json/include -Iduckdb_build/extension/json/yyjson/include -Iduckdb_build/extension/jemalloc/include -Iduckdb_build/extension/jemalloc/jemalloc/include -Iduckdb_build -IE:\\Development\\VSCode\\VSCode-win32-x64-1.85.1\\data\\tmp\\pip-install-kvm49whl\\duckdb_66870ca60f534608bc310c98b75db617\\src\\include -IE:\\Development\\VSCode\\VSCode-win32-x64-1.85.1\\data\\tmp\\pip-build-env-wsmxan2c\\normal\\Lib\\site-packages\\pybind11\\include -IE:\\Development\\VSCode\\VSCode-win32-x64-1.85.1\\data\\tmp\\pip-build-env-wsmxan2c\\normal\\Lib\\site-packages\\pybind11\\include \"-IC:\\Program Files\\WindowsApps\\PythonSoftwareFoundation.Python.3.12_3.12.752.0_x64__qbz5n2kfra8p0\\include\" \"-IC:\\Program Files\\WindowsApps\\PythonSoftwareFoundation.Python.3.12_3.12.752.0_x64__qbz5n2kfra8p0\\Include\" \"-IC:\\Program Files\\Microsoft Visual Studio\\2022\\Community\\VC\\Tools\\MSVC\\14.36.32532\\include\" \"-IC:\\Program Files\\Microsoft Visual Studio\\2022\\Community\\VC\\Auxiliary\\VS\\include\" \"-IC:\\Program Files (x86)\\Windows Kits\\10\\include\\10.0.20348.0\\ucrt\" \"-IC:\\Program Files (x86)\\Windows Kits\\10\\\\include\\10.0.20348.0\\\\um\" \"-IC:\\Program Files (x86)\\Windows Kits\\10\\\\include\\10.0.20348.0\\\\shared\" \"-IC:\\Program Files (x86)\\Windows Kits\\10\\\\include\\10.0.20348.0\\\\winrt\" \"-IC:\\Program Files (x86)\\Windows Kits\\10\\\\include\\10.0.20348.0\\\\cppwinrt\" /EHsc /Tpduckdb_build/extension/icu/./icu-table-range.cpp /Fobuild\\temp.win-amd64-cpython-312\\Release\\duckdb_build/extension/icu/./icu-table-range.obj /wd4244 /wd4267 /wd4200 /wd26451 /wd26495 /D_CRT_SECURE_NO_WARNINGS /utf-8 -DDUCKDB_PYTHON_LIB_NAME=duckdb -DDUCKDB_BUILD_LIBRARY -DWIN32 -DDUCKDB_EXTENSION_PARQUET_LINKED -DDUCKDB_EXTENSION_ICU_LINKED -DDUCKDB_EXTENSION_FTS_LINKED -DDUCKDB_EXTENSION_TPCH_LINKED -DDUCKDB_EXTENSION_JSON_LINKED -DDUCKDB_EXTENSION_AUTOLOAD_DEFAULT=1 -DDUCKDB_EXTENSION_AUTOINSTALL_DEFAULT=1\n",
            "      icu-table-range.cpp\n",
            "      \"C:\\Program Files\\Microsoft Visual Studio\\2022\\Community\\VC\\Tools\\MSVC\\14.36.32532\\bin\\HostX86\\x64\\cl.exe\" /c /nologo /O2 /W3 /GL /DNDEBUG /MD -Iduckdb_build/src/include -Iduckdb_build/third_party/fmt/include -Iduckdb_build/third_party/fsst -Iduckdb_build/third_party/re2 -Iduckdb_build/third_party/miniz -Iduckdb_build/third_party/utf8proc/include -Iduckdb_build/third_party/utf8proc -Iduckdb_build/third_party/hyperloglog -Iduckdb_build/third_party/fastpforlib -Iduckdb_build/third_party/tdigest -Iduckdb_build/third_party/libpg_query/include -Iduckdb_build/third_party/libpg_query -Iduckdb_build/third_party/concurrentqueue -Iduckdb_build/third_party/pcg -Iduckdb_build/third_party/httplib -Iduckdb_build/third_party/fast_float -Iduckdb_build/third_party/mbedtls -Iduckdb_build/third_party/mbedtls/include -Iduckdb_build/third_party/mbedtls/library -Iduckdb_build/third_party/jaro_winkler -Iduckdb_build/third_party/jaro_winkler/details -Iduckdb_build/extension/parquet/include -Iduckdb_build/third_party/parquet -Iduckdb_build/third_party/snappy -Iduckdb_build/third_party/thrift -Iduckdb_build/third_party/zstd/include -Iduckdb_build/extension/icu/include -Iduckdb_build/extension/icu/third_party/icu/common -Iduckdb_build/extension/icu/third_party/icu/i18n -Iduckdb_build/extension/fts/include -Iduckdb_build/third_party/snowball/libstemmer -Iduckdb_build/third_party/snowball/runtime -Iduckdb_build/third_party/snowball/src_c -Iduckdb_build/extension/tpch/include -Iduckdb_build/extension/tpch/dbgen/include -Iduckdb_build/extension/tpcds/include -Iduckdb_build/extension/tpcds/dsdgen/include -Iduckdb_build/extension/tpcds/dsdgen/include/dsdgen-c -Iduckdb_build/extension/json/include -Iduckdb_build/extension/json/yyjson/include -Iduckdb_build/extension/jemalloc/include -Iduckdb_build/extension/jemalloc/jemalloc/include -Iduckdb_build -IE:\\Development\\VSCode\\VSCode-win32-x64-1.85.1\\data\\tmp\\pip-install-kvm49whl\\duckdb_66870ca60f534608bc310c98b75db617\\src\\include -IE:\\Development\\VSCode\\VSCode-win32-x64-1.85.1\\data\\tmp\\pip-build-env-wsmxan2c\\normal\\Lib\\site-packages\\pybind11\\include -IE:\\Development\\VSCode\\VSCode-win32-x64-1.85.1\\data\\tmp\\pip-build-env-wsmxan2c\\normal\\Lib\\site-packages\\pybind11\\include \"-IC:\\Program Files\\WindowsApps\\PythonSoftwareFoundation.Python.3.12_3.12.752.0_x64__qbz5n2kfra8p0\\include\" \"-IC:\\Program Files\\WindowsApps\\PythonSoftwareFoundation.Python.3.12_3.12.752.0_x64__qbz5n2kfra8p0\\Include\" \"-IC:\\Program Files\\Microsoft Visual Studio\\2022\\Community\\VC\\Tools\\MSVC\\14.36.32532\\include\" \"-IC:\\Program Files\\Microsoft Visual Studio\\2022\\Community\\VC\\Auxiliary\\VS\\include\" \"-IC:\\Program Files (x86)\\Windows Kits\\10\\include\\10.0.20348.0\\ucrt\" \"-IC:\\Program Files (x86)\\Windows Kits\\10\\\\include\\10.0.20348.0\\\\um\" \"-IC:\\Program Files (x86)\\Windows Kits\\10\\\\include\\10.0.20348.0\\\\shared\" \"-IC:\\Program Files (x86)\\Windows Kits\\10\\\\include\\10.0.20348.0\\\\winrt\" \"-IC:\\Program Files (x86)\\Windows Kits\\10\\\\include\\10.0.20348.0\\\\cppwinrt\" /EHsc /Tpduckdb_build/extension/icu/./icu-timebucket.cpp /Fobuild\\temp.win-amd64-cpython-312\\Release\\duckdb_build/extension/icu/./icu-timebucket.obj /wd4244 /wd4267 /wd4200 /wd26451 /wd26495 /D_CRT_SECURE_NO_WARNINGS /utf-8 -DDUCKDB_PYTHON_LIB_NAME=duckdb -DDUCKDB_BUILD_LIBRARY -DWIN32 -DDUCKDB_EXTENSION_PARQUET_LINKED -DDUCKDB_EXTENSION_ICU_LINKED -DDUCKDB_EXTENSION_FTS_LINKED -DDUCKDB_EXTENSION_TPCH_LINKED -DDUCKDB_EXTENSION_JSON_LINKED -DDUCKDB_EXTENSION_AUTOLOAD_DEFAULT=1 -DDUCKDB_EXTENSION_AUTOINSTALL_DEFAULT=1\n",
            "      icu-timebucket.cpp\n",
            "      \"C:\\Program Files\\Microsoft Visual Studio\\2022\\Community\\VC\\Tools\\MSVC\\14.36.32532\\bin\\HostX86\\x64\\cl.exe\" /c /nologo /O2 /W3 /GL /DNDEBUG /MD -Iduckdb_build/src/include -Iduckdb_build/third_party/fmt/include -Iduckdb_build/third_party/fsst -Iduckdb_build/third_party/re2 -Iduckdb_build/third_party/miniz -Iduckdb_build/third_party/utf8proc/include -Iduckdb_build/third_party/utf8proc -Iduckdb_build/third_party/hyperloglog -Iduckdb_build/third_party/fastpforlib -Iduckdb_build/third_party/tdigest -Iduckdb_build/third_party/libpg_query/include -Iduckdb_build/third_party/libpg_query -Iduckdb_build/third_party/concurrentqueue -Iduckdb_build/third_party/pcg -Iduckdb_build/third_party/httplib -Iduckdb_build/third_party/fast_float -Iduckdb_build/third_party/mbedtls -Iduckdb_build/third_party/mbedtls/include -Iduckdb_build/third_party/mbedtls/library -Iduckdb_build/third_party/jaro_winkler -Iduckdb_build/third_party/jaro_winkler/details -Iduckdb_build/extension/parquet/include -Iduckdb_build/third_party/parquet -Iduckdb_build/third_party/snappy -Iduckdb_build/third_party/thrift -Iduckdb_build/third_party/zstd/include -Iduckdb_build/extension/icu/include -Iduckdb_build/extension/icu/third_party/icu/common -Iduckdb_build/extension/icu/third_party/icu/i18n -Iduckdb_build/extension/fts/include -Iduckdb_build/third_party/snowball/libstemmer -Iduckdb_build/third_party/snowball/runtime -Iduckdb_build/third_party/snowball/src_c -Iduckdb_build/extension/tpch/include -Iduckdb_build/extension/tpch/dbgen/include -Iduckdb_build/extension/tpcds/include -Iduckdb_build/extension/tpcds/dsdgen/include -Iduckdb_build/extension/tpcds/dsdgen/include/dsdgen-c -Iduckdb_build/extension/json/include -Iduckdb_build/extension/json/yyjson/include -Iduckdb_build/extension/jemalloc/include -Iduckdb_build/extension/jemalloc/jemalloc/include -Iduckdb_build -IE:\\Development\\VSCode\\VSCode-win32-x64-1.85.1\\data\\tmp\\pip-install-kvm49whl\\duckdb_66870ca60f534608bc310c98b75db617\\src\\include -IE:\\Development\\VSCode\\VSCode-win32-x64-1.85.1\\data\\tmp\\pip-build-env-wsmxan2c\\normal\\Lib\\site-packages\\pybind11\\include -IE:\\Development\\VSCode\\VSCode-win32-x64-1.85.1\\data\\tmp\\pip-build-env-wsmxan2c\\normal\\Lib\\site-packages\\pybind11\\include \"-IC:\\Program Files\\WindowsApps\\PythonSoftwareFoundation.Python.3.12_3.12.752.0_x64__qbz5n2kfra8p0\\include\" \"-IC:\\Program Files\\WindowsApps\\PythonSoftwareFoundation.Python.3.12_3.12.752.0_x64__qbz5n2kfra8p0\\Include\" \"-IC:\\Program Files\\Microsoft Visual Studio\\2022\\Community\\VC\\Tools\\MSVC\\14.36.32532\\include\" \"-IC:\\Program Files\\Microsoft Visual Studio\\2022\\Community\\VC\\Auxiliary\\VS\\include\" \"-IC:\\Program Files (x86)\\Windows Kits\\10\\include\\10.0.20348.0\\ucrt\" \"-IC:\\Program Files (x86)\\Windows Kits\\10\\\\include\\10.0.20348.0\\\\um\" \"-IC:\\Program Files (x86)\\Windows Kits\\10\\\\include\\10.0.20348.0\\\\shared\" \"-IC:\\Program Files (x86)\\Windows Kits\\10\\\\include\\10.0.20348.0\\\\winrt\" \"-IC:\\Program Files (x86)\\Windows Kits\\10\\\\include\\10.0.20348.0\\\\cppwinrt\" /EHsc /Tpduckdb_build/extension/icu/./icu-timezone.cpp /Fobuild\\temp.win-amd64-cpython-312\\Release\\duckdb_build/extension/icu/./icu-timezone.obj /wd4244 /wd4267 /wd4200 /wd26451 /wd26495 /D_CRT_SECURE_NO_WARNINGS /utf-8 -DDUCKDB_PYTHON_LIB_NAME=duckdb -DDUCKDB_BUILD_LIBRARY -DWIN32 -DDUCKDB_EXTENSION_PARQUET_LINKED -DDUCKDB_EXTENSION_ICU_LINKED -DDUCKDB_EXTENSION_FTS_LINKED -DDUCKDB_EXTENSION_TPCH_LINKED -DDUCKDB_EXTENSION_JSON_LINKED -DDUCKDB_EXTENSION_AUTOLOAD_DEFAULT=1 -DDUCKDB_EXTENSION_AUTOINSTALL_DEFAULT=1\n",
            "      icu-timezone.cpp\n",
            "      \"C:\\Program Files\\Microsoft Visual Studio\\2022\\Community\\VC\\Tools\\MSVC\\14.36.32532\\bin\\HostX86\\x64\\cl.exe\" /c /nologo /O2 /W3 /GL /DNDEBUG /MD -Iduckdb_build/src/include -Iduckdb_build/third_party/fmt/include -Iduckdb_build/third_party/fsst -Iduckdb_build/third_party/re2 -Iduckdb_build/third_party/miniz -Iduckdb_build/third_party/utf8proc/include -Iduckdb_build/third_party/utf8proc -Iduckdb_build/third_party/hyperloglog -Iduckdb_build/third_party/fastpforlib -Iduckdb_build/third_party/tdigest -Iduckdb_build/third_party/libpg_query/include -Iduckdb_build/third_party/libpg_query -Iduckdb_build/third_party/concurrentqueue -Iduckdb_build/third_party/pcg -Iduckdb_build/third_party/httplib -Iduckdb_build/third_party/fast_float -Iduckdb_build/third_party/mbedtls -Iduckdb_build/third_party/mbedtls/include -Iduckdb_build/third_party/mbedtls/library -Iduckdb_build/third_party/jaro_winkler -Iduckdb_build/third_party/jaro_winkler/details -Iduckdb_build/extension/parquet/include -Iduckdb_build/third_party/parquet -Iduckdb_build/third_party/snappy -Iduckdb_build/third_party/thrift -Iduckdb_build/third_party/zstd/include -Iduckdb_build/extension/icu/include -Iduckdb_build/extension/icu/third_party/icu/common -Iduckdb_build/extension/icu/third_party/icu/i18n -Iduckdb_build/extension/fts/include -Iduckdb_build/third_party/snowball/libstemmer -Iduckdb_build/third_party/snowball/runtime -Iduckdb_build/third_party/snowball/src_c -Iduckdb_build/extension/tpch/include -Iduckdb_build/extension/tpch/dbgen/include -Iduckdb_build/extension/tpcds/include -Iduckdb_build/extension/tpcds/dsdgen/include -Iduckdb_build/extension/tpcds/dsdgen/include/dsdgen-c -Iduckdb_build/extension/json/include -Iduckdb_build/extension/json/yyjson/include -Iduckdb_build/extension/jemalloc/include -Iduckdb_build/extension/jemalloc/jemalloc/include -Iduckdb_build -IE:\\Development\\VSCode\\VSCode-win32-x64-1.85.1\\data\\tmp\\pip-install-kvm49whl\\duckdb_66870ca60f534608bc310c98b75db617\\src\\include -IE:\\Development\\VSCode\\VSCode-win32-x64-1.85.1\\data\\tmp\\pip-build-env-wsmxan2c\\normal\\Lib\\site-packages\\pybind11\\include -IE:\\Development\\VSCode\\VSCode-win32-x64-1.85.1\\data\\tmp\\pip-build-env-wsmxan2c\\normal\\Lib\\site-packages\\pybind11\\include \"-IC:\\Program Files\\WindowsApps\\PythonSoftwareFoundation.Python.3.12_3.12.752.0_x64__qbz5n2kfra8p0\\include\" \"-IC:\\Program Files\\WindowsApps\\PythonSoftwareFoundation.Python.3.12_3.12.752.0_x64__qbz5n2kfra8p0\\Include\" \"-IC:\\Program Files\\Microsoft Visual Studio\\2022\\Community\\VC\\Tools\\MSVC\\14.36.32532\\include\" \"-IC:\\Program Files\\Microsoft Visual Studio\\2022\\Community\\VC\\Auxiliary\\VS\\include\" \"-IC:\\Program Files (x86)\\Windows Kits\\10\\include\\10.0.20348.0\\ucrt\" \"-IC:\\Program Files (x86)\\Windows Kits\\10\\\\include\\10.0.20348.0\\\\um\" \"-IC:\\Program Files (x86)\\Windows Kits\\10\\\\include\\10.0.20348.0\\\\shared\" \"-IC:\\Program Files (x86)\\Windows Kits\\10\\\\include\\10.0.20348.0\\\\winrt\" \"-IC:\\Program Files (x86)\\Windows Kits\\10\\\\include\\10.0.20348.0\\\\cppwinrt\" /EHsc /Tpduckdb_build/extension/icu/./icu_extension.cpp /Fobuild\\temp.win-amd64-cpython-312\\Release\\duckdb_build/extension/icu/./icu_extension.obj /wd4244 /wd4267 /wd4200 /wd26451 /wd26495 /D_CRT_SECURE_NO_WARNINGS /utf-8 -DDUCKDB_PYTHON_LIB_NAME=duckdb -DDUCKDB_BUILD_LIBRARY -DWIN32 -DDUCKDB_EXTENSION_PARQUET_LINKED -DDUCKDB_EXTENSION_ICU_LINKED -DDUCKDB_EXTENSION_FTS_LINKED -DDUCKDB_EXTENSION_TPCH_LINKED -DDUCKDB_EXTENSION_JSON_LINKED -DDUCKDB_EXTENSION_AUTOLOAD_DEFAULT=1 -DDUCKDB_EXTENSION_AUTOINSTALL_DEFAULT=1\n",
            "      icu_extension.cpp\n",
            "      \"C:\\Program Files\\Microsoft Visual Studio\\2022\\Community\\VC\\Tools\\MSVC\\14.36.32532\\bin\\HostX86\\x64\\cl.exe\" /c /nologo /O2 /W3 /GL /DNDEBUG /MD -Iduckdb_build/src/include -Iduckdb_build/third_party/fmt/include -Iduckdb_build/third_party/fsst -Iduckdb_build/third_party/re2 -Iduckdb_build/third_party/miniz -Iduckdb_build/third_party/utf8proc/include -Iduckdb_build/third_party/utf8proc -Iduckdb_build/third_party/hyperloglog -Iduckdb_build/third_party/fastpforlib -Iduckdb_build/third_party/tdigest -Iduckdb_build/third_party/libpg_query/include -Iduckdb_build/third_party/libpg_query -Iduckdb_build/third_party/concurrentqueue -Iduckdb_build/third_party/pcg -Iduckdb_build/third_party/httplib -Iduckdb_build/third_party/fast_float -Iduckdb_build/third_party/mbedtls -Iduckdb_build/third_party/mbedtls/include -Iduckdb_build/third_party/mbedtls/library -Iduckdb_build/third_party/jaro_winkler -Iduckdb_build/third_party/jaro_winkler/details -Iduckdb_build/extension/parquet/include -Iduckdb_build/third_party/parquet -Iduckdb_build/third_party/snappy -Iduckdb_build/third_party/thrift -Iduckdb_build/third_party/zstd/include -Iduckdb_build/extension/icu/include -Iduckdb_build/extension/icu/third_party/icu/common -Iduckdb_build/extension/icu/third_party/icu/i18n -Iduckdb_build/extension/fts/include -Iduckdb_build/third_party/snowball/libstemmer -Iduckdb_build/third_party/snowball/runtime -Iduckdb_build/third_party/snowball/src_c -Iduckdb_build/extension/tpch/include -Iduckdb_build/extension/tpch/dbgen/include -Iduckdb_build/extension/tpcds/include -Iduckdb_build/extension/tpcds/dsdgen/include -Iduckdb_build/extension/tpcds/dsdgen/include/dsdgen-c -Iduckdb_build/extension/json/include -Iduckdb_build/extension/json/yyjson/include -Iduckdb_build/extension/jemalloc/include -Iduckdb_build/extension/jemalloc/jemalloc/include -Iduckdb_build -IE:\\Development\\VSCode\\VSCode-win32-x64-1.85.1\\data\\tmp\\pip-install-kvm49whl\\duckdb_66870ca60f534608bc310c98b75db617\\src\\include -IE:\\Development\\VSCode\\VSCode-win32-x64-1.85.1\\data\\tmp\\pip-build-env-wsmxan2c\\normal\\Lib\\site-packages\\pybind11\\include -IE:\\Development\\VSCode\\VSCode-win32-x64-1.85.1\\data\\tmp\\pip-build-env-wsmxan2c\\normal\\Lib\\site-packages\\pybind11\\include \"-IC:\\Program Files\\WindowsApps\\PythonSoftwareFoundation.Python.3.12_3.12.752.0_x64__qbz5n2kfra8p0\\include\" \"-IC:\\Program Files\\WindowsApps\\PythonSoftwareFoundation.Python.3.12_3.12.752.0_x64__qbz5n2kfra8p0\\Include\" \"-IC:\\Program Files\\Microsoft Visual Studio\\2022\\Community\\VC\\Tools\\MSVC\\14.36.32532\\include\" \"-IC:\\Program Files\\Microsoft Visual Studio\\2022\\Community\\VC\\Auxiliary\\VS\\include\" \"-IC:\\Program Files (x86)\\Windows Kits\\10\\include\\10.0.20348.0\\ucrt\" \"-IC:\\Program Files (x86)\\Windows Kits\\10\\\\include\\10.0.20348.0\\\\um\" \"-IC:\\Program Files (x86)\\Windows Kits\\10\\\\include\\10.0.20348.0\\\\shared\" \"-IC:\\Program Files (x86)\\Windows Kits\\10\\\\include\\10.0.20348.0\\\\winrt\" \"-IC:\\Program Files (x86)\\Windows Kits\\10\\\\include\\10.0.20348.0\\\\cppwinrt\" /EHsc /Tpduckdb_build/extension/icu/third_party/icu/stubdata/stubdata.cpp /Fobuild\\temp.win-amd64-cpython-312\\Release\\duckdb_build/extension/icu/third_party/icu/stubdata/stubdata.obj /wd4244 /wd4267 /wd4200 /wd26451 /wd26495 /D_CRT_SECURE_NO_WARNINGS /utf-8 -DDUCKDB_PYTHON_LIB_NAME=duckdb -DDUCKDB_BUILD_LIBRARY -DWIN32 -DDUCKDB_EXTENSION_PARQUET_LINKED -DDUCKDB_EXTENSION_ICU_LINKED -DDUCKDB_EXTENSION_FTS_LINKED -DDUCKDB_EXTENSION_TPCH_LINKED -DDUCKDB_EXTENSION_JSON_LINKED -DDUCKDB_EXTENSION_AUTOLOAD_DEFAULT=1 -DDUCKDB_EXTENSION_AUTOINSTALL_DEFAULT=1\n",
            "      stubdata.cpp\n",
            "      \"C:\\Program Files\\Microsoft Visual Studio\\2022\\Community\\VC\\Tools\\MSVC\\14.36.32532\\bin\\HostX86\\x64\\cl.exe\" /c /nologo /O2 /W3 /GL /DNDEBUG /MD -Iduckdb_build/src/include -Iduckdb_build/third_party/fmt/include -Iduckdb_build/third_party/fsst -Iduckdb_build/third_party/re2 -Iduckdb_build/third_party/miniz -Iduckdb_build/third_party/utf8proc/include -Iduckdb_build/third_party/utf8proc -Iduckdb_build/third_party/hyperloglog -Iduckdb_build/third_party/fastpforlib -Iduckdb_build/third_party/tdigest -Iduckdb_build/third_party/libpg_query/include -Iduckdb_build/third_party/libpg_query -Iduckdb_build/third_party/concurrentqueue -Iduckdb_build/third_party/pcg -Iduckdb_build/third_party/httplib -Iduckdb_build/third_party/fast_float -Iduckdb_build/third_party/mbedtls -Iduckdb_build/third_party/mbedtls/include -Iduckdb_build/third_party/mbedtls/library -Iduckdb_build/third_party/jaro_winkler -Iduckdb_build/third_party/jaro_winkler/details -Iduckdb_build/extension/parquet/include -Iduckdb_build/third_party/parquet -Iduckdb_build/third_party/snappy -Iduckdb_build/third_party/thrift -Iduckdb_build/third_party/zstd/include -Iduckdb_build/extension/icu/include -Iduckdb_build/extension/icu/third_party/icu/common -Iduckdb_build/extension/icu/third_party/icu/i18n -Iduckdb_build/extension/fts/include -Iduckdb_build/third_party/snowball/libstemmer -Iduckdb_build/third_party/snowball/runtime -Iduckdb_build/third_party/snowball/src_c -Iduckdb_build/extension/tpch/include -Iduckdb_build/extension/tpch/dbgen/include -Iduckdb_build/extension/tpcds/include -Iduckdb_build/extension/tpcds/dsdgen/include -Iduckdb_build/extension/tpcds/dsdgen/include/dsdgen-c -Iduckdb_build/extension/json/include -Iduckdb_build/extension/json/yyjson/include -Iduckdb_build/extension/jemalloc/include -Iduckdb_build/extension/jemalloc/jemalloc/include -Iduckdb_build -IE:\\Development\\VSCode\\VSCode-win32-x64-1.85.1\\data\\tmp\\pip-install-kvm49whl\\duckdb_66870ca60f534608bc310c98b75db617\\src\\include -IE:\\Development\\VSCode\\VSCode-win32-x64-1.85.1\\data\\tmp\\pip-build-env-wsmxan2c\\normal\\Lib\\site-packages\\pybind11\\include -IE:\\Development\\VSCode\\VSCode-win32-x64-1.85.1\\data\\tmp\\pip-build-env-wsmxan2c\\normal\\Lib\\site-packages\\pybind11\\include \"-IC:\\Program Files\\WindowsApps\\PythonSoftwareFoundation.Python.3.12_3.12.752.0_x64__qbz5n2kfra8p0\\include\" \"-IC:\\Program Files\\WindowsApps\\PythonSoftwareFoundation.Python.3.12_3.12.752.0_x64__qbz5n2kfra8p0\\Include\" \"-IC:\\Program Files\\Microsoft Visual Studio\\2022\\Community\\VC\\Tools\\MSVC\\14.36.32532\\include\" \"-IC:\\Program Files\\Microsoft Visual Studio\\2022\\Community\\VC\\Auxiliary\\VS\\include\" \"-IC:\\Program Files (x86)\\Windows Kits\\10\\include\\10.0.20348.0\\ucrt\" \"-IC:\\Program Files (x86)\\Windows Kits\\10\\\\include\\10.0.20348.0\\\\um\" \"-IC:\\Program Files (x86)\\Windows Kits\\10\\\\include\\10.0.20348.0\\\\shared\" \"-IC:\\Program Files (x86)\\Windows Kits\\10\\\\include\\10.0.20348.0\\\\winrt\" \"-IC:\\Program Files (x86)\\Windows Kits\\10\\\\include\\10.0.20348.0\\\\cppwinrt\" /EHsc /Tpduckdb_build/extension/jemalloc/jemalloc/src/arena.cpp /Fobuild\\temp.win-amd64-cpython-312\\Release\\duckdb_build/extension/jemalloc/jemalloc/src/arena.obj /wd4244 /wd4267 /wd4200 /wd26451 /wd26495 /D_CRT_SECURE_NO_WARNINGS /utf-8 -DDUCKDB_PYTHON_LIB_NAME=duckdb -DDUCKDB_BUILD_LIBRARY -DWIN32 -DDUCKDB_EXTENSION_PARQUET_LINKED -DDUCKDB_EXTENSION_ICU_LINKED -DDUCKDB_EXTENSION_FTS_LINKED -DDUCKDB_EXTENSION_TPCH_LINKED -DDUCKDB_EXTENSION_JSON_LINKED -DDUCKDB_EXTENSION_AUTOLOAD_DEFAULT=1 -DDUCKDB_EXTENSION_AUTOINSTALL_DEFAULT=1\n",
            "      arena.cpp\n",
            "      duckdb_build/extension/jemalloc/jemalloc/include\\jemalloc/jemalloc.h(267): error C2485: '__restrict': unrecognized extended attribute\n",
            "      duckdb_build/extension/jemalloc/jemalloc/include\\jemalloc/jemalloc.h(269): error C2485: '__restrict': unrecognized extended attribute\n",
            "      duckdb_build/extension/jemalloc/jemalloc/include\\jemalloc/jemalloc.h(273): error C2485: '__restrict': unrecognized extended attribute\n",
            "      duckdb_build/extension/jemalloc/jemalloc/include\\jemalloc/jemalloc.h(275): error C2485: '__restrict': unrecognized extended attribute\n",
            "      duckdb_build/extension/jemalloc/jemalloc/include\\jemalloc/jemalloc.h(279): error C2485: '__restrict': unrecognized extended attribute\n",
            "      duckdb_build/extension/jemalloc/jemalloc/include\\jemalloc/jemalloc.h(281): error C2485: '__restrict': unrecognized extended attribute\n",
            "      duckdb_build/extension/jemalloc/jemalloc/include\\jemalloc/internal/jemalloc_internal_macros.h(36): warning C4005: 'restrict': macro redefinition\n",
            "      duckdb_build/extension/jemalloc/jemalloc/include\\jemalloc/internal/jemalloc_internal_decls.h(87): note: see previous definition of 'restrict'\n",
            "      error: command 'C:\\\\Program Files\\\\Microsoft Visual Studio\\\\2022\\\\Community\\\\VC\\\\Tools\\\\MSVC\\\\14.36.32532\\\\bin\\\\HostX86\\\\x64\\\\cl.exe' failed with exit code 2\n",
            "      [end of output]\n",
            "  \n",
            "  note: This error originates from a subprocess, and is likely not a problem with pip.\n",
            "  ERROR: Failed building wheel for duckdb\n",
            "ERROR: Could not build wheels for duckdb, which is required to install pyproject.toml-based projects\n"
          ]
        }
      ],
      "source": [
        "#Install the dependencies\n",
        "!pip install dlt[duckdb]"
      ]
    },
    {
      "cell_type": "markdown",
      "metadata": {
        "id": "qnnnMZxtPXpm"
      },
      "source": [
        "### Q1"
      ]
    },
    {
      "cell_type": "code",
      "execution_count": 8,
      "metadata": {
        "colab": {
          "base_uri": "https://localhost:8080/"
        },
        "id": "a2-PRBAkGC2K",
        "outputId": "18bb1f92-924c-4b5f-e7af-25c6ce38fea8"
      },
      "outputs": [
        {
          "name": "stdout",
          "output_type": "stream",
          "text": [
            "8.382332347441762\n"
          ]
        }
      ],
      "source": [
        "\n",
        "limit = 5\n",
        "generator = square_root_generator(limit)\n",
        "\n",
        "value=0\n",
        "\n",
        "for sqrt_value in generator:\n",
        "    value+=sqrt_value\n",
        "\n",
        "print(value)"
      ]
    },
    {
      "cell_type": "markdown",
      "metadata": {
        "id": "4cPepsHQP9Dy"
      },
      "source": [
        "> Answer: 8.382"
      ]
    },
    {
      "cell_type": "markdown",
      "metadata": {
        "id": "s4feAiqFQAlG"
      },
      "source": [
        "### Q2"
      ]
    },
    {
      "cell_type": "code",
      "execution_count": 9,
      "metadata": {
        "colab": {
          "base_uri": "https://localhost:8080/"
        },
        "id": "_0fDQhY9QCak",
        "outputId": "e3da4836-7f36-4229-9980-e4609924f3f5"
      },
      "outputs": [
        {
          "data": {
            "text/plain": [
              "3.605551275463989"
            ]
          },
          "execution_count": 9,
          "metadata": {},
          "output_type": "execute_result"
        }
      ],
      "source": [
        "limit = 13\n",
        "generator = square_root_generator(limit)\n",
        "\n",
        "value=[]\n",
        "\n",
        "for sqrt_value in generator:\n",
        "     value.append(sqrt_value)\n",
        "\n",
        "value[12]"
      ]
    },
    {
      "cell_type": "markdown",
      "metadata": {
        "id": "DlackMNLQbXt"
      },
      "source": [
        "> Answer: 3.605"
      ]
    },
    {
      "cell_type": "markdown",
      "metadata": {
        "id": "B88EF0PbRSfn"
      },
      "source": [
        "### Q3"
      ]
    },
    {
      "cell_type": "markdown",
      "metadata": {
        "id": "8qmQ5s7-ZsFc"
      },
      "source": [
        "#### Create pipeline"
      ]
    },
    {
      "cell_type": "code",
      "execution_count": 10,
      "metadata": {
        "colab": {
          "base_uri": "https://localhost:8080/"
        },
        "id": "XRKZ35_ZRUjN",
        "outputId": "c68ab409-0131-4cc2-f323-c4113b0a950f"
      },
      "outputs": [
        {
          "data": {
            "text/plain": [
              "<dlt.pipeline.pipeline.Pipeline at 0x1d61b834b90>"
            ]
          },
          "execution_count": 10,
          "metadata": {},
          "output_type": "execute_result"
        }
      ],
      "source": [
        "import dlt\n",
        "\n",
        "gen_pipeline=dlt.pipeline(destination='duckdb',dataset_name='gen_one')\n",
        "\n",
        "gen_pipeline"
      ]
    },
    {
      "cell_type": "markdown",
      "metadata": {
        "id": "a2-EZ-izZvtH"
      },
      "source": [
        "#### First generator load"
      ]
    },
    {
      "cell_type": "code",
      "execution_count": 11,
      "metadata": {
        "colab": {
          "base_uri": "https://localhost:8080/"
        },
        "id": "2fqK6catXVLu",
        "outputId": "b9bacda1-5fe7-428f-8de5-57bfb5e6bc9d"
      },
      "outputs": [
        {
          "data": {
            "text/plain": [
              "LoadInfo(pipeline=<dlt.pipeline.pipeline.Pipeline object at 0x000001D61B834B90>, metrics={'1707460853.349079': [{'started_at': DateTime(2024, 2, 9, 6, 40, 53, 776597, tzinfo=Timezone('UTC')), 'finished_at': DateTime(2024, 2, 9, 6, 40, 54, 209358, tzinfo=Timezone('UTC'))}]}, destination_type='dlt.destinations.duckdb', destination_displayable_credentials='duckdb:///e:\\\\Development\\\\Git_Repos\\\\DEZ-2024-Homeworks\\\\Workshop_1\\\\dlt_ipykernel_launcher.duckdb', destination_name='duckdb', environment=None, staging_type=None, staging_name=None, staging_displayable_credentials=None, destination_fingerprint='', dataset_name='gen_one', loads_ids=['1707460853.349079'], load_packages=[LoadPackageInfo(load_id='1707460853.349079', package_path='C:\\\\Users\\\\saifk\\\\.dlt\\\\pipelines\\\\dlt_ipykernel_launcher\\\\load\\\\loaded\\\\1707460853.349079', state='loaded', schema=Schema dlt_ipykernel_launcher at 2019102905344, schema_update={'people': {'name': 'people', 'columns': {'id': {'name': 'id', 'data_type': 'bigint', 'nullable': True}, 'name': {'name': 'name', 'data_type': 'text', 'nullable': True}, 'age': {'name': 'age', 'data_type': 'bigint', 'nullable': True}, 'city': {'name': 'city', 'data_type': 'text', 'nullable': True}, '_dlt_load_id': {'name': '_dlt_load_id', 'data_type': 'text', 'nullable': False}, '_dlt_id': {'name': '_dlt_id', 'data_type': 'text', 'nullable': False, 'unique': True}}, 'write_disposition': 'replace', 'resource': 'people', 'table_format': None}, '_dlt_loads': {'name': '_dlt_loads', 'columns': {'load_id': {'name': 'load_id', 'data_type': 'text', 'nullable': False}, 'schema_name': {'name': 'schema_name', 'data_type': 'text', 'nullable': True}, 'status': {'name': 'status', 'data_type': 'bigint', 'nullable': False}, 'inserted_at': {'name': 'inserted_at', 'data_type': 'timestamp', 'nullable': False}, 'schema_version_hash': {'name': 'schema_version_hash', 'data_type': 'text', 'nullable': True}}, 'write_disposition': 'skip', 'resource': '_dlt_loads', 'description': 'Created by DLT. Tracks completed loads', 'table_format': None}, '_dlt_version': {'name': '_dlt_version', 'columns': {'version': {'name': 'version', 'data_type': 'bigint', 'nullable': False}, 'engine_version': {'name': 'engine_version', 'data_type': 'bigint', 'nullable': False}, 'inserted_at': {'name': 'inserted_at', 'data_type': 'timestamp', 'nullable': False}, 'schema_name': {'name': 'schema_name', 'data_type': 'text', 'nullable': False}, 'version_hash': {'name': 'version_hash', 'data_type': 'text', 'nullable': False}, 'schema': {'name': 'schema', 'data_type': 'text', 'nullable': False}}, 'write_disposition': 'skip', 'resource': '_dlt_version', 'description': 'Created by DLT. Tracks schema updates', 'table_format': None}, '_dlt_pipeline_state': {'columns': {'version': {'name': 'version', 'data_type': 'bigint', 'nullable': False}, 'engine_version': {'name': 'engine_version', 'data_type': 'bigint', 'nullable': False}, 'pipeline_name': {'name': 'pipeline_name', 'data_type': 'text', 'nullable': False}, 'state': {'name': 'state', 'data_type': 'text', 'nullable': False}, 'created_at': {'name': 'created_at', 'data_type': 'timestamp', 'nullable': False}, 'version_hash': {'name': 'version_hash', 'data_type': 'text', 'nullable': True}, '_dlt_load_id': {'name': '_dlt_load_id', 'data_type': 'text', 'nullable': False}, '_dlt_id': {'name': '_dlt_id', 'data_type': 'text', 'nullable': False, 'unique': True}}, 'write_disposition': 'append', 'name': '_dlt_pipeline_state', 'resource': '_dlt_pipeline_state', 'table_format': None}}, completed_at=DateTime(2024, 2, 9, 6, 40, 54, 191530, tzinfo=Timezone('UTC')), jobs={'started_jobs': [], 'failed_jobs': [], 'new_jobs': [], 'completed_jobs': [LoadJobInfo(state='completed_jobs', file_path='C:\\\\Users\\\\saifk\\\\.dlt\\\\pipelines\\\\dlt_ipykernel_launcher\\\\load\\\\loaded\\\\1707460853.349079\\\\completed_jobs\\\\people.082ace5c5d.0.insert_values', file_size=285, created_at=DateTime(2024, 2, 9, 6, 40, 53, 434681, tzinfo=Timezone('UTC')), elapsed=0.7568488121032715, job_file_info=ParsedLoadJobFileName(table_name='people', file_id='082ace5c5d', retry_count=0, file_format='insert_values'), failed_message=None), LoadJobInfo(state='completed_jobs', file_path='C:\\\\Users\\\\saifk\\\\.dlt\\\\pipelines\\\\dlt_ipykernel_launcher\\\\load\\\\loaded\\\\1707460853.349079\\\\completed_jobs\\\\_dlt_pipeline_state.70a891b42b.0.insert_values', file_size=532, created_at=DateTime(2024, 2, 9, 6, 40, 53, 433681, tzinfo=Timezone('UTC')), elapsed=0.7578487396240234, job_file_info=ParsedLoadJobFileName(table_name='_dlt_pipeline_state', file_id='70a891b42b', retry_count=0, file_format='insert_values'), failed_message=None)]})], first_run=True)"
            ]
          },
          "execution_count": 11,
          "metadata": {},
          "output_type": "execute_result"
        }
      ],
      "source": [
        "info=gen_pipeline.run(\n",
        "    people_1(),\n",
        "    table_name='people',\n",
        "    write_disposition='replace'\n",
        ")\n",
        "\n",
        "info"
      ]
    },
    {
      "cell_type": "markdown",
      "metadata": {
        "id": "o-PFI9WqZ7sv"
      },
      "source": [
        "#### Checking data after first generator load"
      ]
    },
    {
      "cell_type": "code",
      "execution_count": 12,
      "metadata": {
        "colab": {
          "base_uri": "https://localhost:8080/",
          "height": 617
        },
        "id": "CiQj9JzZXVGR",
        "outputId": "3b8d7236-fcc6-41dc-a6bd-f4ca3d058195"
      },
      "outputs": [
        {
          "name": "stdout",
          "output_type": "stream",
          "text": [
            "Loaded tables: \n"
          ]
        },
        {
          "data": {
            "text/plain": [
              "┌─────────────────────┐\n",
              "│        name         │\n",
              "│       varchar       │\n",
              "├─────────────────────┤\n",
              "│ _dlt_loads          │\n",
              "│ _dlt_pipeline_state │\n",
              "│ _dlt_version        │\n",
              "│ people              │\n",
              "└─────────────────────┘"
            ]
          },
          "metadata": {},
          "output_type": "display_data"
        },
        {
          "name": "stdout",
          "output_type": "stream",
          "text": [
            "\n",
            "\n",
            "\n",
            " All data:\n"
          ]
        },
        {
          "data": {
            "text/plain": [
              "┌───────┬──────────┬───────┬─────────┬───────────────────┬────────────────┐\n",
              "│  id   │   name   │  age  │  city   │   _dlt_load_id    │    _dlt_id     │\n",
              "│ int64 │ varchar  │ int64 │ varchar │      varchar      │    varchar     │\n",
              "├───────┼──────────┼───────┼─────────┼───────────────────┼────────────────┤\n",
              "│     1 │ Person_1 │    26 │ City_A  │ 1707460853.349079 │ 4X3zkoE+mtPNxg │\n",
              "│     2 │ Person_2 │    27 │ City_A  │ 1707460853.349079 │ acew6cUl+YESDg │\n",
              "│     3 │ Person_3 │    28 │ City_A  │ 1707460853.349079 │ 0Sa386wztERX/w │\n",
              "│     4 │ Person_4 │    29 │ City_A  │ 1707460853.349079 │ o0urT/SSjWzqiA │\n",
              "│     5 │ Person_5 │    30 │ City_A  │ 1707460853.349079 │ yrFH/6/7mtgU/Q │\n",
              "└───────┴──────────┴───────┴─────────┴───────────────────┴────────────────┘"
            ]
          },
          "metadata": {},
          "output_type": "display_data"
        },
        {
          "name": "stdout",
          "output_type": "stream",
          "text": [
            "\n",
            "\n",
            "\n",
            " Cumulative age of all people:\n"
          ]
        },
        {
          "data": {
            "text/plain": [
              "┌────────────────┐\n",
              "│ cumulative_age │\n",
              "│     int128     │\n",
              "├────────────────┤\n",
              "│            140 │\n",
              "└────────────────┘"
            ]
          },
          "metadata": {},
          "output_type": "display_data"
        }
      ],
      "source": [
        "import duckdb\n",
        "\n",
        "conn = duckdb.connect(f\"{gen_pipeline.pipeline_name}.duckdb\")\n",
        "\n",
        "conn.sql(f\"SET search_path = '{gen_pipeline.dataset_name}'\")\n",
        "print('Loaded tables: ')\n",
        "display(conn.sql(\"show tables\"))\n",
        "\n",
        "print('\\n\\n\\n All data:')\n",
        "display(conn.sql(\"select * from people\"))\n",
        "\n",
        "\n",
        "print('\\n\\n\\n Cumulative age of all people:')\n",
        "display(conn.sql(\"select sum(age) cumulative_age from people\"))"
      ]
    },
    {
      "cell_type": "markdown",
      "metadata": {
        "id": "WvLLwfYRaBzk"
      },
      "source": [
        "### Second generator load and append"
      ]
    },
    {
      "cell_type": "code",
      "execution_count": 13,
      "metadata": {
        "colab": {
          "base_uri": "https://localhost:8080/"
        },
        "id": "bZ6Tm13yXU-c",
        "outputId": "832cb09f-feea-4663-b57c-5ddf36e7ff54"
      },
      "outputs": [
        {
          "data": {
            "text/plain": [
              "LoadInfo(pipeline=<dlt.pipeline.pipeline.Pipeline object at 0x000001D61B834B90>, metrics={'1707460857.7760403': [{'started_at': DateTime(2024, 2, 9, 6, 40, 58, 193595, tzinfo=Timezone('UTC')), 'finished_at': DateTime(2024, 2, 9, 6, 40, 58, 502407, tzinfo=Timezone('UTC'))}]}, destination_type='dlt.destinations.duckdb', destination_displayable_credentials='duckdb:///e:\\\\Development\\\\Git_Repos\\\\DEZ-2024-Homeworks\\\\Workshop_1\\\\dlt_ipykernel_launcher.duckdb', destination_name='duckdb', environment=None, staging_type=None, staging_name=None, staging_displayable_credentials=None, destination_fingerprint='', dataset_name='gen_one', loads_ids=['1707460857.7760403'], load_packages=[LoadPackageInfo(load_id='1707460857.7760403', package_path='C:\\\\Users\\\\saifk\\\\.dlt\\\\pipelines\\\\dlt_ipykernel_launcher\\\\load\\\\loaded\\\\1707460857.7760403', state='loaded', schema=Schema dlt_ipykernel_launcher at 2019103323920, schema_update={'people': {'name': 'people', 'columns': {'occupation': {'name': 'occupation', 'data_type': 'text', 'nullable': True}}, 'write_disposition': 'append', 'resource': 'people', 'table_format': None}}, completed_at=DateTime(2024, 2, 9, 6, 40, 58, 485922, tzinfo=Timezone('UTC')), jobs={'started_jobs': [], 'failed_jobs': [], 'new_jobs': [], 'completed_jobs': [LoadJobInfo(state='completed_jobs', file_path='C:\\\\Users\\\\saifk\\\\.dlt\\\\pipelines\\\\dlt_ipykernel_launcher\\\\load\\\\loaded\\\\1707460857.7760403\\\\completed_jobs\\\\people.d25e5326e4.0.insert_values', file_size=326, created_at=DateTime(2024, 2, 9, 6, 40, 57, 838618, tzinfo=Timezone('UTC')), elapsed=0.6473038196563721, job_file_info=ParsedLoadJobFileName(table_name='people', file_id='d25e5326e4', retry_count=0, file_format='insert_values'), failed_message=None)]})], first_run=False)"
            ]
          },
          "execution_count": 13,
          "metadata": {},
          "output_type": "execute_result"
        }
      ],
      "source": [
        "info2=gen_pipeline.run(\n",
        "    people_2(),\n",
        "    table_name='people',\n",
        "    write_disposition='append'\n",
        ")\n",
        "\n",
        "info2"
      ]
    },
    {
      "cell_type": "markdown",
      "metadata": {
        "id": "6NHyQi92awUF"
      },
      "source": [
        "#### Checking data after loading secodn generator"
      ]
    },
    {
      "cell_type": "code",
      "execution_count": 14,
      "metadata": {
        "colab": {
          "base_uri": "https://localhost:8080/",
          "height": 581
        },
        "id": "qHn3CmWya0ww",
        "outputId": "4a81b0a0-510f-4961-b6f1-aa836f579bf9"
      },
      "outputs": [
        {
          "name": "stdout",
          "output_type": "stream",
          "text": [
            "\n",
            "\n",
            "\n",
            " All data:\n"
          ]
        },
        {
          "data": {
            "text/plain": [
              "┌───────┬──────────┬───────┬─────────┬────────────────────┬────────────────┬────────────┐\n",
              "│  id   │   name   │  age  │  city   │    _dlt_load_id    │    _dlt_id     │ occupation │\n",
              "│ int64 │ varchar  │ int64 │ varchar │      varchar       │    varchar     │  varchar   │\n",
              "├───────┼──────────┼───────┼─────────┼────────────────────┼────────────────┼────────────┤\n",
              "│     1 │ Person_1 │    26 │ City_A  │ 1707460853.349079  │ 4X3zkoE+mtPNxg │ NULL       │\n",
              "│     2 │ Person_2 │    27 │ City_A  │ 1707460853.349079  │ acew6cUl+YESDg │ NULL       │\n",
              "│     3 │ Person_3 │    28 │ City_A  │ 1707460853.349079  │ 0Sa386wztERX/w │ NULL       │\n",
              "│     4 │ Person_4 │    29 │ City_A  │ 1707460853.349079  │ o0urT/SSjWzqiA │ NULL       │\n",
              "│     5 │ Person_5 │    30 │ City_A  │ 1707460853.349079  │ yrFH/6/7mtgU/Q │ NULL       │\n",
              "│     3 │ Person_3 │    33 │ City_B  │ 1707460857.7760403 │ aUISf706t84VTw │ Job_3      │\n",
              "│     4 │ Person_4 │    34 │ City_B  │ 1707460857.7760403 │ kT1I1+BFBHUMWw │ Job_4      │\n",
              "│     5 │ Person_5 │    35 │ City_B  │ 1707460857.7760403 │ 8VJ1XzjVHOpLtg │ Job_5      │\n",
              "│     6 │ Person_6 │    36 │ City_B  │ 1707460857.7760403 │ UoJblliObufLDw │ Job_6      │\n",
              "│     7 │ Person_7 │    37 │ City_B  │ 1707460857.7760403 │ tkG3NqUeRcEJkw │ Job_7      │\n",
              "│     8 │ Person_8 │    38 │ City_B  │ 1707460857.7760403 │ F6yz0b+cHSNiuA │ Job_8      │\n",
              "├───────┴──────────┴───────┴─────────┴────────────────────┴────────────────┴────────────┤\n",
              "│ 11 rows                                                                     7 columns │\n",
              "└───────────────────────────────────────────────────────────────────────────────────────┘"
            ]
          },
          "metadata": {},
          "output_type": "display_data"
        },
        {
          "name": "stdout",
          "output_type": "stream",
          "text": [
            "\n",
            "\n",
            "\n",
            " Cumulative age of all people:\n"
          ]
        },
        {
          "data": {
            "text/plain": [
              "┌────────────────┐\n",
              "│ cumulative_age │\n",
              "│     int128     │\n",
              "├────────────────┤\n",
              "│            353 │\n",
              "└────────────────┘"
            ]
          },
          "metadata": {},
          "output_type": "display_data"
        }
      ],
      "source": [
        "print('\\n\\n\\n All data:')\n",
        "display(conn.sql(\"select * from people\"))\n",
        "\n",
        "\n",
        "print('\\n\\n\\n Cumulative age of all people:')\n",
        "display(conn.sql(\"select sum(age) cumulative_age from people\"))"
      ]
    },
    {
      "cell_type": "markdown",
      "metadata": {
        "id": "QifwDaGWa8ll"
      },
      "source": [
        "> Answer: 353"
      ]
    },
    {
      "cell_type": "markdown",
      "metadata": {
        "id": "soRF28IIa-y0"
      },
      "source": [
        "### Q4"
      ]
    },
    {
      "cell_type": "markdown",
      "metadata": {
        "id": "iJh5BEb5brIg"
      },
      "source": [
        "#### Load data from both generator and merge"
      ]
    },
    {
      "cell_type": "code",
      "execution_count": 15,
      "metadata": {
        "colab": {
          "base_uri": "https://localhost:8080/"
        },
        "id": "QyRMIsO5bxYy",
        "outputId": "fb3df70f-75ee-40cc-e166-73d9a57704c8"
      },
      "outputs": [
        {
          "name": "stdout",
          "output_type": "stream",
          "text": [
            "Pipeline dlt_ipykernel_launcher load step completed in 0.31 seconds\n",
            "1 load package(s) were loaded to destination duckdb and into dataset gen_one\n",
            "The duckdb destination used duckdb:///e:\\Development\\Git_Repos\\DEZ-2024-Homeworks\\Workshop_1\\dlt_ipykernel_launcher.duckdb location to store data\n",
            "Load package 1707460862.8530672 is LOADED and contains no failed jobs\n",
            "Pipeline dlt_ipykernel_launcher load step completed in 0.52 seconds\n",
            "1 load package(s) were loaded to destination duckdb and into dataset gen_one\n",
            "The duckdb destination used duckdb:///e:\\Development\\Git_Repos\\DEZ-2024-Homeworks\\Workshop_1\\dlt_ipykernel_launcher.duckdb location to store data\n",
            "Load package 1707460863.6139798 is LOADED and contains no failed jobs\n"
          ]
        }
      ],
      "source": [
        "info3=gen_pipeline.run(\n",
        "    people_1(),\n",
        "    table_name='people_merged',\n",
        "    write_disposition='replace',\n",
        "    primary_key='id'\n",
        ")\n",
        "\n",
        "print(info3)\n",
        "\n",
        "info4=gen_pipeline.run(\n",
        "    people_2(),\n",
        "    table_name='people_merged',\n",
        "    write_disposition='merge',\n",
        "    primary_key='id'\n",
        ")\n",
        "\n",
        "print(info4)\n"
      ]
    },
    {
      "cell_type": "markdown",
      "metadata": {
        "id": "9W1KiFv6cPbX"
      },
      "source": [
        "#### Check the tables"
      ]
    },
    {
      "cell_type": "code",
      "execution_count": 16,
      "metadata": {
        "colab": {
          "base_uri": "https://localhost:8080/",
          "height": 493
        },
        "id": "sKogOe9mcZCP",
        "outputId": "8ff88808-7abb-4cb7-b941-ccea05e2573b"
      },
      "outputs": [
        {
          "name": "stdout",
          "output_type": "stream",
          "text": [
            "\n",
            "\n",
            "\n",
            " All data:\n"
          ]
        },
        {
          "data": {
            "text/plain": [
              "┌───────┬──────────┬───────┬─────────┬────────────────────┬────────────────┬────────────┐\n",
              "│  id   │   name   │  age  │  city   │    _dlt_load_id    │    _dlt_id     │ occupation │\n",
              "│ int64 │ varchar  │ int64 │ varchar │      varchar       │    varchar     │  varchar   │\n",
              "├───────┼──────────┼───────┼─────────┼────────────────────┼────────────────┼────────────┤\n",
              "│     1 │ Person_1 │    26 │ City_A  │ 1707460862.8530672 │ PtCzrGhnFOuVww │ NULL       │\n",
              "│     2 │ Person_2 │    27 │ City_A  │ 1707460862.8530672 │ vyreobiAyG6Y5w │ NULL       │\n",
              "│     7 │ Person_7 │    37 │ City_B  │ 1707460863.6139798 │ DbVOpibnpv5sOA │ Job_7      │\n",
              "│     4 │ Person_4 │    34 │ City_B  │ 1707460863.6139798 │ kbfKPTBK9YVIbA │ Job_4      │\n",
              "│     8 │ Person_8 │    38 │ City_B  │ 1707460863.6139798 │ 7PL1kWSfF1vgUA │ Job_8      │\n",
              "│     3 │ Person_3 │    33 │ City_B  │ 1707460863.6139798 │ PO5xPzupqULKiQ │ Job_3      │\n",
              "│     6 │ Person_6 │    36 │ City_B  │ 1707460863.6139798 │ nP5ZVLstlXHGlw │ Job_6      │\n",
              "│     5 │ Person_5 │    35 │ City_B  │ 1707460863.6139798 │ 5QC0FGcJWpghaA │ Job_5      │\n",
              "└───────┴──────────┴───────┴─────────┴────────────────────┴────────────────┴────────────┘"
            ]
          },
          "metadata": {},
          "output_type": "display_data"
        },
        {
          "name": "stdout",
          "output_type": "stream",
          "text": [
            "\n",
            "\n",
            "\n",
            " Cumulative age of all people:\n"
          ]
        },
        {
          "data": {
            "text/plain": [
              "┌────────────────┐\n",
              "│ cumulative_age │\n",
              "│     int128     │\n",
              "├────────────────┤\n",
              "│            266 │\n",
              "└────────────────┘"
            ]
          },
          "metadata": {},
          "output_type": "display_data"
        }
      ],
      "source": [
        "print('\\n\\n\\n All data:')\n",
        "display(conn.sql(\"select * from people_merged\"))\n",
        "\n",
        "\n",
        "print('\\n\\n\\n Cumulative age of all people:')\n",
        "display(conn.sql(\"select sum(age) cumulative_age from people_merged\"))"
      ]
    },
    {
      "cell_type": "markdown",
      "metadata": {
        "id": "42RfudjScuxm"
      },
      "source": [
        "> Answer: 266"
      ]
    },
    {
      "cell_type": "code",
      "execution_count": null,
      "metadata": {
        "id": "-4cNQgI9cwP8"
      },
      "outputs": [],
      "source": []
    }
  ],
  "metadata": {
    "colab": {
      "provenance": []
    },
    "kernelspec": {
      "display_name": "Python 3",
      "name": "python3"
    },
    "language_info": {
      "codemirror_mode": {
        "name": "ipython",
        "version": 3
      },
      "file_extension": ".py",
      "mimetype": "text/x-python",
      "name": "python",
      "nbconvert_exporter": "python",
      "pygments_lexer": "ipython3",
      "version": "3.12.2"
    }
  },
  "nbformat": 4,
  "nbformat_minor": 0
}

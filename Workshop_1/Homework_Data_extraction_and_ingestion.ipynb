{
  "cells": [
    {
      "cell_type": "markdown",
      "metadata": {
        "id": "mrTFv5nPClXh"
      },
      "source": [
        "# **Homework**: Data talks club data engineering zoomcamp Data loading workshop\n",
        "\n",
        "Hello folks, let's practice what we learned - Loading data with the best practices of data engineering.\n",
        "\n",
        "Here are the exercises we will do\n",
        "\n",
        "\n"
      ]
    },
    {
      "cell_type": "markdown",
      "metadata": {
        "id": "wLF4iXf-NR7t"
      },
      "source": [
        "# 1. Use a generator\n",
        "\n",
        "Remember the concept of generator? Let's practice using them to futher our understanding of how they work.\n",
        "\n",
        "Let's define a generator and then run it as practice.\n",
        "\n",
        "**Answer the following questions:**\n",
        "\n",
        "- **Question 1: What is the sum of the outputs of the generator for limit = 5?**\n",
        "- **Question 2: What is the 13th number yielded**\n",
        "\n",
        "I suggest practicing these questions without GPT as the purpose is to further your learning."
      ]
    },
    {
      "cell_type": "code",
      "execution_count": 2,
      "metadata": {
        "colab": {
          "base_uri": "https://localhost:8080/"
        },
        "id": "wLng-bDJN4jf",
        "outputId": "723ed92d-11b7-449b-b7f1-939553ef4d63"
      },
      "outputs": [
        {
          "name": "stdout",
          "output_type": "stream",
          "text": [
            "1.0\n",
            "1.4142135623730951\n",
            "1.7320508075688772\n",
            "2.0\n",
            "2.23606797749979\n"
          ]
        }
      ],
      "source": [
        "def square_root_generator(limit):\n",
        "    n = 1\n",
        "    while n <= limit:\n",
        "        yield n ** 0.5\n",
        "        n += 1\n",
        "\n",
        "# Example usage:\n",
        "limit = 5\n",
        "generator = square_root_generator(limit)\n",
        "\n",
        "for sqrt_value in generator:\n",
        "    print(sqrt_value)\n"
      ]
    },
    {
      "cell_type": "markdown",
      "metadata": {
        "id": "xbe3q55zN43j"
      },
      "source": []
    },
    {
      "cell_type": "markdown",
      "metadata": {
        "id": "vjWhILzGJMpK"
      },
      "source": [
        "# 2. Append a generator to a table with existing data\n",
        "\n",
        "\n",
        "Below you have 2 generators. You will be tasked to load them to duckdb and answer some questions from the data\n",
        "\n",
        "1. Load the first generator and calculate the sum of ages of all people. Make sure to only load it once.\n",
        "2. Append the second generator to the same table as the first.\n",
        "3. **After correctly appending the data, calculate the sum of all ages of people.**\n",
        "\n",
        "\n"
      ]
    },
    {
      "cell_type": "code",
      "execution_count": 3,
      "metadata": {
        "colab": {
          "base_uri": "https://localhost:8080/"
        },
        "id": "2MoaQcdLBEk6",
        "outputId": "ca63b084-4767-4025-8491-d5068fec0b63"
      },
      "outputs": [
        {
          "name": "stdout",
          "output_type": "stream",
          "text": [
            "{'ID': 1, 'Name': 'Person_1', 'Age': 26, 'City': 'City_A'}\n",
            "{'ID': 2, 'Name': 'Person_2', 'Age': 27, 'City': 'City_A'}\n",
            "{'ID': 3, 'Name': 'Person_3', 'Age': 28, 'City': 'City_A'}\n",
            "{'ID': 4, 'Name': 'Person_4', 'Age': 29, 'City': 'City_A'}\n",
            "{'ID': 5, 'Name': 'Person_5', 'Age': 30, 'City': 'City_A'}\n",
            "{'ID': 3, 'Name': 'Person_3', 'Age': 33, 'City': 'City_B', 'Occupation': 'Job_3'}\n",
            "{'ID': 4, 'Name': 'Person_4', 'Age': 34, 'City': 'City_B', 'Occupation': 'Job_4'}\n",
            "{'ID': 5, 'Name': 'Person_5', 'Age': 35, 'City': 'City_B', 'Occupation': 'Job_5'}\n",
            "{'ID': 6, 'Name': 'Person_6', 'Age': 36, 'City': 'City_B', 'Occupation': 'Job_6'}\n",
            "{'ID': 7, 'Name': 'Person_7', 'Age': 37, 'City': 'City_B', 'Occupation': 'Job_7'}\n",
            "{'ID': 8, 'Name': 'Person_8', 'Age': 38, 'City': 'City_B', 'Occupation': 'Job_8'}\n"
          ]
        }
      ],
      "source": [
        "def people_1():\n",
        "    for i in range(1, 6):\n",
        "        yield {\"ID\": i, \"Name\": f\"Person_{i}\", \"Age\": 25 + i, \"City\": \"City_A\"}\n",
        "\n",
        "for person in people_1():\n",
        "    print(person)\n",
        "\n",
        "\n",
        "def people_2():\n",
        "    for i in range(3, 9):\n",
        "        yield {\"ID\": i, \"Name\": f\"Person_{i}\", \"Age\": 30 + i, \"City\": \"City_B\", \"Occupation\": f\"Job_{i}\"}\n",
        "\n",
        "\n",
        "for person in people_2():\n",
        "    print(person)\n"
      ]
    },
    {
      "cell_type": "markdown",
      "metadata": {
        "id": "vtdTIm4fvQCN"
      },
      "source": []
    },
    {
      "cell_type": "markdown",
      "metadata": {
        "id": "pY4cFAWOSwN1"
      },
      "source": [
        "# 3. Merge a generator\n",
        "\n",
        "Re-use the generators from Exercise 2.\n",
        "\n",
        "A table's primary key needs to be created from the start, so load your data to a new table with primary key ID.\n",
        "\n",
        "Load your first generator first, and then load the second one with merge. Since they have overlapping IDs, some of the records from the first load should be replaced by the ones from the second load.\n",
        "\n",
        "After loading, you should have a total of 8 records, and ID 3 should have age 33.\n",
        "\n",
        "Question: **Calculate the sum of ages of all the people loaded as described above.**\n"
      ]
    },
    {
      "cell_type": "markdown",
      "metadata": {
        "id": "kKB2GTB9oVjr"
      },
      "source": [
        "# Solution: First make sure that the following modules are installed:"
      ]
    },
    {
      "cell_type": "code",
      "execution_count": 19,
      "metadata": {
        "id": "xTVvtyqrfVNq"
      },
      "outputs": [
        {
          "name": "stdout",
          "output_type": "stream",
          "text": [
            "Defaulting to user installation because normal site-packages is not writeable\n",
            "Requirement already satisfied: dlt[duckdb] in c:\\users\\saifk\\appdata\\local\\packages\\pythonsoftwarefoundation.python.3.12_qbz5n2kfra8p0\\localcache\\local-packages\\python312\\site-packages (0.4.3)\n",
            "Requirement already satisfied: PyYAML>=5.4.1 in c:\\users\\saifk\\appdata\\local\\packages\\pythonsoftwarefoundation.python.3.12_qbz5n2kfra8p0\\localcache\\local-packages\\python312\\site-packages (from dlt[duckdb]) (6.0.1)\n",
            "Requirement already satisfied: SQLAlchemy>=1.4.0 in c:\\users\\saifk\\appdata\\local\\packages\\pythonsoftwarefoundation.python.3.12_qbz5n2kfra8p0\\localcache\\local-packages\\python312\\site-packages (from dlt[duckdb]) (2.0.25)\n",
            "Requirement already satisfied: astunparse>=1.6.3 in c:\\users\\saifk\\appdata\\local\\packages\\pythonsoftwarefoundation.python.3.12_qbz5n2kfra8p0\\localcache\\local-packages\\python312\\site-packages (from dlt[duckdb]) (1.6.3)\n",
            "Requirement already satisfied: click>=7.1 in c:\\users\\saifk\\appdata\\local\\packages\\pythonsoftwarefoundation.python.3.12_qbz5n2kfra8p0\\localcache\\local-packages\\python312\\site-packages (from dlt[duckdb]) (8.1.7)\n",
            "Requirement already satisfied: duckdb<0.10.0,>=0.6.1 in c:\\users\\saifk\\appdata\\local\\packages\\pythonsoftwarefoundation.python.3.12_qbz5n2kfra8p0\\localcache\\local-packages\\python312\\site-packages (from dlt[duckdb]) (0.9.3.dev4040)\n",
            "Requirement already satisfied: fsspec>=2022.4.0 in c:\\users\\saifk\\appdata\\local\\packages\\pythonsoftwarefoundation.python.3.12_qbz5n2kfra8p0\\localcache\\local-packages\\python312\\site-packages (from dlt[duckdb]) (2024.2.0)\n",
            "Requirement already satisfied: gitpython>=3.1.29 in c:\\users\\saifk\\appdata\\local\\packages\\pythonsoftwarefoundation.python.3.12_qbz5n2kfra8p0\\localcache\\local-packages\\python312\\site-packages (from dlt[duckdb]) (3.1.41)\n",
            "Requirement already satisfied: giturlparse>=0.10.0 in c:\\users\\saifk\\appdata\\local\\packages\\pythonsoftwarefoundation.python.3.12_qbz5n2kfra8p0\\localcache\\local-packages\\python312\\site-packages (from dlt[duckdb]) (0.12.0)\n",
            "Requirement already satisfied: hexbytes>=0.2.2 in c:\\users\\saifk\\appdata\\local\\packages\\pythonsoftwarefoundation.python.3.12_qbz5n2kfra8p0\\localcache\\local-packages\\python312\\site-packages (from dlt[duckdb]) (1.0.0)\n",
            "Requirement already satisfied: humanize>=4.4.0 in c:\\users\\saifk\\appdata\\local\\packages\\pythonsoftwarefoundation.python.3.12_qbz5n2kfra8p0\\localcache\\local-packages\\python312\\site-packages (from dlt[duckdb]) (4.9.0)\n",
            "Requirement already satisfied: jsonpath-ng>=1.5.3 in c:\\users\\saifk\\appdata\\local\\packages\\pythonsoftwarefoundation.python.3.12_qbz5n2kfra8p0\\localcache\\local-packages\\python312\\site-packages (from dlt[duckdb]) (1.6.1)\n",
            "Requirement already satisfied: makefun>=1.15.0 in c:\\users\\saifk\\appdata\\local\\packages\\pythonsoftwarefoundation.python.3.12_qbz5n2kfra8p0\\localcache\\local-packages\\python312\\site-packages (from dlt[duckdb]) (1.15.2)\n",
            "Requirement already satisfied: orjson>=3.6.7 in c:\\users\\saifk\\appdata\\local\\packages\\pythonsoftwarefoundation.python.3.12_qbz5n2kfra8p0\\localcache\\local-packages\\python312\\site-packages (from dlt[duckdb]) (3.9.13)\n",
            "Requirement already satisfied: packaging>=21.1 in c:\\users\\saifk\\appdata\\local\\packages\\pythonsoftwarefoundation.python.3.12_qbz5n2kfra8p0\\localcache\\local-packages\\python312\\site-packages (from dlt[duckdb]) (23.2)\n",
            "Requirement already satisfied: pathvalidate>=2.5.2 in c:\\users\\saifk\\appdata\\local\\packages\\pythonsoftwarefoundation.python.3.12_qbz5n2kfra8p0\\localcache\\local-packages\\python312\\site-packages (from dlt[duckdb]) (3.2.0)\n",
            "Requirement already satisfied: pendulum>=2.1.2 in c:\\users\\saifk\\appdata\\local\\packages\\pythonsoftwarefoundation.python.3.12_qbz5n2kfra8p0\\localcache\\local-packages\\python312\\site-packages (from dlt[duckdb]) (3.0.0)\n",
            "Requirement already satisfied: pytz>=2022.6 in c:\\users\\saifk\\appdata\\local\\packages\\pythonsoftwarefoundation.python.3.12_qbz5n2kfra8p0\\localcache\\local-packages\\python312\\site-packages (from dlt[duckdb]) (2024.1)\n",
            "Requirement already satisfied: requests>=2.26.0 in c:\\users\\saifk\\appdata\\local\\packages\\pythonsoftwarefoundation.python.3.12_qbz5n2kfra8p0\\localcache\\local-packages\\python312\\site-packages (from dlt[duckdb]) (2.31.0)\n",
            "Requirement already satisfied: requirements-parser>=0.5.0 in c:\\users\\saifk\\appdata\\local\\packages\\pythonsoftwarefoundation.python.3.12_qbz5n2kfra8p0\\localcache\\local-packages\\python312\\site-packages (from dlt[duckdb]) (0.5.0)\n",
            "Requirement already satisfied: semver>=2.13.0 in c:\\users\\saifk\\appdata\\local\\packages\\pythonsoftwarefoundation.python.3.12_qbz5n2kfra8p0\\localcache\\local-packages\\python312\\site-packages (from dlt[duckdb]) (3.0.2)\n",
            "Requirement already satisfied: setuptools>=65.6.0 in c:\\users\\saifk\\appdata\\local\\packages\\pythonsoftwarefoundation.python.3.12_qbz5n2kfra8p0\\localcache\\local-packages\\python312\\site-packages (from dlt[duckdb]) (69.0.3)\n",
            "Requirement already satisfied: simplejson>=3.17.5 in c:\\users\\saifk\\appdata\\local\\packages\\pythonsoftwarefoundation.python.3.12_qbz5n2kfra8p0\\localcache\\local-packages\\python312\\site-packages (from dlt[duckdb]) (3.19.2)\n",
            "Requirement already satisfied: tenacity>=8.0.2 in c:\\users\\saifk\\appdata\\local\\packages\\pythonsoftwarefoundation.python.3.12_qbz5n2kfra8p0\\localcache\\local-packages\\python312\\site-packages (from dlt[duckdb]) (8.2.3)\n",
            "Requirement already satisfied: tomlkit>=0.11.3 in c:\\users\\saifk\\appdata\\local\\packages\\pythonsoftwarefoundation.python.3.12_qbz5n2kfra8p0\\localcache\\local-packages\\python312\\site-packages (from dlt[duckdb]) (0.12.3)\n",
            "Requirement already satisfied: typing-extensions>=4.0.0 in c:\\users\\saifk\\appdata\\local\\packages\\pythonsoftwarefoundation.python.3.12_qbz5n2kfra8p0\\localcache\\local-packages\\python312\\site-packages (from dlt[duckdb]) (4.9.0)\n",
            "Requirement already satisfied: tzdata>=2022.1 in c:\\users\\saifk\\appdata\\local\\packages\\pythonsoftwarefoundation.python.3.12_qbz5n2kfra8p0\\localcache\\local-packages\\python312\\site-packages (from dlt[duckdb]) (2023.4)\n",
            "Requirement already satisfied: win-precise-time>=1.4.2 in c:\\users\\saifk\\appdata\\local\\packages\\pythonsoftwarefoundation.python.3.12_qbz5n2kfra8p0\\localcache\\local-packages\\python312\\site-packages (from dlt[duckdb]) (1.4.2)\n",
            "Requirement already satisfied: wheel<1.0,>=0.23.0 in c:\\users\\saifk\\appdata\\local\\packages\\pythonsoftwarefoundation.python.3.12_qbz5n2kfra8p0\\localcache\\local-packages\\python312\\site-packages (from astunparse>=1.6.3->dlt[duckdb]) (0.42.0)\n",
            "Requirement already satisfied: six<2.0,>=1.6.1 in c:\\users\\saifk\\appdata\\local\\packages\\pythonsoftwarefoundation.python.3.12_qbz5n2kfra8p0\\localcache\\local-packages\\python312\\site-packages (from astunparse>=1.6.3->dlt[duckdb]) (1.16.0)\n",
            "Requirement already satisfied: colorama in c:\\users\\saifk\\appdata\\local\\packages\\pythonsoftwarefoundation.python.3.12_qbz5n2kfra8p0\\localcache\\local-packages\\python312\\site-packages (from click>=7.1->dlt[duckdb]) (0.4.6)\n",
            "Requirement already satisfied: gitdb<5,>=4.0.1 in c:\\users\\saifk\\appdata\\local\\packages\\pythonsoftwarefoundation.python.3.12_qbz5n2kfra8p0\\localcache\\local-packages\\python312\\site-packages (from gitpython>=3.1.29->dlt[duckdb]) (4.0.11)\n",
            "Requirement already satisfied: ply in c:\\users\\saifk\\appdata\\local\\packages\\pythonsoftwarefoundation.python.3.12_qbz5n2kfra8p0\\localcache\\local-packages\\python312\\site-packages (from jsonpath-ng>=1.5.3->dlt[duckdb]) (3.11)\n",
            "Requirement already satisfied: python-dateutil>=2.6 in c:\\users\\saifk\\appdata\\local\\packages\\pythonsoftwarefoundation.python.3.12_qbz5n2kfra8p0\\localcache\\local-packages\\python312\\site-packages (from pendulum>=2.1.2->dlt[duckdb]) (2.8.2)\n",
            "Requirement already satisfied: time-machine>=2.6.0 in c:\\users\\saifk\\appdata\\local\\packages\\pythonsoftwarefoundation.python.3.12_qbz5n2kfra8p0\\localcache\\local-packages\\python312\\site-packages (from pendulum>=2.1.2->dlt[duckdb]) (2.13.0)\n",
            "Requirement already satisfied: charset-normalizer<4,>=2 in c:\\users\\saifk\\appdata\\local\\packages\\pythonsoftwarefoundation.python.3.12_qbz5n2kfra8p0\\localcache\\local-packages\\python312\\site-packages (from requests>=2.26.0->dlt[duckdb]) (3.3.2)\n",
            "Requirement already satisfied: idna<4,>=2.5 in c:\\users\\saifk\\appdata\\local\\packages\\pythonsoftwarefoundation.python.3.12_qbz5n2kfra8p0\\localcache\\local-packages\\python312\\site-packages (from requests>=2.26.0->dlt[duckdb]) (3.6)\n",
            "Requirement already satisfied: urllib3<3,>=1.21.1 in c:\\users\\saifk\\appdata\\local\\packages\\pythonsoftwarefoundation.python.3.12_qbz5n2kfra8p0\\localcache\\local-packages\\python312\\site-packages (from requests>=2.26.0->dlt[duckdb]) (2.2.0)\n",
            "Requirement already satisfied: certifi>=2017.4.17 in c:\\users\\saifk\\appdata\\local\\packages\\pythonsoftwarefoundation.python.3.12_qbz5n2kfra8p0\\localcache\\local-packages\\python312\\site-packages (from requests>=2.26.0->dlt[duckdb]) (2024.2.2)\n",
            "Requirement already satisfied: types-setuptools>=57.0.0 in c:\\users\\saifk\\appdata\\local\\packages\\pythonsoftwarefoundation.python.3.12_qbz5n2kfra8p0\\localcache\\local-packages\\python312\\site-packages (from requirements-parser>=0.5.0->dlt[duckdb]) (69.0.0.20240125)\n",
            "Requirement already satisfied: greenlet!=0.4.17 in c:\\users\\saifk\\appdata\\local\\packages\\pythonsoftwarefoundation.python.3.12_qbz5n2kfra8p0\\localcache\\local-packages\\python312\\site-packages (from SQLAlchemy>=1.4.0->dlt[duckdb]) (3.0.3)\n",
            "Requirement already satisfied: smmap<6,>=3.0.1 in c:\\users\\saifk\\appdata\\local\\packages\\pythonsoftwarefoundation.python.3.12_qbz5n2kfra8p0\\localcache\\local-packages\\python312\\site-packages (from gitdb<5,>=4.0.1->gitpython>=3.1.29->dlt[duckdb]) (5.0.1)\n"
          ]
        }
      ],
      "source": [
        "#Install the dependencies\n",
        "!pip install dlt[duckdb]"
      ]
    },
    {
      "cell_type": "markdown",
      "metadata": {
        "id": "qnnnMZxtPXpm"
      },
      "source": [
        "### Q1"
      ]
    },
    {
      "cell_type": "code",
      "execution_count": 8,
      "metadata": {
        "colab": {
          "base_uri": "https://localhost:8080/"
        },
        "id": "a2-PRBAkGC2K",
        "outputId": "18bb1f92-924c-4b5f-e7af-25c6ce38fea8"
      },
      "outputs": [
        {
          "name": "stdout",
          "output_type": "stream",
          "text": [
            "8.382332347441762\n"
          ]
        }
      ],
      "source": [
        "\n",
        "limit = 5\n",
        "generator = square_root_generator(limit)\n",
        "\n",
        "value=0\n",
        "\n",
        "for sqrt_value in generator:\n",
        "    value+=sqrt_value\n",
        "\n",
        "print(value)"
      ]
    },
    {
      "cell_type": "markdown",
      "metadata": {
        "id": "4cPepsHQP9Dy"
      },
      "source": [
        "> Answer: 8.382"
      ]
    },
    {
      "cell_type": "markdown",
      "metadata": {
        "id": "s4feAiqFQAlG"
      },
      "source": [
        "### Q2"
      ]
    },
    {
      "cell_type": "code",
      "execution_count": 9,
      "metadata": {
        "colab": {
          "base_uri": "https://localhost:8080/"
        },
        "id": "_0fDQhY9QCak",
        "outputId": "e3da4836-7f36-4229-9980-e4609924f3f5"
      },
      "outputs": [
        {
          "data": {
            "text/plain": [
              "3.605551275463989"
            ]
          },
          "execution_count": 9,
          "metadata": {},
          "output_type": "execute_result"
        }
      ],
      "source": [
        "limit = 13\n",
        "generator = square_root_generator(limit)\n",
        "\n",
        "value=[]\n",
        "\n",
        "for sqrt_value in generator:\n",
        "     value.append(sqrt_value)\n",
        "\n",
        "value[12]"
      ]
    },
    {
      "cell_type": "markdown",
      "metadata": {
        "id": "DlackMNLQbXt"
      },
      "source": [
        "> Answer: 3.605"
      ]
    },
    {
      "cell_type": "markdown",
      "metadata": {
        "id": "B88EF0PbRSfn"
      },
      "source": [
        "### Q3"
      ]
    },
    {
      "cell_type": "markdown",
      "metadata": {
        "id": "8qmQ5s7-ZsFc"
      },
      "source": [
        "#### Create pipeline"
      ]
    },
    {
      "cell_type": "code",
      "execution_count": 10,
      "metadata": {
        "colab": {
          "base_uri": "https://localhost:8080/"
        },
        "id": "XRKZ35_ZRUjN",
        "outputId": "c68ab409-0131-4cc2-f323-c4113b0a950f"
      },
      "outputs": [
        {
          "data": {
            "text/plain": [
              "<dlt.pipeline.pipeline.Pipeline at 0x1d61b834b90>"
            ]
          },
          "execution_count": 10,
          "metadata": {},
          "output_type": "execute_result"
        }
      ],
      "source": [
        "import dlt\n",
        "\n",
        "gen_pipeline=dlt.pipeline(destination='duckdb',dataset_name='gen_one')\n",
        "\n",
        "gen_pipeline"
      ]
    },
    {
      "cell_type": "markdown",
      "metadata": {
        "id": "a2-EZ-izZvtH"
      },
      "source": [
        "#### First generator load"
      ]
    },
    {
      "cell_type": "code",
      "execution_count": 11,
      "metadata": {
        "colab": {
          "base_uri": "https://localhost:8080/"
        },
        "id": "2fqK6catXVLu",
        "outputId": "b9bacda1-5fe7-428f-8de5-57bfb5e6bc9d"
      },
      "outputs": [
        {
          "data": {
            "text/plain": [
              "LoadInfo(pipeline=<dlt.pipeline.pipeline.Pipeline object at 0x000001D61B834B90>, metrics={'1707460853.349079': [{'started_at': DateTime(2024, 2, 9, 6, 40, 53, 776597, tzinfo=Timezone('UTC')), 'finished_at': DateTime(2024, 2, 9, 6, 40, 54, 209358, tzinfo=Timezone('UTC'))}]}, destination_type='dlt.destinations.duckdb', destination_displayable_credentials='duckdb:///e:\\\\Development\\\\Git_Repos\\\\DEZ-2024-Homeworks\\\\Workshop_1\\\\dlt_ipykernel_launcher.duckdb', destination_name='duckdb', environment=None, staging_type=None, staging_name=None, staging_displayable_credentials=None, destination_fingerprint='', dataset_name='gen_one', loads_ids=['1707460853.349079'], load_packages=[LoadPackageInfo(load_id='1707460853.349079', package_path='C:\\\\Users\\\\saifk\\\\.dlt\\\\pipelines\\\\dlt_ipykernel_launcher\\\\load\\\\loaded\\\\1707460853.349079', state='loaded', schema=Schema dlt_ipykernel_launcher at 2019102905344, schema_update={'people': {'name': 'people', 'columns': {'id': {'name': 'id', 'data_type': 'bigint', 'nullable': True}, 'name': {'name': 'name', 'data_type': 'text', 'nullable': True}, 'age': {'name': 'age', 'data_type': 'bigint', 'nullable': True}, 'city': {'name': 'city', 'data_type': 'text', 'nullable': True}, '_dlt_load_id': {'name': '_dlt_load_id', 'data_type': 'text', 'nullable': False}, '_dlt_id': {'name': '_dlt_id', 'data_type': 'text', 'nullable': False, 'unique': True}}, 'write_disposition': 'replace', 'resource': 'people', 'table_format': None}, '_dlt_loads': {'name': '_dlt_loads', 'columns': {'load_id': {'name': 'load_id', 'data_type': 'text', 'nullable': False}, 'schema_name': {'name': 'schema_name', 'data_type': 'text', 'nullable': True}, 'status': {'name': 'status', 'data_type': 'bigint', 'nullable': False}, 'inserted_at': {'name': 'inserted_at', 'data_type': 'timestamp', 'nullable': False}, 'schema_version_hash': {'name': 'schema_version_hash', 'data_type': 'text', 'nullable': True}}, 'write_disposition': 'skip', 'resource': '_dlt_loads', 'description': 'Created by DLT. Tracks completed loads', 'table_format': None}, '_dlt_version': {'name': '_dlt_version', 'columns': {'version': {'name': 'version', 'data_type': 'bigint', 'nullable': False}, 'engine_version': {'name': 'engine_version', 'data_type': 'bigint', 'nullable': False}, 'inserted_at': {'name': 'inserted_at', 'data_type': 'timestamp', 'nullable': False}, 'schema_name': {'name': 'schema_name', 'data_type': 'text', 'nullable': False}, 'version_hash': {'name': 'version_hash', 'data_type': 'text', 'nullable': False}, 'schema': {'name': 'schema', 'data_type': 'text', 'nullable': False}}, 'write_disposition': 'skip', 'resource': '_dlt_version', 'description': 'Created by DLT. Tracks schema updates', 'table_format': None}, '_dlt_pipeline_state': {'columns': {'version': {'name': 'version', 'data_type': 'bigint', 'nullable': False}, 'engine_version': {'name': 'engine_version', 'data_type': 'bigint', 'nullable': False}, 'pipeline_name': {'name': 'pipeline_name', 'data_type': 'text', 'nullable': False}, 'state': {'name': 'state', 'data_type': 'text', 'nullable': False}, 'created_at': {'name': 'created_at', 'data_type': 'timestamp', 'nullable': False}, 'version_hash': {'name': 'version_hash', 'data_type': 'text', 'nullable': True}, '_dlt_load_id': {'name': '_dlt_load_id', 'data_type': 'text', 'nullable': False}, '_dlt_id': {'name': '_dlt_id', 'data_type': 'text', 'nullable': False, 'unique': True}}, 'write_disposition': 'append', 'name': '_dlt_pipeline_state', 'resource': '_dlt_pipeline_state', 'table_format': None}}, completed_at=DateTime(2024, 2, 9, 6, 40, 54, 191530, tzinfo=Timezone('UTC')), jobs={'started_jobs': [], 'failed_jobs': [], 'new_jobs': [], 'completed_jobs': [LoadJobInfo(state='completed_jobs', file_path='C:\\\\Users\\\\saifk\\\\.dlt\\\\pipelines\\\\dlt_ipykernel_launcher\\\\load\\\\loaded\\\\1707460853.349079\\\\completed_jobs\\\\people.082ace5c5d.0.insert_values', file_size=285, created_at=DateTime(2024, 2, 9, 6, 40, 53, 434681, tzinfo=Timezone('UTC')), elapsed=0.7568488121032715, job_file_info=ParsedLoadJobFileName(table_name='people', file_id='082ace5c5d', retry_count=0, file_format='insert_values'), failed_message=None), LoadJobInfo(state='completed_jobs', file_path='C:\\\\Users\\\\saifk\\\\.dlt\\\\pipelines\\\\dlt_ipykernel_launcher\\\\load\\\\loaded\\\\1707460853.349079\\\\completed_jobs\\\\_dlt_pipeline_state.70a891b42b.0.insert_values', file_size=532, created_at=DateTime(2024, 2, 9, 6, 40, 53, 433681, tzinfo=Timezone('UTC')), elapsed=0.7578487396240234, job_file_info=ParsedLoadJobFileName(table_name='_dlt_pipeline_state', file_id='70a891b42b', retry_count=0, file_format='insert_values'), failed_message=None)]})], first_run=True)"
            ]
          },
          "execution_count": 11,
          "metadata": {},
          "output_type": "execute_result"
        }
      ],
      "source": [
        "info=gen_pipeline.run(\n",
        "    people_1(),\n",
        "    table_name='people',\n",
        "    write_disposition='replace'\n",
        ")\n",
        "\n",
        "info"
      ]
    },
    {
      "cell_type": "markdown",
      "metadata": {
        "id": "o-PFI9WqZ7sv"
      },
      "source": [
        "#### Checking data after first generator load"
      ]
    },
    {
      "cell_type": "code",
      "execution_count": 12,
      "metadata": {
        "colab": {
          "base_uri": "https://localhost:8080/",
          "height": 617
        },
        "id": "CiQj9JzZXVGR",
        "outputId": "3b8d7236-fcc6-41dc-a6bd-f4ca3d058195"
      },
      "outputs": [
        {
          "name": "stdout",
          "output_type": "stream",
          "text": [
            "Loaded tables: \n"
          ]
        },
        {
          "data": {
            "text/plain": [
              "┌─────────────────────┐\n",
              "│        name         │\n",
              "│       varchar       │\n",
              "├─────────────────────┤\n",
              "│ _dlt_loads          │\n",
              "│ _dlt_pipeline_state │\n",
              "│ _dlt_version        │\n",
              "│ people              │\n",
              "└─────────────────────┘"
            ]
          },
          "metadata": {},
          "output_type": "display_data"
        },
        {
          "name": "stdout",
          "output_type": "stream",
          "text": [
            "\n",
            "\n",
            "\n",
            " All data:\n"
          ]
        },
        {
          "data": {
            "text/plain": [
              "┌───────┬──────────┬───────┬─────────┬───────────────────┬────────────────┐\n",
              "│  id   │   name   │  age  │  city   │   _dlt_load_id    │    _dlt_id     │\n",
              "│ int64 │ varchar  │ int64 │ varchar │      varchar      │    varchar     │\n",
              "├───────┼──────────┼───────┼─────────┼───────────────────┼────────────────┤\n",
              "│     1 │ Person_1 │    26 │ City_A  │ 1707460853.349079 │ 4X3zkoE+mtPNxg │\n",
              "│     2 │ Person_2 │    27 │ City_A  │ 1707460853.349079 │ acew6cUl+YESDg │\n",
              "│     3 │ Person_3 │    28 │ City_A  │ 1707460853.349079 │ 0Sa386wztERX/w │\n",
              "│     4 │ Person_4 │    29 │ City_A  │ 1707460853.349079 │ o0urT/SSjWzqiA │\n",
              "│     5 │ Person_5 │    30 │ City_A  │ 1707460853.349079 │ yrFH/6/7mtgU/Q │\n",
              "└───────┴──────────┴───────┴─────────┴───────────────────┴────────────────┘"
            ]
          },
          "metadata": {},
          "output_type": "display_data"
        },
        {
          "name": "stdout",
          "output_type": "stream",
          "text": [
            "\n",
            "\n",
            "\n",
            " Cumulative age of all people:\n"
          ]
        },
        {
          "data": {
            "text/plain": [
              "┌────────────────┐\n",
              "│ cumulative_age │\n",
              "│     int128     │\n",
              "├────────────────┤\n",
              "│            140 │\n",
              "└────────────────┘"
            ]
          },
          "metadata": {},
          "output_type": "display_data"
        }
      ],
      "source": [
        "import duckdb\n",
        "\n",
        "conn = duckdb.connect(f\"{gen_pipeline.pipeline_name}.duckdb\")\n",
        "\n",
        "conn.sql(f\"SET search_path = '{gen_pipeline.dataset_name}'\")\n",
        "print('Loaded tables: ')\n",
        "display(conn.sql(\"show tables\"))\n",
        "\n",
        "print('\\n\\n\\n All data:')\n",
        "display(conn.sql(\"select * from people\"))\n",
        "\n",
        "\n",
        "print('\\n\\n\\n Cumulative age of all people:')\n",
        "display(conn.sql(\"select sum(age) cumulative_age from people\"))"
      ]
    },
    {
      "cell_type": "markdown",
      "metadata": {
        "id": "WvLLwfYRaBzk"
      },
      "source": [
        "### Second generator load and append"
      ]
    },
    {
      "cell_type": "code",
      "execution_count": 13,
      "metadata": {
        "colab": {
          "base_uri": "https://localhost:8080/"
        },
        "id": "bZ6Tm13yXU-c",
        "outputId": "832cb09f-feea-4663-b57c-5ddf36e7ff54"
      },
      "outputs": [
        {
          "data": {
            "text/plain": [
              "LoadInfo(pipeline=<dlt.pipeline.pipeline.Pipeline object at 0x000001D61B834B90>, metrics={'1707460857.7760403': [{'started_at': DateTime(2024, 2, 9, 6, 40, 58, 193595, tzinfo=Timezone('UTC')), 'finished_at': DateTime(2024, 2, 9, 6, 40, 58, 502407, tzinfo=Timezone('UTC'))}]}, destination_type='dlt.destinations.duckdb', destination_displayable_credentials='duckdb:///e:\\\\Development\\\\Git_Repos\\\\DEZ-2024-Homeworks\\\\Workshop_1\\\\dlt_ipykernel_launcher.duckdb', destination_name='duckdb', environment=None, staging_type=None, staging_name=None, staging_displayable_credentials=None, destination_fingerprint='', dataset_name='gen_one', loads_ids=['1707460857.7760403'], load_packages=[LoadPackageInfo(load_id='1707460857.7760403', package_path='C:\\\\Users\\\\saifk\\\\.dlt\\\\pipelines\\\\dlt_ipykernel_launcher\\\\load\\\\loaded\\\\1707460857.7760403', state='loaded', schema=Schema dlt_ipykernel_launcher at 2019103323920, schema_update={'people': {'name': 'people', 'columns': {'occupation': {'name': 'occupation', 'data_type': 'text', 'nullable': True}}, 'write_disposition': 'append', 'resource': 'people', 'table_format': None}}, completed_at=DateTime(2024, 2, 9, 6, 40, 58, 485922, tzinfo=Timezone('UTC')), jobs={'started_jobs': [], 'failed_jobs': [], 'new_jobs': [], 'completed_jobs': [LoadJobInfo(state='completed_jobs', file_path='C:\\\\Users\\\\saifk\\\\.dlt\\\\pipelines\\\\dlt_ipykernel_launcher\\\\load\\\\loaded\\\\1707460857.7760403\\\\completed_jobs\\\\people.d25e5326e4.0.insert_values', file_size=326, created_at=DateTime(2024, 2, 9, 6, 40, 57, 838618, tzinfo=Timezone('UTC')), elapsed=0.6473038196563721, job_file_info=ParsedLoadJobFileName(table_name='people', file_id='d25e5326e4', retry_count=0, file_format='insert_values'), failed_message=None)]})], first_run=False)"
            ]
          },
          "execution_count": 13,
          "metadata": {},
          "output_type": "execute_result"
        }
      ],
      "source": [
        "info2=gen_pipeline.run(\n",
        "    people_2(),\n",
        "    table_name='people',\n",
        "    write_disposition='append'\n",
        ")\n",
        "\n",
        "info2"
      ]
    },
    {
      "cell_type": "markdown",
      "metadata": {
        "id": "6NHyQi92awUF"
      },
      "source": [
        "#### Checking data after loading secodn generator"
      ]
    },
    {
      "cell_type": "code",
      "execution_count": 14,
      "metadata": {
        "colab": {
          "base_uri": "https://localhost:8080/",
          "height": 581
        },
        "id": "qHn3CmWya0ww",
        "outputId": "4a81b0a0-510f-4961-b6f1-aa836f579bf9"
      },
      "outputs": [
        {
          "name": "stdout",
          "output_type": "stream",
          "text": [
            "\n",
            "\n",
            "\n",
            " All data:\n"
          ]
        },
        {
          "data": {
            "text/plain": [
              "┌───────┬──────────┬───────┬─────────┬────────────────────┬────────────────┬────────────┐\n",
              "│  id   │   name   │  age  │  city   │    _dlt_load_id    │    _dlt_id     │ occupation │\n",
              "│ int64 │ varchar  │ int64 │ varchar │      varchar       │    varchar     │  varchar   │\n",
              "├───────┼──────────┼───────┼─────────┼────────────────────┼────────────────┼────────────┤\n",
              "│     1 │ Person_1 │    26 │ City_A  │ 1707460853.349079  │ 4X3zkoE+mtPNxg │ NULL       │\n",
              "│     2 │ Person_2 │    27 │ City_A  │ 1707460853.349079  │ acew6cUl+YESDg │ NULL       │\n",
              "│     3 │ Person_3 │    28 │ City_A  │ 1707460853.349079  │ 0Sa386wztERX/w │ NULL       │\n",
              "│     4 │ Person_4 │    29 │ City_A  │ 1707460853.349079  │ o0urT/SSjWzqiA │ NULL       │\n",
              "│     5 │ Person_5 │    30 │ City_A  │ 1707460853.349079  │ yrFH/6/7mtgU/Q │ NULL       │\n",
              "│     3 │ Person_3 │    33 │ City_B  │ 1707460857.7760403 │ aUISf706t84VTw │ Job_3      │\n",
              "│     4 │ Person_4 │    34 │ City_B  │ 1707460857.7760403 │ kT1I1+BFBHUMWw │ Job_4      │\n",
              "│     5 │ Person_5 │    35 │ City_B  │ 1707460857.7760403 │ 8VJ1XzjVHOpLtg │ Job_5      │\n",
              "│     6 │ Person_6 │    36 │ City_B  │ 1707460857.7760403 │ UoJblliObufLDw │ Job_6      │\n",
              "│     7 │ Person_7 │    37 │ City_B  │ 1707460857.7760403 │ tkG3NqUeRcEJkw │ Job_7      │\n",
              "│     8 │ Person_8 │    38 │ City_B  │ 1707460857.7760403 │ F6yz0b+cHSNiuA │ Job_8      │\n",
              "├───────┴──────────┴───────┴─────────┴────────────────────┴────────────────┴────────────┤\n",
              "│ 11 rows                                                                     7 columns │\n",
              "└───────────────────────────────────────────────────────────────────────────────────────┘"
            ]
          },
          "metadata": {},
          "output_type": "display_data"
        },
        {
          "name": "stdout",
          "output_type": "stream",
          "text": [
            "\n",
            "\n",
            "\n",
            " Cumulative age of all people:\n"
          ]
        },
        {
          "data": {
            "text/plain": [
              "┌────────────────┐\n",
              "│ cumulative_age │\n",
              "│     int128     │\n",
              "├────────────────┤\n",
              "│            353 │\n",
              "└────────────────┘"
            ]
          },
          "metadata": {},
          "output_type": "display_data"
        }
      ],
      "source": [
        "print('\\n\\n\\n All data:')\n",
        "display(conn.sql(\"select * from people\"))\n",
        "\n",
        "\n",
        "print('\\n\\n\\n Cumulative age of all people:')\n",
        "display(conn.sql(\"select sum(age) cumulative_age from people\"))"
      ]
    },
    {
      "cell_type": "markdown",
      "metadata": {
        "id": "QifwDaGWa8ll"
      },
      "source": [
        "> Answer: 353"
      ]
    },
    {
      "cell_type": "markdown",
      "metadata": {
        "id": "soRF28IIa-y0"
      },
      "source": [
        "### Q4"
      ]
    },
    {
      "cell_type": "markdown",
      "metadata": {
        "id": "iJh5BEb5brIg"
      },
      "source": [
        "#### Load data from both generator and merge"
      ]
    },
    {
      "cell_type": "code",
      "execution_count": 15,
      "metadata": {
        "colab": {
          "base_uri": "https://localhost:8080/"
        },
        "id": "QyRMIsO5bxYy",
        "outputId": "fb3df70f-75ee-40cc-e166-73d9a57704c8"
      },
      "outputs": [
        {
          "name": "stdout",
          "output_type": "stream",
          "text": [
            "Pipeline dlt_ipykernel_launcher load step completed in 0.31 seconds\n",
            "1 load package(s) were loaded to destination duckdb and into dataset gen_one\n",
            "The duckdb destination used duckdb:///e:\\Development\\Git_Repos\\DEZ-2024-Homeworks\\Workshop_1\\dlt_ipykernel_launcher.duckdb location to store data\n",
            "Load package 1707460862.8530672 is LOADED and contains no failed jobs\n",
            "Pipeline dlt_ipykernel_launcher load step completed in 0.52 seconds\n",
            "1 load package(s) were loaded to destination duckdb and into dataset gen_one\n",
            "The duckdb destination used duckdb:///e:\\Development\\Git_Repos\\DEZ-2024-Homeworks\\Workshop_1\\dlt_ipykernel_launcher.duckdb location to store data\n",
            "Load package 1707460863.6139798 is LOADED and contains no failed jobs\n"
          ]
        }
      ],
      "source": [
        "info3=gen_pipeline.run(\n",
        "    people_1(),\n",
        "    table_name='people_merged',\n",
        "    write_disposition='replace',\n",
        "    primary_key='id'\n",
        ")\n",
        "\n",
        "print(info3)\n",
        "\n",
        "info4=gen_pipeline.run(\n",
        "    people_2(),\n",
        "    table_name='people_merged',\n",
        "    write_disposition='merge',\n",
        "    primary_key='id'\n",
        ")\n",
        "\n",
        "print(info4)\n"
      ]
    },
    {
      "cell_type": "markdown",
      "metadata": {
        "id": "9W1KiFv6cPbX"
      },
      "source": [
        "#### Check the tables"
      ]
    },
    {
      "cell_type": "code",
      "execution_count": 16,
      "metadata": {
        "colab": {
          "base_uri": "https://localhost:8080/",
          "height": 493
        },
        "id": "sKogOe9mcZCP",
        "outputId": "8ff88808-7abb-4cb7-b941-ccea05e2573b"
      },
      "outputs": [
        {
          "name": "stdout",
          "output_type": "stream",
          "text": [
            "\n",
            "\n",
            "\n",
            " All data:\n"
          ]
        },
        {
          "data": {
            "text/plain": [
              "┌───────┬──────────┬───────┬─────────┬────────────────────┬────────────────┬────────────┐\n",
              "│  id   │   name   │  age  │  city   │    _dlt_load_id    │    _dlt_id     │ occupation │\n",
              "│ int64 │ varchar  │ int64 │ varchar │      varchar       │    varchar     │  varchar   │\n",
              "├───────┼──────────┼───────┼─────────┼────────────────────┼────────────────┼────────────┤\n",
              "│     1 │ Person_1 │    26 │ City_A  │ 1707460862.8530672 │ PtCzrGhnFOuVww │ NULL       │\n",
              "│     2 │ Person_2 │    27 │ City_A  │ 1707460862.8530672 │ vyreobiAyG6Y5w │ NULL       │\n",
              "│     7 │ Person_7 │    37 │ City_B  │ 1707460863.6139798 │ DbVOpibnpv5sOA │ Job_7      │\n",
              "│     4 │ Person_4 │    34 │ City_B  │ 1707460863.6139798 │ kbfKPTBK9YVIbA │ Job_4      │\n",
              "│     8 │ Person_8 │    38 │ City_B  │ 1707460863.6139798 │ 7PL1kWSfF1vgUA │ Job_8      │\n",
              "│     3 │ Person_3 │    33 │ City_B  │ 1707460863.6139798 │ PO5xPzupqULKiQ │ Job_3      │\n",
              "│     6 │ Person_6 │    36 │ City_B  │ 1707460863.6139798 │ nP5ZVLstlXHGlw │ Job_6      │\n",
              "│     5 │ Person_5 │    35 │ City_B  │ 1707460863.6139798 │ 5QC0FGcJWpghaA │ Job_5      │\n",
              "└───────┴──────────┴───────┴─────────┴────────────────────┴────────────────┴────────────┘"
            ]
          },
          "metadata": {},
          "output_type": "display_data"
        },
        {
          "name": "stdout",
          "output_type": "stream",
          "text": [
            "\n",
            "\n",
            "\n",
            " Cumulative age of all people:\n"
          ]
        },
        {
          "data": {
            "text/plain": [
              "┌────────────────┐\n",
              "│ cumulative_age │\n",
              "│     int128     │\n",
              "├────────────────┤\n",
              "│            266 │\n",
              "└────────────────┘"
            ]
          },
          "metadata": {},
          "output_type": "display_data"
        }
      ],
      "source": [
        "print('\\n\\n\\n All data:')\n",
        "display(conn.sql(\"select * from people_merged\"))\n",
        "\n",
        "\n",
        "print('\\n\\n\\n Cumulative age of all people:')\n",
        "display(conn.sql(\"select sum(age) cumulative_age from people_merged\"))"
      ]
    },
    {
      "cell_type": "markdown",
      "metadata": {
        "id": "42RfudjScuxm"
      },
      "source": [
        "> Answer: 266"
      ]
    },
    {
      "cell_type": "code",
      "execution_count": null,
      "metadata": {
        "id": "-4cNQgI9cwP8"
      },
      "outputs": [],
      "source": []
    }
  ],
  "metadata": {
    "colab": {
      "provenance": []
    },
    "kernelspec": {
      "display_name": "Python 3",
      "name": "python3"
    },
    "language_info": {
      "codemirror_mode": {
        "name": "ipython",
        "version": 3
      },
      "file_extension": ".py",
      "mimetype": "text/x-python",
      "name": "python",
      "nbconvert_exporter": "python",
      "pygments_lexer": "ipython3",
      "version": "3.12.0"
    }
  },
  "nbformat": 4,
  "nbformat_minor": 0
}
